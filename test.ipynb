{
 "cells": [
  {
   "cell_type": "code",
   "execution_count": 2,
   "metadata": {},
   "outputs": [
    {
     "name": "stdout",
     "output_type": "stream",
     "text": [
      "Data loaded\n",
      "Please note that `empty_sequence` uses the KL divergence with Barnes-Hut approximation (angle=0.5) by default.\n",
      "Sequence defined\n",
      "[[-2.0058984e-05  7.1462935e-05]\n",
      " [-1.5478807e-05  2.9428158e-05]\n",
      " [-8.8770736e-05  1.9175363e-04]\n",
      " ...\n",
      " [-4.2159012e-05 -1.2194294e-05]\n",
      " [-2.6598855e-05 -5.1154544e-05]\n",
      " [-1.0723040e-05 -4.6191377e-05]]\n",
      "[[-2.0058984e-05  7.1462935e-05]\n",
      " [-1.5478807e-05  2.9428158e-05]\n",
      " [-8.8770736e-05  1.9175363e-04]\n",
      " ...\n",
      " [-4.2159012e-05 -1.2194294e-05]\n",
      " [-2.6598855e-05 -5.1154544e-05]\n",
      " [-1.0723040e-05 -4.6191377e-05]]\n",
      "[HyperbolicTSNE] Received iterable as input. It should have len=2 and contain (D=None, V=None)\n",
      "[hd_mat] Warning: There is nothing to do with given parameters. Returning given D and V\n",
      "Running Gradient Descent, Verbosity: True\n",
      "[gradient_descent] Warning!: because of logging, the cf will be computed at every iteration\n"
     ]
    },
    {
     "name": "stderr",
     "output_type": "stream",
     "text": [
      "Gradient Descent error: 110.33070 grad_norm: 3.04988e-01:   0%|          | 0/250 [00:00<?, ?it/s]"
     ]
    },
    {
     "name": "stdout",
     "output_type": "stream",
     "text": [
      "[GRID] start\n",
      "[GRID] Init:  0.499267578125 ms\n",
      "[GRID] Indices:  0.0 ms\n",
      "[GRID] Counts:  0.0 ms\n",
      "[GRID] Starts, counts:  0.0 ms\n",
      "[GRID] Starts, counts:  0.0 ms\n",
      "[GRID] Average positions:  35.441650390625 ms\n",
      "[GRID] Max distances:  1.497314453125 ms\n",
      "[GRID] new points:  0.0 ms\n",
      "[UG] Grid generation:  0.03793835639953613 seconds\n",
      "[UG] Mem alloc:  0.000499725341796875 seconds\n",
      "[UG] Mem copy:  0.0009984970092773438 seconds\n",
      "[UG] Run:  0.003993988037109375 seconds\n",
      "[UG] Copy back:  0.01647329330444336 seconds\n",
      "[UG] Total:  0.09734320640563965 seconds\n",
      "[UG] neg_f:  0.098 s\n",
      "[UG] pos_f:  0.078 s\n",
      "[UG] applying forces:  0.02 s\n"
     ]
    },
    {
     "name": "stderr",
     "output_type": "stream",
     "text": [
      "Gradient Descent error: 110.33070 grad_norm: 3.04988e-01:   0%|          | 1/250 [00:00<01:23,  3.00it/s]"
     ]
    },
    {
     "name": "stdout",
     "output_type": "stream",
     "text": [
      "[GRID] start\n",
      "[GRID] Init:  0.515869140625 ms\n",
      "[GRID] Indices:  0.0 ms\n",
      "[GRID] Counts:  0.4794921875 ms\n",
      "[GRID] Starts, counts:  0.0 ms\n",
      "[GRID] Starts, counts:  0.0 ms\n",
      "[GRID] Average positions:  24.978271484375 ms\n",
      "[GRID] Max distances:  0.99853515625 ms\n",
      "[GRID] new points:  0.0 ms\n",
      "[UG] Grid generation:  0.026972293853759766 seconds\n",
      "[UG] Mem alloc:  0.0 seconds\n",
      "[UG] Mem copy:  0.0009808540344238281 seconds\n",
      "[UG] Run:  0.0 seconds\n",
      "[UG] Copy back:  0.017969131469726562 seconds\n",
      "[UG] Total:  0.045922279357910156 seconds\n",
      "[UG] neg_f:  0.046 s\n",
      "[UG] pos_f:  0.134 s\n",
      "[UG] applying forces:  0.019 s\n"
     ]
    },
    {
     "name": "stderr",
     "output_type": "stream",
     "text": [
      "Gradient Descent error: 110.32226 grad_norm: 5.98359e-01:   1%|          | 2/250 [00:00<01:23,  2.97it/s]"
     ]
    },
    {
     "name": "stdout",
     "output_type": "stream",
     "text": [
      "[GRID] start\n",
      "[GRID] Init:  0.498291015625 ms\n",
      "[GRID] Indices:  0.0 ms\n",
      "[GRID] Counts:  0.0 ms\n",
      "[GRID] Starts, counts:  0.0 ms\n",
      "[GRID] Starts, counts:  0.0 ms\n",
      "[GRID] Average positions:  18.96923828125 ms\n",
      "[GRID] Max distances:  0.998291015625 ms\n",
      "[GRID] new points:  0.0 ms\n",
      "[UG] Grid generation:  0.020465850830078125 seconds\n",
      "[UG] Mem alloc:  0.0 seconds\n",
      "[UG] Mem copy:  0.0009982585906982422 seconds\n",
      "[UG] Run:  0.0 seconds\n",
      "[UG] Copy back:  0.023463010787963867 seconds\n",
      "[UG] Total:  0.044927120208740234 seconds\n",
      "[UG] neg_f:  0.045 s\n",
      "[UG] pos_f:  0.059000000000000004 s\n",
      "[UG] applying forces:  0.02 s\n"
     ]
    },
    {
     "name": "stderr",
     "output_type": "stream",
     "text": [
      "Gradient Descent error: 110.32136 grad_norm: 5.91228e-01:   1%|          | 3/250 [00:01<01:14,  3.29it/s]"
     ]
    },
    {
     "name": "stdout",
     "output_type": "stream",
     "text": [
      "[GRID] start\n",
      "[GRID] Init:  1.000732421875 ms\n",
      "[GRID] Indices:  0.0 ms\n",
      "[GRID] Counts:  0.0 ms\n",
      "[GRID] Starts, counts:  0.0 ms\n",
      "[GRID] Starts, counts:  0.0 ms\n",
      "[GRID] Average positions:  21.96142578125 ms\n",
      "[GRID] Max distances:  0.9990234375 ms\n",
      "[GRID] new points:  0.0 ms\n",
      "[UG] Grid generation:  0.024460554122924805 seconds\n",
      "[UG] Mem alloc:  0.0 seconds\n",
      "[UG] Mem copy:  0.0010030269622802734 seconds\n",
      "[UG] Run:  0.0 seconds\n",
      "[UG] Copy back:  0.033440351486206055 seconds\n",
      "[UG] Total:  0.05890393257141113 seconds\n",
      "[UG] neg_f:  0.059000000000000004 s\n",
      "[UG] pos_f:  0.06 s\n",
      "[UG] applying forces:  0.019 s\n"
     ]
    },
    {
     "name": "stderr",
     "output_type": "stream",
     "text": [
      "Gradient Descent error: 110.30560 grad_norm: 6.17422e-01:   2%|▏         | 4/250 [00:01<01:13,  3.34it/s]"
     ]
    },
    {
     "name": "stdout",
     "output_type": "stream",
     "text": [
      "[GRID] start\n",
      "[GRID] Init:  0.4990234375 ms\n",
      "[GRID] Indices:  0.499267578125 ms\n",
      "[GRID] Counts:  0.0 ms\n",
      "[GRID] Starts, counts:  0.0 ms\n",
      "[GRID] Starts, counts:  0.0 ms\n",
      "[GRID] Average positions:  31.9501953125 ms\n",
      "[GRID] Max distances:  0.99658203125 ms\n",
      "[GRID] new points:  0.0 ms\n",
      "[UG] Grid generation:  0.03394484519958496 seconds\n",
      "[UG] Mem alloc:  0.0 seconds\n",
      "[UG] Mem copy:  0.0004992485046386719 seconds\n",
      "[UG] Run:  0.0 seconds\n",
      "[UG] Copy back:  0.03045058250427246 seconds\n",
      "[UG] Total:  0.0648946762084961 seconds\n",
      "[UG] neg_f:  0.065 s\n",
      "[UG] pos_f:  0.089 s\n",
      "[UG] applying forces:  0.019 s\n"
     ]
    },
    {
     "name": "stderr",
     "output_type": "stream",
     "text": [
      "Gradient Descent error: 110.32292 grad_norm: 6.02692e-01:   2%|▏         | 5/250 [00:01<01:15,  3.23it/s]"
     ]
    },
    {
     "name": "stdout",
     "output_type": "stream",
     "text": [
      "[GRID] start\n",
      "[GRID] Init:  0.0 ms\n",
      "[GRID] Indices:  0.0 ms\n",
      "[GRID] Counts:  0.0 ms\n",
      "[GRID] Starts, counts:  0.0 ms\n",
      "[GRID] Starts, counts:  0.0 ms\n",
      "[GRID] Average positions:  33.946044921875 ms\n",
      "[GRID] Max distances:  0.997802734375 ms\n",
      "[GRID] new points:  0.0 ms\n",
      "[UG] Grid generation:  0.03644561767578125 seconds\n",
      "[UG] Mem alloc:  0.0 seconds\n",
      "[UG] Mem copy:  0.0004937648773193359 seconds\n",
      "[UG] Run:  0.0 seconds\n",
      "[UG] Copy back:  0.03394603729248047 seconds\n",
      "[UG] Total:  0.07088541984558105 seconds\n",
      "[UG] neg_f:  0.07100000000000001 s\n",
      "[UG] pos_f:  0.077 s\n",
      "[UG] applying forces:  0.016 s\n"
     ]
    },
    {
     "name": "stderr",
     "output_type": "stream",
     "text": [
      "Gradient Descent error: 110.32320 grad_norm: 6.12120e-01:   2%|▏         | 6/250 [00:02<01:15,  3.23it/s]"
     ]
    },
    {
     "name": "stdout",
     "output_type": "stream",
     "text": [
      "[GRID] start\n",
      "[GRID] Init:  0.49853515625 ms\n",
      "[GRID] Indices:  0.0 ms\n",
      "[GRID] Counts:  0.0 ms\n",
      "[GRID] Starts, counts:  0.0 ms\n",
      "[GRID] Starts, counts:  0.5 ms\n",
      "[GRID] Average positions:  19.9677734375 ms\n",
      "[GRID] Max distances:  0.9990234375 ms\n",
      "[GRID] new points:  0.0 ms\n",
      "[UG] Grid generation:  0.02196526527404785 seconds\n",
      "[UG] Mem alloc:  0.0 seconds\n",
      "[UG] Mem copy:  0.0009984970092773438 seconds\n",
      "[UG] Run:  0.0 seconds\n",
      "[UG] Copy back:  0.027454376220703125 seconds\n",
      "[UG] Total:  0.05091691017150879 seconds\n",
      "[UG] neg_f:  0.051000000000000004 s\n",
      "[UG] pos_f:  0.088 s\n",
      "[UG] applying forces:  0.018000000000000002 s\n"
     ]
    },
    {
     "name": "stderr",
     "output_type": "stream",
     "text": [
      "Gradient Descent error: 110.32195 grad_norm: 6.08041e-01:   3%|▎         | 7/250 [00:02<01:14,  3.25it/s]"
     ]
    },
    {
     "name": "stdout",
     "output_type": "stream",
     "text": [
      "[GRID] start\n",
      "[GRID] Init:  0.0 ms\n",
      "[GRID] Indices:  0.49951171875 ms\n",
      "[GRID] Counts:  0.0 ms\n",
      "[GRID] Starts, counts:  0.0 ms\n",
      "[GRID] Starts, counts:  0.0 ms\n",
      "[GRID] Average positions:  40.433349609375 ms\n",
      "[GRID] Max distances:  1.49755859375 ms\n",
      "[GRID] new points:  0.0 ms\n",
      "[UG] Grid generation:  0.04292464256286621 seconds\n",
      "[UG] Mem alloc:  0.0 seconds\n",
      "[UG] Mem copy:  0.0004985332489013672 seconds\n",
      "[UG] Run:  0.0004999637603759766 seconds\n",
      "[UG] Copy back:  0.0489199161529541 seconds\n",
      "[UG] Total:  0.09284305572509766 seconds\n",
      "[UG] neg_f:  0.093 s\n",
      "[UG] pos_f:  0.058 s\n",
      "[UG] applying forces:  0.02 s\n"
     ]
    },
    {
     "name": "stderr",
     "output_type": "stream",
     "text": [
      "Gradient Descent error: 110.32490 grad_norm: 6.08000e-01:   3%|▎         | 8/250 [00:02<01:15,  3.22it/s]"
     ]
    },
    {
     "name": "stdout",
     "output_type": "stream",
     "text": [
      "[GRID] start\n",
      "[GRID] Init:  0.0 ms\n",
      "[GRID] Indices:  0.4990234375 ms\n",
      "[GRID] Counts:  0.0 ms\n",
      "[GRID] Starts, counts:  0.0 ms\n",
      "[GRID] Starts, counts:  0.0 ms\n",
      "[GRID] Average positions:  26.456787109375 ms\n",
      "[GRID] Max distances:  0.998046875 ms\n",
      "[GRID] new points:  0.0 ms\n",
      "[UG] Grid generation:  0.028453588485717773 seconds\n",
      "[UG] Mem alloc:  0.0 seconds\n",
      "[UG] Mem copy:  0.0009980201721191406 seconds\n",
      "[UG] Run:  0.0 seconds\n",
      "[UG] Copy back:  0.03195929527282715 seconds\n",
      "[UG] Total:  0.06141090393066406 seconds\n",
      "[UG] neg_f:  0.062 s\n",
      "[UG] pos_f:  0.065 s\n",
      "[UG] applying forces:  0.02 s\n"
     ]
    },
    {
     "name": "stderr",
     "output_type": "stream",
     "text": [
      "Gradient Descent error: 110.32490 grad_norm: 6.08000e-01:   4%|▎         | 9/250 [00:02<01:12,  3.32it/s]"
     ]
    },
    {
     "name": "stdout",
     "output_type": "stream",
     "text": [
      "[GRID] start\n",
      "[GRID] Init:  0.4990234375 ms\n",
      "[GRID] Indices:  0.0 ms\n",
      "[GRID] Counts:  0.0 ms\n",
      "[GRID] Starts, counts:  0.0 ms\n",
      "[GRID] Starts, counts:  0.0 ms\n",
      "[GRID] Average positions:  21.4638671875 ms\n",
      "[GRID] Max distances:  0.99853515625 ms\n",
      "[GRID] new points:  0.0 ms\n",
      "[UG] Grid generation:  0.02296137809753418 seconds\n",
      "[UG] Mem alloc:  0.0 seconds\n",
      "[UG] Mem copy:  0.0009987354278564453 seconds\n",
      "[UG] Run:  0.0 seconds\n",
      "[UG] Copy back:  0.05641031265258789 seconds\n",
      "[UG] Total:  0.08037042617797852 seconds\n",
      "[UG] neg_f:  0.081 s\n",
      "[UG] pos_f:  0.11 s\n",
      "[UG] applying forces:  0.02 s\n"
     ]
    },
    {
     "name": "stderr",
     "output_type": "stream",
     "text": [
      "Gradient Descent error: 110.32401 grad_norm: 6.11164e-01:   4%|▍         | 10/250 [00:03<01:16,  3.15it/s]"
     ]
    },
    {
     "name": "stdout",
     "output_type": "stream",
     "text": [
      "[GRID] start\n",
      "[GRID] Init:  0.500244140625 ms\n",
      "[GRID] Indices:  0.0 ms\n",
      "[GRID] Counts:  0.0 ms\n",
      "[GRID] Starts, counts:  0.0 ms\n",
      "[GRID] Starts, counts:  0.0 ms\n",
      "[GRID] Average positions:  23.4609375 ms\n",
      "[GRID] Max distances:  0.99853515625 ms\n",
      "[GRID] new points:  0.0 ms\n",
      "[UG] Grid generation:  0.02545905113220215 seconds\n",
      "[UG] Mem alloc:  0.0 seconds\n",
      "[UG] Mem copy:  0.0004992485046386719 seconds\n",
      "[UG] Run:  0.0004992485046386719 seconds\n",
      "[UG] Copy back:  0.03793954849243164 seconds\n",
      "[UG] Total:  0.06439709663391113 seconds\n",
      "[UG] neg_f:  0.064 s\n",
      "[UG] pos_f:  0.069 s\n",
      "[UG] applying forces:  0.016 s\n"
     ]
    },
    {
     "name": "stderr",
     "output_type": "stream",
     "text": [
      "Gradient Descent error: 110.32401 grad_norm: 6.11164e-01:   4%|▍         | 11/250 [00:03<01:14,  3.21it/s]"
     ]
    },
    {
     "name": "stdout",
     "output_type": "stream",
     "text": [
      "[GRID] start\n",
      "[GRID] Init:  0.499267578125 ms\n",
      "[GRID] Indices:  0.0 ms\n",
      "[GRID] Counts:  0.0 ms\n",
      "[GRID] Starts, counts:  0.0 ms\n",
      "[GRID] Starts, counts:  0.0 ms\n",
      "[GRID] Average positions:  25.95849609375 ms\n",
      "[GRID] Max distances:  0.998046875 ms\n",
      "[GRID] new points:  0.0 ms\n",
      "[UG] Grid generation:  0.027455806732177734 seconds\n",
      "[UG] Mem alloc:  0.0 seconds\n",
      "[UG] Mem copy:  0.0009984970092773438 seconds\n",
      "[UG] Run:  0.0 seconds\n",
      "[UG] Copy back:  0.11481499671936035 seconds\n",
      "[UG] Total:  0.1437690258026123 seconds\n",
      "[UG] neg_f:  0.14300000000000002 s\n"
     ]
    },
    {
     "name": "stderr",
     "output_type": "stream",
     "text": [
      "Gradient Descent error: 110.32674 grad_norm: 6.11466e-01:   5%|▍         | 12/250 [00:03<01:18,  3.01it/s]"
     ]
    },
    {
     "name": "stdout",
     "output_type": "stream",
     "text": [
      "[UG] pos_f:  0.08 s\n",
      "[UG] applying forces:  0.019 s\n",
      "[GRID] start\n",
      "[GRID] Init:  0.0 ms\n",
      "[GRID] Indices:  0.0 ms\n",
      "[GRID] Counts:  0.0 ms\n",
      "[GRID] Starts, counts:  0.0 ms\n",
      "[GRID] Starts, counts:  0.0 ms\n",
      "[GRID] Average positions:  29.45263671875 ms\n",
      "[GRID] Max distances:  1.017333984375 ms\n",
      "[GRID] new points:  0.0 ms\n",
      "[UG] Grid generation:  0.030969619750976562 seconds\n",
      "[UG] Mem alloc:  0.0 seconds\n",
      "[UG] Mem copy:  0.0009799003601074219 seconds\n",
      "[UG] Run:  0.0 seconds\n",
      "[UG] Copy back:  0.03594255447387695 seconds\n",
      "[UG] Total:  0.06789207458496094 seconds\n",
      "[UG] neg_f:  0.068 s\n"
     ]
    },
    {
     "name": "stderr",
     "output_type": "stream",
     "text": [
      "Gradient Descent error: 110.32942 grad_norm: 6.10979e-01:   5%|▌         | 13/250 [00:04<01:16,  3.09it/s]"
     ]
    },
    {
     "name": "stdout",
     "output_type": "stream",
     "text": [
      "[UG] pos_f:  0.078 s\n",
      "[UG] applying forces:  0.017 s\n",
      "[GRID] start\n",
      "[GRID] Init:  0.500244140625 ms\n",
      "[GRID] Indices:  0.0 ms\n",
      "[GRID] Counts:  0.0 ms\n",
      "[GRID] Starts, counts:  0.0 ms\n",
      "[GRID] Starts, counts:  0.0 ms\n",
      "[GRID] Average positions:  21.963623046875 ms\n",
      "[GRID] Max distances:  0.998779296875 ms\n",
      "[GRID] new points:  0.0 ms\n",
      "[UG] Grid generation:  0.023462533950805664 seconds\n",
      "[UG] Mem alloc:  0.0 seconds\n",
      "[UG] Mem copy:  0.0009982585906982422 seconds\n",
      "[UG] Run:  0.0 seconds\n"
     ]
    },
    {
     "name": "stderr",
     "output_type": "stream",
     "text": [
      "Gradient Descent error: 110.32669 grad_norm: 6.13267e-01:   5%|▌         | 13/250 [00:04<01:16,  3.09it/s]"
     ]
    },
    {
     "name": "stdout",
     "output_type": "stream",
     "text": [
      "[UG] Copy back:  0.052915334701538086 seconds\n",
      "[UG] Total:  0.07787537574768066 seconds\n",
      "[UG] neg_f:  0.078 s\n",
      "[UG] pos_f:  0.098 s\n",
      "[UG] applying forces:  0.018000000000000002 s\n"
     ]
    },
    {
     "name": "stderr",
     "output_type": "stream",
     "text": [
      "Gradient Descent error: 110.32419 grad_norm: 6.14644e-01:   6%|▌         | 14/250 [00:04<01:17,  3.04it/s]"
     ]
    },
    {
     "name": "stdout",
     "output_type": "stream",
     "text": [
      "[GRID] start\n",
      "[GRID] Init:  0.498779296875 ms\n",
      "[GRID] Indices:  0.0 ms\n",
      "[GRID] Counts:  0.0 ms\n",
      "[GRID] Starts, counts:  0.0 ms\n",
      "[GRID] Starts, counts:  0.0 ms\n",
      "[GRID] Average positions:  22.965087890625 ms\n",
      "[GRID] Max distances:  1.49658203125 ms\n",
      "[GRID] new points:  0.0 ms\n",
      "[UG] Grid generation:  0.02545952796936035 seconds\n",
      "[UG] Mem alloc:  0.0 seconds\n",
      "[UG] Mem copy:  0.0029947757720947266 seconds\n",
      "[UG] Run:  0.0 seconds\n",
      "[UG] Copy back:  0.034445762634277344 seconds\n",
      "[UG] Total:  0.06290006637573242 seconds\n",
      "[UG] neg_f:  0.063 s\n",
      "[UG] pos_f:  0.068 s\n",
      "[UG] applying forces:  0.019 s\n"
     ]
    },
    {
     "name": "stderr",
     "output_type": "stream",
     "text": [
      "Gradient Descent error: 110.32419 grad_norm: 6.14644e-01:   6%|▌         | 15/250 [00:04<01:14,  3.16it/s]"
     ]
    },
    {
     "name": "stdout",
     "output_type": "stream",
     "text": [
      "[GRID] start\n",
      "[GRID] Init:  0.496826171875 ms\n",
      "[GRID] Indices:  0.0 ms\n",
      "[GRID] Counts:  0.0 ms\n",
      "[GRID] Starts, counts:  0.0 ms\n",
      "[GRID] Starts, counts:  0.0 ms\n",
      "[GRID] Average positions:  24.463623046875 ms\n",
      "[GRID] Max distances:  0.997802734375 ms\n",
      "[GRID] new points:  0.0 ms\n",
      "[UG] Grid generation:  0.026454925537109375 seconds\n",
      "[UG] Mem alloc:  0.0 seconds\n",
      "[UG] Mem copy:  0.0010004043579101562 seconds\n",
      "[UG] Run:  0.0 seconds\n",
      "[UG] Copy back:  0.04043269157409668 seconds\n",
      "[UG] Total:  0.06788802146911621 seconds\n",
      "[UG] neg_f:  0.069 s\n",
      "[UG] pos_f:  0.1 s\n",
      "[UG] applying forces:  0.022 s\n"
     ]
    },
    {
     "name": "stderr",
     "output_type": "stream",
     "text": [
      "Gradient Descent error: 110.30999 grad_norm: 6.16538e-01:   6%|▋         | 16/250 [00:05<01:15,  3.12it/s]"
     ]
    },
    {
     "name": "stdout",
     "output_type": "stream",
     "text": [
      "[GRID] start\n",
      "[GRID] Init:  0.0 ms\n",
      "[GRID] Indices:  0.50048828125 ms\n",
      "[GRID] Counts:  0.0 ms\n",
      "[GRID] Starts, counts:  0.0 ms\n",
      "[GRID] Starts, counts:  0.0 ms\n",
      "[GRID] Average positions:  26.455810546875 ms\n",
      "[GRID] Max distances:  1.497802734375 ms\n",
      "[GRID] new points:  0.0 ms\n",
      "[UG] Grid generation:  0.028952836990356445 seconds\n",
      "[UG] Mem alloc:  0.0 seconds\n",
      "[UG] Mem copy:  0.0004980564117431641 seconds\n",
      "[UG] Run:  0.0 seconds\n",
      "[UG] Copy back:  0.026458263397216797 seconds\n",
      "[UG] Total:  0.05640888214111328 seconds\n",
      "[UG] neg_f:  0.056 s\n",
      "[UG] pos_f:  0.068 s\n",
      "[UG] applying forces:  0.019 s\n"
     ]
    },
    {
     "name": "stderr",
     "output_type": "stream",
     "text": [
      "Gradient Descent error: 110.32225 grad_norm: 6.16982e-01:   7%|▋         | 17/250 [00:05<01:12,  3.23it/s]"
     ]
    },
    {
     "name": "stdout",
     "output_type": "stream",
     "text": [
      "[GRID] start\n",
      "[GRID] Init:  0.506591796875 ms\n",
      "[GRID] Indices:  0.0 ms\n",
      "[GRID] Counts:  0.0 ms\n",
      "[GRID] Starts, counts:  0.0 ms\n",
      "[GRID] Starts, counts:  0.0 ms\n",
      "[GRID] Average positions:  19.958984375 ms\n",
      "[GRID] Max distances:  0.99951171875 ms\n",
      "[GRID] new points:  0.0 ms\n",
      "[UG] Grid generation:  0.021964550018310547 seconds\n",
      "[UG] Mem alloc:  0.0 seconds\n",
      "[UG] Mem copy:  0.003999948501586914 seconds\n",
      "[UG] Run:  0.0 seconds\n",
      "[UG] Copy back:  0.04991316795349121 seconds\n",
      "[UG] Total:  0.07587766647338867 seconds\n",
      "[UG] neg_f:  0.076 s\n",
      "[UG] pos_f:  0.08 s\n",
      "[UG] applying forces:  0.014 s\n"
     ]
    },
    {
     "name": "stderr",
     "output_type": "stream",
     "text": [
      "Gradient Descent error: 110.32391 grad_norm: 6.19565e-01:   7%|▋         | 18/250 [00:05<01:13,  3.14it/s]"
     ]
    },
    {
     "name": "stdout",
     "output_type": "stream",
     "text": [
      "[GRID] start\n",
      "[GRID] Init:  0.498779296875 ms\n",
      "[GRID] Indices:  0.0 ms\n",
      "[GRID] Counts:  0.0 ms\n",
      "[GRID] Starts, counts:  0.0 ms\n",
      "[GRID] Starts, counts:  0.0 ms\n",
      "[GRID] Average positions:  22.963134765625 ms\n",
      "[GRID] Max distances:  0.9990234375 ms\n",
      "[GRID] new points:  0.0 ms\n",
      "[UG] Grid generation:  0.024959564208984375 seconds\n",
      "[UG] Mem alloc:  0.0 seconds\n",
      "[UG] Mem copy:  0.0004992485046386719 seconds\n",
      "[UG] Run:  0.0004985332489013672 seconds\n",
      "[UG] Copy back:  0.03145003318786621 seconds\n",
      "[UG] Total:  0.057407379150390625 seconds\n",
      "[UG] neg_f:  0.057 s\n",
      "[UG] pos_f:  0.074 s\n",
      "[UG] applying forces:  0.021 s\n"
     ]
    },
    {
     "name": "stderr",
     "output_type": "stream",
     "text": [
      "Gradient Descent error: 110.32144 grad_norm: 6.19580e-01:   8%|▊         | 19/250 [00:06<01:12,  3.20it/s]"
     ]
    },
    {
     "name": "stdout",
     "output_type": "stream",
     "text": [
      "[GRID] start\n",
      "[GRID] Init:  1.996826171875 ms\n",
      "[GRID] Indices:  0.49853515625 ms\n",
      "[GRID] Counts:  0.0 ms\n",
      "[GRID] Starts, counts:  0.0 ms\n",
      "[GRID] Starts, counts:  0.0 ms\n",
      "[GRID] Average positions:  21.965576171875 ms\n",
      "[GRID] Max distances:  0.997802734375 ms\n",
      "[GRID] new points:  0.0 ms\n",
      "[UG] Grid generation:  0.025458812713623047 seconds\n",
      "[UG] Mem alloc:  0.0 seconds\n",
      "[UG] Mem copy:  0.0009980201721191406 seconds\n",
      "[UG] Run:  0.0 seconds\n",
      "[UG] Copy back:  0.05241537094116211 seconds\n",
      "[UG] Total:  0.0788722038269043 seconds\n",
      "[UG] neg_f:  0.079 s\n",
      "[UG] pos_f:  0.061 s\n",
      "[UG] applying forces:  0.023 s\n"
     ]
    },
    {
     "name": "stderr",
     "output_type": "stream",
     "text": [
      "Gradient Descent error: 110.32873 grad_norm: 6.21207e-01:   8%|▊         | 20/250 [00:06<01:10,  3.24it/s]"
     ]
    },
    {
     "name": "stdout",
     "output_type": "stream",
     "text": [
      "[GRID] start\n",
      "[GRID] Init:  0.5078125 ms\n",
      "[GRID] Indices:  0.0 ms\n",
      "[GRID] Counts:  0.0 ms\n",
      "[GRID] Starts, counts:  0.0 ms\n",
      "[GRID] Starts, counts:  0.0 ms\n",
      "[GRID] Average positions:  21.4541015625 ms\n",
      "[GRID] Max distances:  0.998291015625 ms\n",
      "[GRID] new points:  0.0 ms\n",
      "[UG] Grid generation:  0.022960424423217773 seconds\n",
      "[UG] Mem alloc:  0.0 seconds\n",
      "[UG] Mem copy:  0.000997781753540039 seconds\n",
      "[UG] Run:  0.0 seconds\n",
      "[UG] Copy back:  0.026471853256225586 seconds\n",
      "[UG] Total:  0.051415443420410156 seconds\n",
      "[UG] neg_f:  0.051000000000000004 s\n",
      "[UG] pos_f:  0.076 s\n",
      "[UG] applying forces:  0.019 s\n"
     ]
    },
    {
     "name": "stderr",
     "output_type": "stream",
     "text": [
      "Gradient Descent error: 110.32873 grad_norm: 6.21207e-01:   8%|▊         | 21/250 [00:06<01:09,  3.28it/s]"
     ]
    },
    {
     "name": "stdout",
     "output_type": "stream",
     "text": [
      "[GRID] start\n",
      "[GRID] Init:  0.998291015625 ms\n",
      "[GRID] Indices:  0.0 ms\n",
      "[GRID] Counts:  0.0 ms\n",
      "[GRID] Starts, counts:  0.0 ms\n",
      "[GRID] Starts, counts:  0.0 ms\n",
      "[GRID] Average positions:  41.9326171875 ms\n",
      "[GRID] Max distances:  0.998779296875 ms\n",
      "[GRID] new points:  0.0 ms\n",
      "[UG] Grid generation:  0.0439295768737793 seconds\n",
      "[UG] Mem alloc:  0.0 seconds\n",
      "[UG] Mem copy:  0.0009989738464355469 seconds\n",
      "[UG] Run:  0.0 seconds\n",
      "[UG] Copy back:  0.05391240119934082 seconds\n",
      "[UG] Total:  0.09884095191955566 seconds\n",
      "[UG] neg_f:  0.099 s\n",
      "[UG] pos_f:  0.069 s\n",
      "[UG] applying forces:  0.017 s\n"
     ]
    },
    {
     "name": "stderr",
     "output_type": "stream",
     "text": [
      "Gradient Descent error: 110.32319 grad_norm: 6.23521e-01:   9%|▉         | 22/250 [00:07<01:11,  3.20it/s]"
     ]
    },
    {
     "name": "stdout",
     "output_type": "stream",
     "text": [
      "[GRID] start\n",
      "[GRID] Init:  0.488037109375 ms\n",
      "[GRID] Indices:  0.0 ms\n",
      "[GRID] Counts:  0.0 ms\n",
      "[GRID] Starts, counts:  0.0 ms\n",
      "[GRID] Starts, counts:  0.0 ms\n",
      "[GRID] Average positions:  21.4580078125 ms\n",
      "[GRID] Max distances:  0.99853515625 ms\n",
      "[GRID] new points:  0.0 ms\n",
      "[UG] Grid generation:  0.02344369888305664 seconds\n",
      "[UG] Mem alloc:  0.0 seconds\n",
      "[UG] Mem copy:  0.0005075931549072266 seconds\n",
      "[UG] Run:  0.0 seconds\n",
      "[UG] Copy back:  0.04890918731689453 seconds\n",
      "[UG] Total:  0.0733649730682373 seconds\n",
      "[UG] neg_f:  0.073 s\n",
      "[UG] pos_f:  0.075 s\n",
      "[UG] applying forces:  0.018000000000000002 s\n"
     ]
    },
    {
     "name": "stderr",
     "output_type": "stream",
     "text": [
      "Gradient Descent error: 110.32050 grad_norm: 6.21803e-01:   9%|▉         | 23/250 [00:07<01:10,  3.22it/s]"
     ]
    },
    {
     "name": "stdout",
     "output_type": "stream",
     "text": [
      "[GRID] start\n",
      "[GRID] Init:  0.499755859375 ms\n",
      "[GRID] Indices:  0.0 ms\n",
      "[GRID] Counts:  0.0 ms\n",
      "[GRID] Starts, counts:  0.0 ms\n",
      "[GRID] Starts, counts:  0.0 ms\n",
      "[GRID] Average positions:  26.955810546875 ms\n",
      "[GRID] Max distances:  0.998779296875 ms\n",
      "[GRID] new points:  0.0 ms\n",
      "[UG] Grid generation:  0.02895379066467285 seconds\n",
      "[UG] Mem alloc:  0.0 seconds\n",
      "[UG] Mem copy:  0.0004985332489013672 seconds\n",
      "[UG] Run:  0.0 seconds\n",
      "[UG] Copy back:  0.05391359329223633 seconds\n",
      "[UG] Total:  0.08336591720581055 seconds\n",
      "[UG] neg_f:  0.084 s\n",
      "[UG] pos_f:  0.063 s\n",
      "[UG] applying forces:  0.019 s\n"
     ]
    },
    {
     "name": "stderr",
     "output_type": "stream",
     "text": [
      "Gradient Descent error: 110.32050 grad_norm: 6.21803e-01:  10%|▉         | 24/250 [00:07<01:14,  3.05it/s]"
     ]
    },
    {
     "name": "stdout",
     "output_type": "stream",
     "text": [
      "[GRID] start\n",
      "[GRID] Init:  0.4990234375 ms\n",
      "[GRID] Indices:  0.0 ms\n",
      "[GRID] Counts:  0.0 ms\n",
      "[GRID] Starts, counts:  0.0 ms\n",
      "[GRID] Starts, counts:  0.0 ms\n",
      "[GRID] Average positions:  58.905029296875 ms\n",
      "[GRID] Max distances:  0.998046875 ms\n",
      "[GRID] new points:  0.0 ms\n",
      "[UG] Grid generation:  0.060901641845703125 seconds\n",
      "[UG] Mem alloc:  0.0 seconds\n",
      "[UG] Mem copy:  0.0009987354278564453 seconds\n",
      "[UG] Run:  0.0 seconds\n",
      "[UG] Copy back:  0.04442906379699707 seconds\n",
      "[UG] Total:  0.10632944107055664 seconds\n",
      "[UG] neg_f:  0.107 s\n",
      "[UG] pos_f:  0.059000000000000004 s\n",
      "[UG] applying forces:  0.019 s\n"
     ]
    },
    {
     "name": "stderr",
     "output_type": "stream",
     "text": [
      "Gradient Descent error: 110.32038 grad_norm: 6.22851e-01:  10%|█         | 25/250 [00:08<01:13,  3.07it/s]"
     ]
    },
    {
     "name": "stdout",
     "output_type": "stream",
     "text": [
      "[GRID] start\n",
      "[GRID] Init:  0.4794921875 ms\n",
      "[GRID] Indices:  0.0 ms\n",
      "[GRID] Counts:  0.0 ms\n",
      "[GRID] Starts, counts:  0.0 ms\n",
      "[GRID] Starts, counts:  0.0 ms\n",
      "[GRID] Average positions:  21.46484375 ms\n",
      "[GRID] Max distances:  0.998291015625 ms\n",
      "[GRID] new points:  0.0 ms\n",
      "[UG] Grid generation:  0.022942543029785156 seconds\n",
      "[UG] Mem alloc:  0.0 seconds\n",
      "[UG] Mem copy:  0.0009989738464355469 seconds\n",
      "[UG] Run:  0.0 seconds\n",
      "[UG] Copy back:  0.05641007423400879 seconds\n",
      "[UG] Total:  0.08035159111022949 seconds\n",
      "[UG] neg_f:  0.081 s\n",
      "[UG] pos_f:  0.07 s\n",
      "[UG] applying forces:  0.018000000000000002 s\n"
     ]
    },
    {
     "name": "stderr",
     "output_type": "stream",
     "text": [
      "Gradient Descent error: 110.32203 grad_norm: 6.26626e-01:  10%|█         | 26/250 [00:08<01:12,  3.11it/s]"
     ]
    },
    {
     "name": "stdout",
     "output_type": "stream",
     "text": [
      "[GRID] start\n",
      "[GRID] Init:  0.498046875 ms\n",
      "[GRID] Indices:  0.0 ms\n",
      "[GRID] Counts:  0.0 ms\n",
      "[GRID] Starts, counts:  0.0 ms\n",
      "[GRID] Starts, counts:  0.0 ms\n",
      "[GRID] Average positions:  23.461669921875 ms\n",
      "[GRID] Max distances:  0.998779296875 ms\n",
      "[GRID] new points:  0.0 ms\n",
      "[UG] Grid generation:  0.024958372116088867 seconds\n",
      "[UG] Mem alloc:  0.0 seconds\n",
      "[UG] Mem copy:  0.0004982948303222656 seconds\n",
      "[UG] Run:  0.0 seconds\n",
      "[UG] Copy back:  0.039437055587768555 seconds\n",
      "[UG] Total:  0.06489372253417969 seconds\n",
      "[UG] neg_f:  0.066 s\n",
      "[UG] pos_f:  0.081 s\n",
      "[UG] applying forces:  0.015 s\n"
     ]
    },
    {
     "name": "stderr",
     "output_type": "stream",
     "text": [
      "Gradient Descent error: 110.32203 grad_norm: 6.26626e-01:  11%|█         | 27/250 [00:08<01:13,  3.05it/s]"
     ]
    },
    {
     "name": "stdout",
     "output_type": "stream",
     "text": [
      "[GRID] start\n",
      "[GRID] Init:  0.500732421875 ms\n",
      "[GRID] Indices:  0.49755859375 ms\n",
      "[GRID] Counts:  0.0 ms\n",
      "[GRID] Starts, counts:  0.0 ms\n",
      "[GRID] Starts, counts:  0.0 ms\n",
      "[GRID] Average positions:  49.419189453125 ms\n",
      "[GRID] Max distances:  0.999267578125 ms\n",
      "[GRID] new points:  0.0 ms\n",
      "[UG] Grid generation:  0.05191612243652344 seconds\n",
      "[UG] Mem alloc:  0.0 seconds\n",
      "[UG] Mem copy:  0.0009980201721191406 seconds\n",
      "[UG] Run:  0.0 seconds\n",
      "[UG] Copy back:  0.05541062355041504 seconds\n",
      "[UG] Total:  0.10832476615905762 seconds\n",
      "[UG] neg_f:  0.108 s\n",
      "[UG] pos_f:  0.079 s\n",
      "[UG] applying forces:  0.02 s\n"
     ]
    },
    {
     "name": "stderr",
     "output_type": "stream",
     "text": [
      "Gradient Descent error: 110.33086 grad_norm: 6.26973e-01:  11%|█         | 28/250 [00:09<01:14,  3.00it/s]"
     ]
    },
    {
     "name": "stdout",
     "output_type": "stream",
     "text": [
      "[GRID] start\n",
      "[GRID] Init:  0.4990234375 ms\n",
      "[GRID] Indices:  0.0 ms\n",
      "[GRID] Counts:  0.0 ms\n",
      "[GRID] Starts, counts:  0.0 ms\n",
      "[GRID] Starts, counts:  0.0 ms\n",
      "[GRID] Average positions:  19.4677734375 ms\n",
      "[GRID] Max distances:  0.997802734375 ms\n",
      "[GRID] new points:  0.0 ms\n",
      "[UG] Grid generation:  0.020964622497558594 seconds\n",
      "[UG] Mem alloc:  0.0 seconds\n",
      "[UG] Mem copy:  0.0009982585906982422 seconds\n",
      "[UG] Run:  0.0 seconds\n",
      "[UG] Copy back:  0.05141782760620117 seconds\n",
      "[UG] Total:  0.07338070869445801 seconds\n",
      "[UG] neg_f:  0.073 s\n",
      "[UG] pos_f:  0.058 s\n",
      "[UG] applying forces:  0.02 s\n"
     ]
    },
    {
     "name": "stderr",
     "output_type": "stream",
     "text": [
      "Gradient Descent error: 110.33086 grad_norm: 6.26973e-01:  12%|█▏        | 29/250 [00:09<01:11,  3.10it/s]"
     ]
    },
    {
     "name": "stdout",
     "output_type": "stream",
     "text": [
      "[GRID] start\n",
      "[GRID] Init:  0.99853515625 ms\n",
      "[GRID] Indices:  0.0 ms\n",
      "[GRID] Counts:  0.0 ms\n",
      "[GRID] Starts, counts:  0.0 ms\n",
      "[GRID] Starts, counts:  0.0 ms\n",
      "[GRID] Average positions:  25.4580078125 ms\n",
      "[GRID] Max distances:  0.9990234375 ms\n",
      "[GRID] new points:  0.0 ms\n",
      "[UG] Grid generation:  0.027455568313598633 seconds\n",
      "[UG] Mem alloc:  0.0 seconds\n",
      "[UG] Mem copy:  0.0004982948303222656 seconds\n",
      "[UG] Run:  0.0004994869232177734 seconds\n",
      "[UG] Copy back:  0.06589365005493164 seconds\n",
      "[UG] Total:  0.09434700012207031 seconds\n",
      "[UG] neg_f:  0.094 s\n",
      "[UG] pos_f:  0.092 s\n",
      "[UG] applying forces:  0.017 s\n"
     ]
    },
    {
     "name": "stderr",
     "output_type": "stream",
     "text": [
      "Gradient Descent error: 110.32043 grad_norm: 6.27358e-01:  12%|█▏        | 30/250 [00:09<01:12,  3.03it/s]"
     ]
    },
    {
     "name": "stdout",
     "output_type": "stream",
     "text": [
      "[GRID] start\n",
      "[GRID] Init:  0.4990234375 ms\n",
      "[GRID] Indices:  0.0 ms\n",
      "[GRID] Counts:  0.0 ms\n",
      "[GRID] Starts, counts:  0.0 ms\n",
      "[GRID] Starts, counts:  0.0 ms\n",
      "[GRID] Average positions:  21.965087890625 ms\n",
      "[GRID] Max distances:  0.998046875 ms\n",
      "[GRID] new points:  0.0 ms\n",
      "[UG] Grid generation:  0.023462295532226562 seconds\n",
      "[UG] Mem alloc:  0.0 seconds\n",
      "[UG] Mem copy:  0.0009980201721191406 seconds\n",
      "[UG] Run:  0.0 seconds\n",
      "[UG] Copy back:  0.04094886779785156 seconds\n",
      "[UG] Total:  0.06540918350219727 seconds\n",
      "[UG] neg_f:  0.066 s\n",
      "[UG] pos_f:  0.062 s\n",
      "[UG] applying forces:  0.016 s\n"
     ]
    },
    {
     "name": "stderr",
     "output_type": "stream",
     "text": [
      "Gradient Descent error: 110.32043 grad_norm: 6.27358e-01:  12%|█▏        | 31/250 [00:09<01:10,  3.13it/s]"
     ]
    },
    {
     "name": "stdout",
     "output_type": "stream",
     "text": [
      "[GRID] start\n",
      "[GRID] Init:  0.500244140625 ms\n",
      "[GRID] Indices:  0.0 ms\n",
      "[GRID] Counts:  0.0 ms\n",
      "[GRID] Starts, counts:  0.0 ms\n",
      "[GRID] Starts, counts:  0.0 ms\n",
      "[GRID] Average positions:  32.446044921875 ms\n",
      "[GRID] Max distances:  1.498046875 ms\n",
      "[GRID] new points:  0.0 ms\n",
      "[UG] Grid generation:  0.034945011138916016 seconds\n",
      "[UG] Mem alloc:  0.0 seconds\n",
      "[UG] Mem copy:  0.0009982585906982422 seconds\n",
      "[UG] Run:  0.0 seconds\n",
      "[UG] Copy back:  0.05391335487365723 seconds\n",
      "[UG] Total:  0.08985662460327148 seconds\n",
      "[UG] neg_f:  0.09 s\n",
      "[UG] pos_f:  0.078 s\n",
      "[UG] applying forces:  0.018000000000000002 s\n"
     ]
    },
    {
     "name": "stderr",
     "output_type": "stream",
     "text": [
      "Gradient Descent error: 110.31740 grad_norm: 6.26773e-01:  13%|█▎        | 32/250 [00:10<01:10,  3.11it/s]"
     ]
    },
    {
     "name": "stdout",
     "output_type": "stream",
     "text": [
      "[GRID] start\n",
      "[GRID] Init:  0.480712890625 ms\n",
      "[GRID] Indices:  0.0 ms\n",
      "[GRID] Counts:  0.0 ms\n",
      "[GRID] Starts, counts:  0.0 ms\n",
      "[GRID] Starts, counts:  0.0 ms\n",
      "[GRID] Average positions:  29.453125 ms\n",
      "[GRID] Max distances:  1.49755859375 ms\n",
      "[GRID] new points:  0.0 ms\n",
      "[UG] Grid generation:  0.03143143653869629 seconds\n",
      "[UG] Mem alloc:  0.0 seconds\n",
      "[UG] Mem copy:  0.0035130977630615234 seconds\n",
      "[UG] Run:  0.0 seconds\n",
      "[UG] Copy back:  0.044413089752197266 seconds\n",
      "[UG] Total:  0.07985329627990723 seconds\n",
      "[UG] neg_f:  0.084 s\n",
      "[UG] pos_f:  0.091 s\n",
      "[UG] applying forces:  0.018000000000000002 s\n"
     ]
    },
    {
     "name": "stderr",
     "output_type": "stream",
     "text": [
      "Gradient Descent error: 110.32471 grad_norm: 6.28058e-01:  13%|█▎        | 33/250 [00:10<01:10,  3.08it/s]"
     ]
    },
    {
     "name": "stdout",
     "output_type": "stream",
     "text": [
      "[GRID] start\n",
      "[GRID] Init:  0.0 ms\n",
      "[GRID] Indices:  0.0 ms\n",
      "[GRID] Counts:  0.49951171875 ms\n",
      "[GRID] Starts, counts:  0.0 ms\n",
      "[GRID] Starts, counts:  0.0 ms\n",
      "[GRID] Average positions:  19.468017578125 ms\n",
      "[GRID] Max distances:  0.99853515625 ms\n",
      "[GRID] new points:  0.0 ms\n",
      "[UG] Grid generation:  0.02196359634399414 seconds\n",
      "[UG] Mem alloc:  0.0 seconds\n",
      "[UG] Mem copy:  0.0009982585906982422 seconds\n",
      "[UG] Run:  0.0 seconds\n",
      "[UG] Copy back:  0.06591296195983887 seconds\n",
      "[UG] Total:  0.0893557071685791 seconds\n",
      "[UG] neg_f:  0.09 s\n",
      "[UG] pos_f:  0.065 s\n",
      "[UG] applying forces:  0.018000000000000002 s\n"
     ]
    },
    {
     "name": "stderr",
     "output_type": "stream",
     "text": [
      "Gradient Descent error: 110.32176 grad_norm: 6.29165e-01:  14%|█▎        | 34/250 [00:11<01:10,  3.05it/s]"
     ]
    },
    {
     "name": "stdout",
     "output_type": "stream",
     "text": [
      "[GRID] start\n",
      "[GRID] Init:  0.500244140625 ms\n",
      "[GRID] Indices:  0.48046875 ms\n",
      "[GRID] Counts:  0.0 ms\n",
      "[GRID] Starts, counts:  0.0 ms\n",
      "[GRID] Starts, counts:  0.0 ms\n",
      "[GRID] Average positions:  22.9755859375 ms\n",
      "[GRID] Max distances:  0.998046875 ms\n",
      "[GRID] new points:  0.0 ms\n",
      "[UG] Grid generation:  0.02495431900024414 seconds\n",
      "[UG] Mem alloc:  0.0 seconds\n",
      "[UG] Mem copy:  0.0005044937133789062 seconds\n",
      "[UG] Run:  0.0004932880401611328 seconds\n",
      "[UG] Copy back:  0.054898738861083984 seconds\n",
      "[UG] Total:  0.08085083961486816 seconds\n",
      "[UG] neg_f:  0.081 s\n",
      "[UG] pos_f:  0.06 s\n",
      "[UG] applying forces:  0.019 s\n"
     ]
    },
    {
     "name": "stderr",
     "output_type": "stream",
     "text": [
      "Gradient Descent error: 110.32176 grad_norm: 6.29165e-01:  14%|█▍        | 35/250 [00:11<01:08,  3.13it/s]"
     ]
    },
    {
     "name": "stdout",
     "output_type": "stream",
     "text": [
      "[GRID] start\n",
      "[GRID] Init:  0.499755859375 ms\n",
      "[GRID] Indices:  0.0 ms\n",
      "[GRID] Counts:  0.0 ms\n",
      "[GRID] Starts, counts:  0.0 ms\n",
      "[GRID] Starts, counts:  0.0 ms\n",
      "[GRID] Average positions:  22.96142578125 ms\n",
      "[GRID] Max distances:  0.998046875 ms\n",
      "[GRID] new points:  0.0 ms\n",
      "[UG] Grid generation:  0.024459362030029297 seconds\n",
      "[UG] Mem alloc:  0.0 seconds\n",
      "[UG] Mem copy:  0.000499725341796875 seconds\n",
      "[UG] Run:  0.0 seconds\n",
      "[UG] Copy back:  0.08437776565551758 seconds\n",
      "[UG] Total:  0.10983586311340332 seconds\n",
      "[UG] neg_f:  0.11 s\n",
      "[UG] pos_f:  0.067 s\n",
      "[UG] applying forces:  0.021 s\n"
     ]
    },
    {
     "name": "stderr",
     "output_type": "stream",
     "text": [
      "Gradient Descent error: 110.31793 grad_norm: 6.27903e-01:  14%|█▍        | 36/250 [00:11<01:09,  3.06it/s]"
     ]
    },
    {
     "name": "stdout",
     "output_type": "stream",
     "text": [
      "[GRID] start\n",
      "[GRID] Init:  0.0 ms\n",
      "[GRID] Indices:  0.4990234375 ms\n",
      "[GRID] Counts:  0.0 ms\n",
      "[GRID] Starts, counts:  0.0 ms\n",
      "[GRID] Starts, counts:  0.0 ms\n",
      "[GRID] Average positions:  19.96533203125 ms\n",
      "[GRID] Max distances:  1.00048828125 ms\n",
      "[GRID] new points:  0.0 ms\n",
      "[UG] Grid generation:  0.021465063095092773 seconds\n",
      "[UG] Mem alloc:  0.0 seconds\n",
      "[UG] Mem copy:  0.0029926300048828125 seconds\n",
      "[UG] Run:  0.0 seconds\n",
      "[UG] Copy back:  0.05592083930969238 seconds\n",
      "[UG] Total:  0.08137822151184082 seconds\n",
      "[UG] neg_f:  0.081 s\n",
      "[UG] pos_f:  0.066 s\n",
      "[UG] applying forces:  0.015 s\n"
     ]
    },
    {
     "name": "stderr",
     "output_type": "stream",
     "text": [
      "Gradient Descent error: 110.31441 grad_norm: 6.28229e-01:  15%|█▍        | 37/250 [00:12<01:09,  3.05it/s]"
     ]
    },
    {
     "name": "stdout",
     "output_type": "stream",
     "text": [
      "[GRID] start\n",
      "[GRID] Init:  0.0 ms\n",
      "[GRID] Indices:  0.0 ms\n",
      "[GRID] Counts:  0.0 ms\n",
      "[GRID] Starts, counts:  0.0 ms\n",
      "[GRID] Starts, counts:  0.0 ms\n",
      "[GRID] Average positions:  29.451171875 ms\n",
      "[GRID] Max distances:  0.998291015625 ms\n",
      "[GRID] new points:  0.0 ms\n",
      "[UG] Grid generation:  0.030949831008911133 seconds\n",
      "[UG] Mem alloc:  0.0 seconds\n",
      "[UG] Mem copy:  0.0004987716674804688 seconds\n",
      "[UG] Run:  0.0004994869232177734 seconds\n",
      "[UG] Copy back:  0.05592846870422363 seconds\n",
      "[UG] Total:  0.08787655830383301 seconds\n",
      "[UG] neg_f:  0.088 s\n",
      "[UG] pos_f:  0.066 s\n",
      "[UG] applying forces:  0.017 s\n"
     ]
    },
    {
     "name": "stderr",
     "output_type": "stream",
     "text": [
      "Gradient Descent error: 110.31441 grad_norm: 6.28229e-01:  15%|█▌        | 38/250 [00:12<01:08,  3.09it/s]"
     ]
    },
    {
     "name": "stdout",
     "output_type": "stream",
     "text": [
      "[GRID] start\n",
      "[GRID] Init:  0.500244140625 ms\n",
      "[GRID] Indices:  0.49853515625 ms\n",
      "[GRID] Counts:  0.0 ms\n",
      "[GRID] Starts, counts:  0.0 ms\n",
      "[GRID] Starts, counts:  0.0 ms\n",
      "[GRID] Average positions:  27.954833984375 ms\n",
      "[GRID] Max distances:  1.497802734375 ms\n",
      "[GRID] new points:  0.0 ms\n",
      "[UG] Grid generation:  0.030451297760009766 seconds\n",
      "[UG] Mem alloc:  0.0 seconds\n",
      "[UG] Mem copy:  0.0004992485046386719 seconds\n",
      "[UG] Run:  0.0004990100860595703 seconds\n",
      "[UG] Copy back:  0.055909156799316406 seconds\n",
      "[UG] Total:  0.08735871315002441 seconds\n",
      "[UG] neg_f:  0.088 s\n",
      "[UG] pos_f:  0.063 s\n",
      "[UG] applying forces:  0.018000000000000002 s\n"
     ]
    },
    {
     "name": "stderr",
     "output_type": "stream",
     "text": [
      "Gradient Descent error: 110.31593 grad_norm: 6.28566e-01:  16%|█▌        | 39/250 [00:12<01:08,  3.10it/s]"
     ]
    },
    {
     "name": "stdout",
     "output_type": "stream",
     "text": [
      "[GRID] start\n",
      "[GRID] Init:  0.499267578125 ms\n",
      "[GRID] Indices:  0.0 ms\n",
      "[GRID] Counts:  0.0 ms\n",
      "[GRID] Starts, counts:  0.0 ms\n",
      "[GRID] Starts, counts:  0.0 ms\n",
      "[GRID] Average positions:  49.418701171875 ms\n",
      "[GRID] Max distances:  0.998291015625 ms\n",
      "[GRID] new points:  0.0 ms\n",
      "[UG] Grid generation:  0.050916194915771484 seconds\n",
      "[UG] Mem alloc:  0.0 seconds\n",
      "[UG] Mem copy:  0.0004994869232177734 seconds\n",
      "[UG] Run:  0.0 seconds\n",
      "[UG] Copy back:  0.08436441421508789 seconds\n",
      "[UG] Total:  0.13578009605407715 seconds\n",
      "[UG] neg_f:  0.136 s\n"
     ]
    },
    {
     "name": "stderr",
     "output_type": "stream",
     "text": [
      "Gradient Descent error: 110.31263 grad_norm: 6.28887e-01:  16%|█▌        | 40/250 [00:12<01:10,  3.00it/s]"
     ]
    },
    {
     "name": "stdout",
     "output_type": "stream",
     "text": [
      "[UG] pos_f:  0.066 s\n",
      "[UG] applying forces:  0.02 s\n",
      "[GRID] start\n",
      "[GRID] Init:  0.0 ms\n",
      "[GRID] Indices:  0.0 ms\n",
      "[GRID] Counts:  0.0 ms\n",
      "[GRID] Starts, counts:  0.0 ms\n",
      "[GRID] Starts, counts:  0.0 ms\n",
      "[GRID] Average positions:  23.9609375 ms\n",
      "[GRID] Max distances:  0.998779296875 ms\n",
      "[GRID] new points:  0.0 ms\n",
      "[UG] Grid generation:  0.025959014892578125 seconds\n",
      "[UG] Mem alloc:  0.0 seconds\n",
      "[UG] Mem copy:  0.0004999637603759766 seconds\n",
      "[UG] Run:  0.0 seconds\n"
     ]
    },
    {
     "name": "stderr",
     "output_type": "stream",
     "text": [
      "Gradient Descent error: 110.31524 grad_norm: 6.28449e-01:  16%|█▌        | 40/250 [00:13<01:10,  3.00it/s]"
     ]
    },
    {
     "name": "stdout",
     "output_type": "stream",
     "text": [
      "[UG] Copy back:  0.06589317321777344 seconds\n",
      "[UG] Total:  0.09285163879394531 seconds\n",
      "[UG] neg_f:  0.093 s\n",
      "[UG] pos_f:  0.064 s\n",
      "[UG] applying forces:  0.016 s\n"
     ]
    },
    {
     "name": "stderr",
     "output_type": "stream",
     "text": [
      "Gradient Descent error: 110.31524 grad_norm: 6.28449e-01:  16%|█▋        | 41/250 [00:13<01:08,  3.05it/s]"
     ]
    },
    {
     "name": "stdout",
     "output_type": "stream",
     "text": [
      "[GRID] start\n",
      "[GRID] Init:  0.4990234375 ms\n",
      "[GRID] Indices:  0.0 ms\n",
      "[GRID] Counts:  0.0 ms\n",
      "[GRID] Starts, counts:  0.0 ms\n",
      "[GRID] Starts, counts:  0.0 ms\n",
      "[GRID] Average positions:  26.95703125 ms\n",
      "[GRID] Max distances:  0.99755859375 ms\n",
      "[GRID] new points:  0.0 ms\n",
      "[UG] Grid generation:  0.028954744338989258 seconds\n",
      "[UG] Mem alloc:  0.0 seconds\n",
      "[UG] Mem copy:  0.0009982585906982422 seconds\n",
      "[UG] Run:  0.0 seconds\n",
      "[UG] Copy back:  0.0808877944946289 seconds\n",
      "[UG] Total:  0.1108407974243164 seconds\n",
      "[UG] neg_f:  0.111 s\n",
      "[UG] pos_f:  0.058 s\n",
      "[UG] applying forces:  0.022 s\n"
     ]
    },
    {
     "name": "stderr",
     "output_type": "stream",
     "text": [
      "Gradient Descent error: 110.31305 grad_norm: 6.29678e-01:  17%|█▋        | 42/250 [00:13<01:08,  3.04it/s]"
     ]
    },
    {
     "name": "stdout",
     "output_type": "stream",
     "text": [
      "[GRID] start\n",
      "[GRID] Init:  0.504638671875 ms\n",
      "[GRID] Indices:  0.0 ms\n",
      "[GRID] Counts:  0.0 ms\n",
      "[GRID] Starts, counts:  0.0 ms\n",
      "[GRID] Starts, counts:  0.0 ms\n",
      "[GRID] Average positions:  24.95458984375 ms\n",
      "[GRID] Max distances:  0.99755859375 ms\n",
      "[GRID] new points:  0.0 ms\n",
      "[UG] Grid generation:  0.026456832885742188 seconds\n",
      "[UG] Mem alloc:  0.0 seconds\n",
      "[UG] Mem copy:  0.0009987354278564453 seconds\n",
      "[UG] Run:  0.0 seconds\n",
      "[UG] Copy back:  0.05940604209899902 seconds\n",
      "[UG] Total:  0.08686161041259766 seconds\n",
      "[UG] neg_f:  0.08700000000000001 s\n",
      "[UG] pos_f:  0.06 s\n",
      "[UG] applying forces:  0.016 s\n"
     ]
    },
    {
     "name": "stderr",
     "output_type": "stream",
     "text": [
      "Gradient Descent error: 110.31305 grad_norm: 6.29678e-01:  17%|█▋        | 43/250 [00:13<01:08,  3.04it/s]"
     ]
    },
    {
     "name": "stdout",
     "output_type": "stream",
     "text": [
      "[GRID] start\n",
      "[GRID] Init:  0.0 ms\n",
      "[GRID] Indices:  0.0 ms\n",
      "[GRID] Counts:  0.0 ms\n",
      "[GRID] Starts, counts:  0.0 ms\n",
      "[GRID] Starts, counts:  0.0 ms\n",
      "[GRID] Average positions:  46.424560546875 ms\n",
      "[GRID] Max distances:  0.997802734375 ms\n",
      "[GRID] new points:  0.0 ms\n",
      "[UG] Grid generation:  0.04842185974121094 seconds\n",
      "[UG] Mem alloc:  0.0 seconds\n",
      "[UG] Mem copy:  0.0009987354278564453 seconds\n",
      "[UG] Run:  0.0 seconds\n",
      "[UG] Copy back:  0.08037090301513672 seconds\n",
      "[UG] Total:  0.1297914981842041 seconds\n",
      "[UG] neg_f:  0.129 s\n"
     ]
    },
    {
     "name": "stderr",
     "output_type": "stream",
     "text": [
      "Gradient Descent error: 110.30963 grad_norm: 6.29118e-01:  17%|█▋        | 43/250 [00:14<01:08,  3.04it/s]"
     ]
    },
    {
     "name": "stdout",
     "output_type": "stream",
     "text": [
      "[UG] pos_f:  0.075 s\n",
      "[UG] applying forces:  0.017 s\n"
     ]
    },
    {
     "name": "stderr",
     "output_type": "stream",
     "text": [
      "Gradient Descent error: 110.30963 grad_norm: 6.29118e-01:  18%|█▊        | 44/250 [00:14<01:15,  2.71it/s]"
     ]
    },
    {
     "name": "stdout",
     "output_type": "stream",
     "text": [
      "[GRID] start\n",
      "[GRID] Init:  0.499267578125 ms\n",
      "[GRID] Indices:  0.49853515625 ms\n",
      "[GRID] Counts:  0.0 ms\n",
      "[GRID] Starts, counts:  0.0 ms\n",
      "[GRID] Starts, counts:  0.0 ms\n",
      "[GRID] Average positions:  68.3896484375 ms\n",
      "[GRID] Max distances:  0.9990234375 ms\n",
      "[GRID] new points:  0.0 ms\n",
      "[UG] Grid generation:  0.07038640975952148 seconds\n",
      "[UG] Mem alloc:  0.0 seconds\n",
      "[UG] Mem copy:  0.0009980201721191406 seconds\n",
      "[UG] Run:  0.0 seconds\n",
      "[UG] Copy back:  0.11082291603088379 seconds\n",
      "[UG] Total:  0.18270635604858398 seconds\n",
      "[UG] neg_f:  0.183 s\n"
     ]
    },
    {
     "name": "stderr",
     "output_type": "stream",
     "text": [
      "Gradient Descent error: 110.31213 grad_norm: 6.29432e-01:  18%|█▊        | 44/250 [00:14<01:15,  2.71it/s]"
     ]
    },
    {
     "name": "stdout",
     "output_type": "stream",
     "text": [
      "[UG] pos_f:  0.20500000000000002 s\n",
      "[UG] applying forces:  0.017 s\n"
     ]
    },
    {
     "name": "stderr",
     "output_type": "stream",
     "text": [
      "Gradient Descent error: 110.31213 grad_norm: 6.29432e-01:  18%|█▊        | 45/250 [00:14<01:34,  2.17it/s]"
     ]
    },
    {
     "name": "stdout",
     "output_type": "stream",
     "text": [
      "[GRID] start\n",
      "[GRID] Init:  0.5 ms\n",
      "[GRID] Indices:  0.0 ms\n",
      "[GRID] Counts:  0.0 ms\n",
      "[GRID] Starts, counts:  0.0 ms\n",
      "[GRID] Starts, counts:  0.0 ms\n",
      "[GRID] Average positions:  86.361083984375 ms\n",
      "[GRID] Max distances:  1.996337890625 ms\n",
      "[GRID] new points:  0.0 ms\n",
      "[UG] Grid generation:  0.08935546875 seconds\n",
      "[UG] Mem alloc:  0.0 seconds\n",
      "[UG] Mem copy:  0.0029921531677246094 seconds\n",
      "[UG] Run:  0.0 seconds\n",
      "[UG] Copy back:  0.07787513732910156 seconds\n",
      "[UG] Total:  0.17072510719299316 seconds\n",
      "[UG] neg_f:  0.171 s\n"
     ]
    },
    {
     "name": "stderr",
     "output_type": "stream",
     "text": [
      "Gradient Descent error: 110.30837 grad_norm: 6.28689e-01:  18%|█▊        | 45/250 [00:15<01:34,  2.17it/s]"
     ]
    },
    {
     "name": "stdout",
     "output_type": "stream",
     "text": [
      "[UG] pos_f:  0.154 s\n",
      "[UG] applying forces:  0.021 s\n"
     ]
    },
    {
     "name": "stderr",
     "output_type": "stream",
     "text": [
      "Gradient Descent error: 110.30837 grad_norm: 6.28689e-01:  18%|█▊        | 46/250 [00:15<01:43,  1.98it/s]"
     ]
    },
    {
     "name": "stdout",
     "output_type": "stream",
     "text": [
      "[GRID] start\n",
      "[GRID] Init:  0.498046875 ms\n",
      "[GRID] Indices:  0.0 ms\n",
      "[GRID] Counts:  0.0 ms\n",
      "[GRID] Starts, counts:  0.0 ms\n",
      "[GRID] Starts, counts:  0.499267578125 ms\n",
      "[GRID] Average positions:  95.8466796875 ms\n",
      "[GRID] Max distances:  0.998291015625 ms\n",
      "[GRID] new points:  0.0 ms\n",
      "[UG] Grid generation:  0.09884166717529297 seconds\n",
      "[UG] Mem alloc:  0.0 seconds\n",
      "[UG] Mem copy:  0.0004992485046386719 seconds\n",
      "[UG] Run:  0.0004987716674804688 seconds\n",
      "[UG] Copy back:  0.07737565040588379 seconds\n",
      "[UG] Total:  0.1772153377532959 seconds\n",
      "[UG] neg_f:  0.178 s\n"
     ]
    },
    {
     "name": "stderr",
     "output_type": "stream",
     "text": [
      "Gradient Descent error: 110.29056 grad_norm: 6.29862e-01:  18%|█▊        | 46/250 [00:15<01:43,  1.98it/s]"
     ]
    },
    {
     "name": "stdout",
     "output_type": "stream",
     "text": [
      "[UG] pos_f:  0.185 s\n",
      "[UG] applying forces:  0.019 s\n"
     ]
    },
    {
     "name": "stderr",
     "output_type": "stream",
     "text": [
      "Gradient Descent error: 110.29056 grad_norm: 6.29862e-01:  19%|█▉        | 47/250 [00:16<01:50,  1.84it/s]"
     ]
    },
    {
     "name": "stdout",
     "output_type": "stream",
     "text": [
      "[GRID] start\n",
      "[GRID] Init:  0.499755859375 ms\n",
      "[GRID] Indices:  0.0 ms\n",
      "[GRID] Counts:  0.0 ms\n",
      "[GRID] Starts, counts:  0.0 ms\n",
      "[GRID] Starts, counts:  0.499267578125 ms\n",
      "[GRID] Average positions:  84.86279296875 ms\n",
      "[GRID] Max distances:  0.99853515625 ms\n",
      "[GRID] new points:  0.0 ms\n",
      "[UG] Grid generation:  0.08985519409179688 seconds\n",
      "[UG] Mem alloc:  0.0 seconds\n",
      "[UG] Mem copy:  0.0004985332489013672 seconds\n",
      "[UG] Run:  0.0 seconds\n",
      "[UG] Copy back:  0.07238388061523438 seconds\n",
      "[UG] Total:  0.16373658180236816 seconds\n",
      "[UG] neg_f:  0.164 s\n"
     ]
    },
    {
     "name": "stderr",
     "output_type": "stream",
     "text": [
      "Gradient Descent error: 110.30623 grad_norm: 6.29779e-01:  19%|█▉        | 47/250 [00:16<01:50,  1.84it/s]"
     ]
    },
    {
     "name": "stdout",
     "output_type": "stream",
     "text": [
      "[UG] pos_f:  0.139 s\n",
      "[UG] applying forces:  0.016 s\n"
     ]
    },
    {
     "name": "stderr",
     "output_type": "stream",
     "text": [
      "Gradient Descent error: 110.30623 grad_norm: 6.29779e-01:  19%|█▉        | 48/250 [00:16<01:54,  1.77it/s]"
     ]
    },
    {
     "name": "stdout",
     "output_type": "stream",
     "text": [
      "[GRID] start\n",
      "[GRID] Init:  0.499755859375 ms\n",
      "[GRID] Indices:  0.0 ms\n",
      "[GRID] Counts:  0.0 ms\n",
      "[GRID] Starts, counts:  0.0 ms\n",
      "[GRID] Starts, counts:  0.0 ms\n",
      "[GRID] Average positions:  87.35986328125 ms\n",
      "[GRID] Max distances:  14.975341796875 ms\n",
      "[GRID] new points:  0.0 ms\n",
      "[UG] Grid generation:  0.10333395004272461 seconds\n",
      "[UG] Mem alloc:  0.0 seconds\n",
      "[UG] Mem copy:  0.0009984970092773438 seconds\n",
      "[UG] Run:  0.0 seconds\n",
      "[UG] Copy back:  0.07138562202453613 seconds\n",
      "[UG] Total:  0.17571806907653809 seconds\n",
      "[UG] neg_f:  0.176 s\n"
     ]
    },
    {
     "name": "stderr",
     "output_type": "stream",
     "text": [
      "Gradient Descent error: 110.30862 grad_norm: 6.29346e-01:  19%|█▉        | 48/250 [00:17<01:54,  1.77it/s]"
     ]
    },
    {
     "name": "stdout",
     "output_type": "stream",
     "text": [
      "[UG] pos_f:  0.195 s\n",
      "[UG] applying forces:  0.033 s\n"
     ]
    },
    {
     "name": "stderr",
     "output_type": "stream",
     "text": [
      "Gradient Descent error: 110.30862 grad_norm: 6.29346e-01:  20%|█▉        | 49/250 [00:17<02:01,  1.65it/s]"
     ]
    },
    {
     "name": "stdout",
     "output_type": "stream",
     "text": [
      "[GRID] start\n",
      "[GRID] Init:  0.49853515625 ms\n",
      "[GRID] Indices:  0.49951171875 ms\n",
      "[GRID] Counts:  0.0 ms\n",
      "[GRID] Starts, counts:  0.0 ms\n",
      "[GRID] Starts, counts:  0.0 ms\n",
      "[GRID] Average positions:  91.353515625 ms\n",
      "[GRID] Max distances:  1.497314453125 ms\n",
      "[GRID] new points:  0.0 ms\n",
      "[UG] Grid generation:  0.09434819221496582 seconds\n",
      "[UG] Mem alloc:  0.0 seconds\n",
      "[UG] Mem copy:  0.003993511199951172 seconds\n",
      "[UG] Run:  0.0004992485046386719 seconds\n",
      "[UG] Copy back:  0.07737612724304199 seconds\n",
      "[UG] Total:  0.17621707916259766 seconds\n",
      "[UG] neg_f:  0.177 s\n"
     ]
    },
    {
     "name": "stderr",
     "output_type": "stream",
     "text": [
      "Gradient Descent error: 110.30477 grad_norm: 6.29446e-01:  20%|█▉        | 49/250 [00:17<02:01,  1.65it/s]"
     ]
    },
    {
     "name": "stdout",
     "output_type": "stream",
     "text": [
      "[UG] pos_f:  0.163 s\n",
      "[UG] applying forces:  0.019 s\n"
     ]
    },
    {
     "name": "stderr",
     "output_type": "stream",
     "text": [
      "Gradient Descent error: 110.30477 grad_norm: 6.29446e-01:  20%|██        | 50/250 [00:18<02:03,  1.62it/s]"
     ]
    },
    {
     "name": "stdout",
     "output_type": "stream",
     "text": [
      "[GRID] start\n",
      "[GRID] Init:  0.499267578125 ms\n",
      "[GRID] Indices:  0.0 ms\n",
      "[GRID] Counts:  0.0 ms\n",
      "[GRID] Starts, counts:  0.0 ms\n",
      "[GRID] Starts, counts:  0.0 ms\n",
      "[GRID] Average positions:  71.38525390625 ms\n",
      "[GRID] Max distances:  0.998046875 ms\n",
      "[GRID] new points:  0.0 ms\n",
      "[UG] Grid generation:  0.07388138771057129 seconds\n",
      "[UG] Mem alloc:  0.0 seconds\n",
      "[UG] Mem copy:  0.0009984970092773438 seconds\n",
      "[UG] Run:  0.001997232437133789 seconds\n",
      "[UG] Copy back:  0.07587766647338867 seconds\n",
      "[UG] Total:  0.1527547836303711 seconds\n",
      "[UG] neg_f:  0.152 s\n"
     ]
    },
    {
     "name": "stderr",
     "output_type": "stream",
     "text": [
      "Gradient Descent error: 110.30612 grad_norm: 6.30085e-01:  20%|██        | 51/250 [00:18<02:00,  1.65it/s]"
     ]
    },
    {
     "name": "stdout",
     "output_type": "stream",
     "text": [
      "[UG] pos_f:  0.221 s\n",
      "[UG] applying forces:  0.022 s\n",
      "[GRID] start\n",
      "[GRID] Init:  0.0 ms\n",
      "[GRID] Indices:  0.499267578125 ms\n",
      "[GRID] Counts:  0.0 ms\n",
      "[GRID] Starts, counts:  0.0 ms\n",
      "[GRID] Starts, counts:  0.0 ms\n",
      "[GRID] Average positions:  25.45849609375 ms\n",
      "[GRID] Max distances:  4.49267578125 ms\n",
      "[GRID] new points:  0.0 ms\n",
      "[UG] Grid generation:  0.03145003318786621 seconds\n",
      "[UG] Mem alloc:  0.0 seconds\n",
      "[UG] Mem copy:  0.000499725341796875 seconds\n",
      "[UG] Run:  0.0 seconds\n"
     ]
    },
    {
     "name": "stderr",
     "output_type": "stream",
     "text": [
      "Gradient Descent error: 110.30246 grad_norm: 6.29754e-01:  20%|██        | 51/250 [00:18<02:00,  1.65it/s]"
     ]
    },
    {
     "name": "stdout",
     "output_type": "stream",
     "text": [
      "[UG] Copy back:  0.07837438583374023 seconds\n",
      "[UG] Total:  0.11082291603088379 seconds\n",
      "[UG] neg_f:  0.11 s\n",
      "[UG] pos_f:  0.089 s\n",
      "[UG] applying forces:  0.023 s\n"
     ]
    },
    {
     "name": "stderr",
     "output_type": "stream",
     "text": [
      "Gradient Descent error: 110.30246 grad_norm: 6.29754e-01:  21%|██        | 52/250 [00:19<01:46,  1.86it/s]"
     ]
    },
    {
     "name": "stdout",
     "output_type": "stream",
     "text": [
      "[GRID] start\n",
      "[GRID] Init:  0.499267578125 ms\n",
      "[GRID] Indices:  0.0 ms\n",
      "[GRID] Counts:  0.0 ms\n",
      "[GRID] Starts, counts:  0.0 ms\n",
      "[GRID] Starts, counts:  0.0 ms\n",
      "[GRID] Average positions:  30.950439453125 ms\n",
      "[GRID] Max distances:  0.998046875 ms\n",
      "[GRID] new points:  0.0 ms\n",
      "[UG] Grid generation:  0.03244781494140625 seconds\n",
      "[UG] Mem alloc:  0.0 seconds\n",
      "[UG] Mem copy:  0.0009980201721191406 seconds\n",
      "[UG] Run:  0.0 seconds\n",
      "[UG] Copy back:  0.07288360595703125 seconds\n",
      "[UG] Total:  0.10632944107055664 seconds\n",
      "[UG] neg_f:  0.106 s\n"
     ]
    },
    {
     "name": "stderr",
     "output_type": "stream",
     "text": [
      "Gradient Descent error: 110.30982 grad_norm: 6.30001e-01:  21%|██        | 53/250 [00:19<01:43,  1.91it/s]"
     ]
    },
    {
     "name": "stdout",
     "output_type": "stream",
     "text": [
      "[UG] pos_f:  0.176 s\n",
      "[UG] applying forces:  0.02 s\n",
      "[GRID] start\n",
      "[GRID] Init:  0.5 ms\n",
      "[GRID] Indices:  0.0 ms\n",
      "[GRID] Counts:  0.0 ms\n",
      "[GRID] Starts, counts:  0.0 ms\n",
      "[GRID] Starts, counts:  0.0 ms\n",
      "[GRID] Average positions:  46.424560546875 ms\n",
      "[GRID] Max distances:  1.498046875 ms\n",
      "[GRID] new points:  0.0 ms\n",
      "[UG] Grid generation:  0.04892134666442871 seconds\n",
      "[UG] Mem alloc:  0.0 seconds\n",
      "[UG] Mem copy:  0.0009982585906982422 seconds\n",
      "[UG] Run:  0.0 seconds\n",
      "[UG] Copy back:  0.08536243438720703 seconds\n",
      "[UG] Total:  0.13578104972839355 seconds\n",
      "[UG] neg_f:  0.136 s\n"
     ]
    },
    {
     "name": "stderr",
     "output_type": "stream",
     "text": [
      "Gradient Descent error: 110.30081 grad_norm: 6.30883e-01:  22%|██▏       | 54/250 [00:20<01:37,  2.02it/s]"
     ]
    },
    {
     "name": "stdout",
     "output_type": "stream",
     "text": [
      "[UG] pos_f:  0.084 s\n",
      "[UG] applying forces:  0.018000000000000002 s\n",
      "[GRID] start\n",
      "[GRID] Init:  0.4990234375 ms\n",
      "[GRID] Indices:  0.0 ms\n",
      "[GRID] Counts:  0.0 ms\n",
      "[GRID] Starts, counts:  0.0 ms\n",
      "[GRID] Starts, counts:  0.0 ms\n",
      "[GRID] Average positions:  39.4365234375 ms\n",
      "[GRID] Max distances:  1.498291015625 ms\n",
      "[GRID] new points:  0.0 ms\n",
      "[UG] Grid generation:  0.04143381118774414 seconds\n",
      "[UG] Mem alloc:  0.0 seconds\n",
      "[UG] Mem copy:  0.0009984970092773438 seconds\n",
      "[UG] Run:  0.0 seconds\n",
      "[UG] Copy back:  0.07637715339660645 seconds\n",
      "[UG] Total:  0.11880946159362793 seconds\n",
      "[UG] neg_f:  0.11900000000000001 s\n"
     ]
    },
    {
     "name": "stderr",
     "output_type": "stream",
     "text": [
      "Gradient Descent error: 110.30210 grad_norm: 6.29806e-01:  22%|██▏       | 54/250 [00:20<01:37,  2.02it/s]"
     ]
    },
    {
     "name": "stdout",
     "output_type": "stream",
     "text": [
      "[UG] pos_f:  0.14 s\n",
      "[UG] applying forces:  0.021 s\n"
     ]
    },
    {
     "name": "stderr",
     "output_type": "stream",
     "text": [
      "Gradient Descent error: 110.30210 grad_norm: 6.29806e-01:  22%|██▏       | 55/250 [00:20<01:37,  2.01it/s]"
     ]
    },
    {
     "name": "stdout",
     "output_type": "stream",
     "text": [
      "[GRID] start\n",
      "[GRID] Init:  5.990234375 ms\n",
      "[GRID] Indices:  0.498779296875 ms\n",
      "[GRID] Counts:  0.0 ms\n",
      "[GRID] Starts, counts:  0.0 ms\n",
      "[GRID] Starts, counts:  0.0 ms\n",
      "[GRID] Average positions:  92.8515625 ms\n",
      "[GRID] Max distances:  1.497314453125 ms\n",
      "[GRID] new points:  0.0 ms\n",
      "[UG] Grid generation:  0.10083794593811035 seconds\n",
      "[UG] Mem alloc:  0.0 seconds\n",
      "[UG] Mem copy:  0.0009984970092773438 seconds\n",
      "[UG] Run:  0.0 seconds\n",
      "[UG] Copy back:  0.0893559455871582 seconds\n",
      "[UG] Total:  0.1911923885345459 seconds\n",
      "[UG] neg_f:  0.191 s\n"
     ]
    },
    {
     "name": "stderr",
     "output_type": "stream",
     "text": [
      "Gradient Descent error: 110.29831 grad_norm: 6.29433e-01:  22%|██▏       | 55/250 [00:20<01:37,  2.01it/s]"
     ]
    },
    {
     "name": "stdout",
     "output_type": "stream",
     "text": [
      "[UG] pos_f:  0.194 s\n",
      "[UG] applying forces:  0.019 s\n"
     ]
    },
    {
     "name": "stderr",
     "output_type": "stream",
     "text": [
      "Gradient Descent error: 110.29831 grad_norm: 6.29433e-01:  22%|██▏       | 56/250 [00:21<01:49,  1.77it/s]"
     ]
    },
    {
     "name": "stdout",
     "output_type": "stream",
     "text": [
      "[GRID] start\n",
      "[GRID] Init:  0.498291015625 ms\n",
      "[GRID] Indices:  0.0 ms\n",
      "[GRID] Counts:  0.499755859375 ms\n",
      "[GRID] Starts, counts:  0.0 ms\n",
      "[GRID] Starts, counts:  0.0 ms\n",
      "[GRID] Average positions:  78.374755859375 ms\n",
      "[GRID] Max distances:  1.497314453125 ms\n",
      "[GRID] new points:  0.0 ms\n",
      "[UG] Grid generation:  0.08086991310119629 seconds\n",
      "[UG] Mem alloc:  0.0 seconds\n",
      "[UG] Mem copy:  0.000997304916381836 seconds\n",
      "[UG] Run:  0.0 seconds\n",
      "[UG] Copy back:  0.0808713436126709 seconds\n",
      "[UG] Total:  0.16273856163024902 seconds\n",
      "[UG] neg_f:  0.164 s\n"
     ]
    },
    {
     "name": "stderr",
     "output_type": "stream",
     "text": [
      "Gradient Descent error: 110.28636 grad_norm: 6.30146e-01:  22%|██▏       | 56/250 [00:21<01:49,  1.77it/s]"
     ]
    },
    {
     "name": "stdout",
     "output_type": "stream",
     "text": [
      "[UG] pos_f:  0.17 s\n",
      "[UG] applying forces:  0.017 s\n"
     ]
    },
    {
     "name": "stderr",
     "output_type": "stream",
     "text": [
      "Gradient Descent error: 110.28636 grad_norm: 6.30146e-01:  23%|██▎       | 57/250 [00:21<01:53,  1.71it/s]"
     ]
    },
    {
     "name": "stdout",
     "output_type": "stream",
     "text": [
      "[GRID] start\n",
      "[GRID] Init:  0.498779296875 ms\n",
      "[GRID] Indices:  0.0 ms\n",
      "[GRID] Counts:  0.0 ms\n",
      "[GRID] Starts, counts:  0.0 ms\n",
      "[GRID] Starts, counts:  0.0 ms\n",
      "[GRID] Average positions:  73.881103515625 ms\n",
      "[GRID] Max distances:  1.497314453125 ms\n",
      "[GRID] new points:  0.0 ms\n",
      "[UG] Grid generation:  0.07637596130371094 seconds\n",
      "[UG] Mem alloc:  0.0 seconds\n",
      "[UG] Mem copy:  0.0004990100860595703 seconds\n",
      "[UG] Run:  0.0 seconds\n",
      "[UG] Copy back:  0.08386564254760742 seconds\n",
      "[UG] Total:  0.1612401008605957 seconds\n",
      "[UG] neg_f:  0.162 s\n"
     ]
    },
    {
     "name": "stderr",
     "output_type": "stream",
     "text": [
      "Gradient Descent error: 110.29647 grad_norm: 6.29789e-01:  23%|██▎       | 57/250 [00:22<01:53,  1.71it/s]"
     ]
    },
    {
     "name": "stdout",
     "output_type": "stream",
     "text": [
      "[UG] pos_f:  0.17 s\n",
      "[UG] applying forces:  0.018000000000000002 s\n"
     ]
    },
    {
     "name": "stderr",
     "output_type": "stream",
     "text": [
      "Gradient Descent error: 110.29647 grad_norm: 6.29789e-01:  23%|██▎       | 58/250 [00:22<01:52,  1.70it/s]"
     ]
    },
    {
     "name": "stdout",
     "output_type": "stream",
     "text": [
      "[GRID] start\n",
      "[GRID] Init:  0.4990234375 ms\n",
      "[GRID] Indices:  0.0 ms\n",
      "[GRID] Counts:  0.0 ms\n",
      "[GRID] Starts, counts:  0.0 ms\n",
      "[GRID] Starts, counts:  0.498291015625 ms\n",
      "[GRID] Average positions:  81.869384765625 ms\n",
      "[GRID] Max distances:  1.49658203125 ms\n",
      "[GRID] new points:  0.0 ms\n",
      "[UG] Grid generation:  0.08486294746398926 seconds\n",
      "[UG] Mem alloc:  0.0 seconds\n",
      "[UG] Mem copy:  0.0034945011138916016 seconds\n",
      "[UG] Run:  0.0004994869232177734 seconds\n",
      "[UG] Copy back:  0.0648953914642334 seconds\n",
      "[UG] Total:  0.15375232696533203 seconds\n",
      "[UG] neg_f:  0.154 s\n"
     ]
    },
    {
     "name": "stderr",
     "output_type": "stream",
     "text": [
      "Gradient Descent error: 110.29768 grad_norm: 6.29198e-01:  23%|██▎       | 58/250 [00:22<01:52,  1.70it/s]"
     ]
    },
    {
     "name": "stdout",
     "output_type": "stream",
     "text": [
      "[UG] pos_f:  0.153 s\n",
      "[UG] applying forces:  0.016 s\n"
     ]
    },
    {
     "name": "stderr",
     "output_type": "stream",
     "text": [
      "Gradient Descent error: 110.29768 grad_norm: 6.29198e-01:  24%|██▎       | 59/250 [00:23<01:56,  1.64it/s]"
     ]
    },
    {
     "name": "stdout",
     "output_type": "stream",
     "text": [
      "[GRID] start\n",
      "[GRID] Init:  0.499267578125 ms\n",
      "[GRID] Indices:  0.0 ms\n",
      "[GRID] Counts:  0.0 ms\n",
      "[GRID] Starts, counts:  0.0 ms\n",
      "[GRID] Starts, counts:  0.0 ms\n",
      "[GRID] Average positions:  72.3828125 ms\n",
      "[GRID] Max distances:  1.497314453125 ms\n",
      "[GRID] new points:  0.0 ms\n",
      "[UG] Grid generation:  0.0753774642944336 seconds\n",
      "[UG] Mem alloc:  0.0 seconds\n",
      "[UG] Mem copy:  0.004493236541748047 seconds\n",
      "[UG] Run:  0.0 seconds\n",
      "[UG] Copy back:  0.09035468101501465 seconds\n",
      "[UG] Total:  0.1702253818511963 seconds\n",
      "[UG] neg_f:  0.17 s\n"
     ]
    },
    {
     "name": "stderr",
     "output_type": "stream",
     "text": [
      "Gradient Descent error: 110.29378 grad_norm: 6.29568e-01:  24%|██▎       | 59/250 [00:23<01:56,  1.64it/s]"
     ]
    },
    {
     "name": "stdout",
     "output_type": "stream",
     "text": [
      "[UG] pos_f:  0.148 s\n",
      "[UG] applying forces:  0.025 s\n"
     ]
    },
    {
     "name": "stderr",
     "output_type": "stream",
     "text": [
      "Gradient Descent error: 110.29378 grad_norm: 6.29568e-01:  24%|██▍       | 60/250 [00:23<02:00,  1.58it/s]"
     ]
    },
    {
     "name": "stdout",
     "output_type": "stream",
     "text": [
      "[GRID] start\n",
      "[GRID] Init:  0.0 ms\n",
      "[GRID] Indices:  0.0 ms\n",
      "[GRID] Counts:  0.0 ms\n",
      "[GRID] Starts, counts:  0.0 ms\n",
      "[GRID] Starts, counts:  0.0 ms\n",
      "[GRID] Average positions:  75.877685546875 ms\n",
      "[GRID] Max distances:  0.999267578125 ms\n",
      "[GRID] new points:  0.0 ms\n",
      "[UG] Grid generation:  0.07787370681762695 seconds\n",
      "[UG] Mem alloc:  0.0 seconds\n",
      "[UG] Mem copy:  0.0004994869232177734 seconds\n",
      "[UG] Run:  0.0004992485046386719 seconds\n",
      "[UG] Copy back:  0.10033917427062988 seconds\n",
      "[UG] Total:  0.17971062660217285 seconds\n",
      "[UG] neg_f:  0.18 s\n"
     ]
    },
    {
     "name": "stderr",
     "output_type": "stream",
     "text": [
      "Gradient Descent error: 110.29928 grad_norm: 6.29181e-01:  24%|██▍       | 60/250 [00:24<02:00,  1.58it/s]"
     ]
    },
    {
     "name": "stdout",
     "output_type": "stream",
     "text": [
      "[UG] pos_f:  0.135 s\n",
      "[UG] applying forces:  0.015 s\n"
     ]
    },
    {
     "name": "stderr",
     "output_type": "stream",
     "text": [
      "Gradient Descent error: 110.29928 grad_norm: 6.29181e-01:  24%|██▍       | 61/250 [00:24<01:59,  1.59it/s]"
     ]
    },
    {
     "name": "stdout",
     "output_type": "stream",
     "text": [
      "[GRID] start\n",
      "[GRID] Init:  0.49951171875 ms\n",
      "[GRID] Indices:  0.0 ms\n",
      "[GRID] Counts:  0.0 ms\n",
      "[GRID] Starts, counts:  0.0 ms\n",
      "[GRID] Starts, counts:  0.4990234375 ms\n",
      "[GRID] Average positions:  51.916748046875 ms\n",
      "[GRID] Max distances:  1.497314453125 ms\n",
      "[GRID] new points:  0.0 ms\n",
      "[UG] Grid generation:  0.0544126033782959 seconds\n",
      "[UG] Mem alloc:  0.0 seconds\n",
      "[UG] Mem copy:  0.0009982585906982422 seconds\n",
      "[UG] Run:  0.0 seconds\n",
      "[UG] Copy back:  0.0823674201965332 seconds\n",
      "[UG] Total:  0.13827729225158691 seconds\n",
      "[UG] neg_f:  0.138 s\n"
     ]
    },
    {
     "name": "stderr",
     "output_type": "stream",
     "text": [
      "Gradient Descent error: 110.29173 grad_norm: 6.30361e-01:  25%|██▍       | 62/250 [00:24<01:48,  1.73it/s]"
     ]
    },
    {
     "name": "stdout",
     "output_type": "stream",
     "text": [
      "[UG] pos_f:  0.115 s\n",
      "[UG] applying forces:  0.027 s\n",
      "[GRID] start\n",
      "[GRID] Init:  0.499267578125 ms\n",
      "[GRID] Indices:  0.0 ms\n",
      "[GRID] Counts:  0.0 ms\n",
      "[GRID] Starts, counts:  0.0 ms\n",
      "[GRID] Starts, counts:  0.0 ms\n",
      "[GRID] Average positions:  33.945556640625 ms\n",
      "[GRID] Max distances:  0.9990234375 ms\n",
      "[GRID] new points:  0.0 ms\n",
      "[UG] Grid generation:  0.035942792892456055 seconds\n",
      "[UG] Mem alloc:  0.0 seconds\n"
     ]
    },
    {
     "name": "stderr",
     "output_type": "stream",
     "text": [
      "Gradient Descent error: 110.29287 grad_norm: 6.29374e-01:  25%|██▍       | 62/250 [00:25<01:48,  1.73it/s]"
     ]
    },
    {
     "name": "stdout",
     "output_type": "stream",
     "text": [
      "[UG] Mem copy:  0.0034942626953125 seconds\n",
      "[UG] Run:  0.0 seconds\n",
      "[UG] Copy back:  0.07288289070129395 seconds\n",
      "[UG] Total:  0.1123199462890625 seconds\n",
      "[UG] neg_f:  0.112 s\n",
      "[UG] pos_f:  0.075 s\n",
      "[UG] applying forces:  0.018000000000000002 s\n"
     ]
    },
    {
     "name": "stderr",
     "output_type": "stream",
     "text": [
      "Gradient Descent error: 110.29287 grad_norm: 6.29374e-01:  25%|██▌       | 63/250 [00:25<01:36,  1.93it/s]"
     ]
    },
    {
     "name": "stdout",
     "output_type": "stream",
     "text": [
      "[GRID] start\n",
      "[GRID] Init:  0.499755859375 ms\n",
      "[GRID] Indices:  0.0 ms\n",
      "[GRID] Counts:  0.0 ms\n",
      "[GRID] Starts, counts:  0.0 ms\n",
      "[GRID] Starts, counts:  0.0 ms\n",
      "[GRID] Average positions:  39.935302734375 ms\n",
      "[GRID] Max distances:  1.497314453125 ms\n",
      "[GRID] new points:  0.0 ms\n",
      "[UG] Grid generation:  0.04193234443664551 seconds\n",
      "[UG] Mem alloc:  0.0 seconds\n",
      "[UG] Mem copy:  0.0004992485046386719 seconds\n",
      "[UG] Run:  0.0 seconds\n",
      "[UG] Copy back:  0.0893559455871582 seconds\n",
      "[UG] Total:  0.1352827548980713 seconds\n",
      "[UG] neg_f:  0.135 s\n"
     ]
    },
    {
     "name": "stderr",
     "output_type": "stream",
     "text": [
      "Gradient Descent error: 110.28889 grad_norm: 6.29595e-01:  25%|██▌       | 63/250 [00:25<01:36,  1.93it/s]"
     ]
    },
    {
     "name": "stdout",
     "output_type": "stream",
     "text": [
      "[UG] pos_f:  0.089 s\n",
      "[UG] applying forces:  0.025 s\n"
     ]
    },
    {
     "name": "stderr",
     "output_type": "stream",
     "text": [
      "Gradient Descent error: 110.28889 grad_norm: 6.29595e-01:  26%|██▌       | 64/250 [00:25<01:33,  1.99it/s]"
     ]
    },
    {
     "name": "stdout",
     "output_type": "stream",
     "text": [
      "[GRID] start\n",
      "[GRID] Init:  0.499267578125 ms\n",
      "[GRID] Indices:  0.0 ms\n",
      "[GRID] Counts:  0.0 ms\n",
      "[GRID] Starts, counts:  0.0 ms\n",
      "[GRID] Starts, counts:  0.0 ms\n",
      "[GRID] Average positions:  66.892333984375 ms\n",
      "[GRID] Max distances:  1.498291015625 ms\n",
      "[GRID] new points:  0.0 ms\n",
      "[UG] Grid generation:  0.07138562202453613 seconds\n",
      "[UG] Mem alloc:  0.0 seconds\n",
      "[UG] Mem copy:  0.000997304916381836 seconds\n",
      "[UG] Run:  0.0 seconds\n",
      "[UG] Copy back:  0.08386588096618652 seconds\n",
      "[UG] Total:  0.1562488079071045 seconds\n",
      "[UG] neg_f:  0.156 s\n"
     ]
    },
    {
     "name": "stderr",
     "output_type": "stream",
     "text": [
      "Gradient Descent error: 110.29420 grad_norm: 6.29389e-01:  26%|██▌       | 65/250 [00:26<01:34,  1.97it/s]"
     ]
    },
    {
     "name": "stdout",
     "output_type": "stream",
     "text": [
      "[UG] pos_f:  0.155 s\n",
      "[UG] applying forces:  0.014 s\n",
      "[GRID] start\n",
      "[GRID] Init:  0.498779296875 ms\n",
      "[GRID] Indices:  0.0 ms\n",
      "[GRID] Counts:  0.0 ms\n",
      "[GRID] Starts, counts:  0.0 ms\n",
      "[GRID] Starts, counts:  0.0 ms\n",
      "[GRID] Average positions:  107.82763671875 ms\n",
      "[GRID] Max distances:  1.497314453125 ms\n",
      "[GRID] new points:  0.0 ms\n",
      "[UG] Grid generation:  0.1103217601776123 seconds\n",
      "[UG] Mem alloc:  0.0 seconds\n",
      "[UG] Mem copy:  0.000499725341796875 seconds\n",
      "[UG] Run:  0.0004990100860595703 seconds\n",
      "[UG] Copy back:  0.08885669708251953 seconds\n",
      "[UG] Total:  0.20017719268798828 seconds\n",
      "[UG] neg_f:  0.2 s\n"
     ]
    },
    {
     "name": "stderr",
     "output_type": "stream",
     "text": [
      "Gradient Descent error: 110.28664 grad_norm: 6.29184e-01:  26%|██▌       | 65/250 [00:26<01:34,  1.97it/s]"
     ]
    },
    {
     "name": "stdout",
     "output_type": "stream",
     "text": [
      "[UG] pos_f:  0.122 s\n",
      "[UG] applying forces:  0.041 s\n"
     ]
    },
    {
     "name": "stderr",
     "output_type": "stream",
     "text": [
      "Gradient Descent error: 110.28664 grad_norm: 6.29184e-01:  26%|██▋       | 66/250 [00:26<01:39,  1.85it/s]"
     ]
    },
    {
     "name": "stdout",
     "output_type": "stream",
     "text": [
      "[GRID] start\n",
      "[GRID] Init:  0.997802734375 ms\n",
      "[GRID] Indices:  0.0 ms\n",
      "[GRID] Counts:  0.0 ms\n",
      "[GRID] Starts, counts:  0.0 ms\n",
      "[GRID] Starts, counts:  0.0 ms\n",
      "[GRID] Average positions:  128.29443359375 ms\n",
      "[GRID] Max distances:  0.998046875 ms\n",
      "[GRID] new points:  0.0 ms\n",
      "[UG] Grid generation:  0.13128948211669922 seconds\n",
      "[UG] Mem alloc:  0.0 seconds\n",
      "[UG] Mem copy:  0.0004985332489013672 seconds\n",
      "[UG] Run:  0.0004992485046386719 seconds\n",
      "[UG] Copy back:  0.08835840225219727 seconds\n",
      "[UG] Total:  0.2211449146270752 seconds\n",
      "[UG] neg_f:  0.221 s\n",
      "[UG] pos_f:  0.149 s\n",
      "[UG] applying forces:  0.032 s\n"
     ]
    },
    {
     "name": "stderr",
     "output_type": "stream",
     "text": [
      "Gradient Descent error: 110.28773 grad_norm: 6.29832e-01:  27%|██▋       | 67/250 [00:27<01:45,  1.74it/s]"
     ]
    },
    {
     "name": "stdout",
     "output_type": "stream",
     "text": [
      "[GRID] start\n",
      "[GRID] Init:  0.49951171875 ms\n",
      "[GRID] Indices:  0.0 ms\n",
      "[GRID] Counts:  0.0 ms\n",
      "[GRID] Starts, counts:  0.0 ms\n",
      "[GRID] Starts, counts:  0.0 ms\n",
      "[GRID] Average positions:  72.882568359375 ms\n",
      "[GRID] Max distances:  0.998291015625 ms\n",
      "[GRID] new points:  0.0 ms\n",
      "[UG] Grid generation:  0.0753786563873291 seconds\n",
      "[UG] Mem alloc:  0.0 seconds\n",
      "[UG] Mem copy:  0.0009984970092773438 seconds\n",
      "[UG] Run:  0.0 seconds\n",
      "[UG] Copy back:  0.09384894371032715 seconds\n",
      "[UG] Total:  0.1702260971069336 seconds\n",
      "[UG] neg_f:  0.17 s\n"
     ]
    },
    {
     "name": "stderr",
     "output_type": "stream",
     "text": [
      "Gradient Descent error: 110.28797 grad_norm: 6.29875e-01:  27%|██▋       | 67/250 [00:27<01:45,  1.74it/s]"
     ]
    },
    {
     "name": "stdout",
     "output_type": "stream",
     "text": [
      "[UG] pos_f:  0.148 s\n",
      "[UG] applying forces:  0.02 s\n"
     ]
    },
    {
     "name": "stderr",
     "output_type": "stream",
     "text": [
      "Gradient Descent error: 110.28797 grad_norm: 6.29875e-01:  27%|██▋       | 68/250 [00:28<01:45,  1.73it/s]"
     ]
    },
    {
     "name": "stdout",
     "output_type": "stream",
     "text": [
      "[GRID] start\n",
      "[GRID] Init:  0.499267578125 ms\n",
      "[GRID] Indices:  0.0 ms\n",
      "[GRID] Counts:  0.0 ms\n",
      "[GRID] Starts, counts:  0.498779296875 ms\n",
      "[GRID] Starts, counts:  0.0 ms\n",
      "[GRID] Average positions:  81.868896484375 ms\n",
      "[GRID] Max distances:  1.497314453125 ms\n",
      "[GRID] new points:  0.0 ms\n",
      "[UG] Grid generation:  0.0858616828918457 seconds\n",
      "[UG] Mem alloc:  0.0 seconds\n",
      "[UG] Mem copy:  0.0009982585906982422 seconds\n",
      "[UG] Run:  0.0 seconds\n",
      "[UG] Copy back:  0.05990409851074219 seconds\n",
      "[UG] Total:  0.1492602825164795 seconds\n",
      "[UG] neg_f:  0.149 s\n"
     ]
    },
    {
     "name": "stderr",
     "output_type": "stream",
     "text": [
      "Gradient Descent error: 110.28553 grad_norm: 6.28653e-01:  27%|██▋       | 68/250 [00:28<01:45,  1.73it/s]"
     ]
    },
    {
     "name": "stdout",
     "output_type": "stream",
     "text": [
      "[UG] pos_f:  0.162 s\n",
      "[UG] applying forces:  0.018000000000000002 s\n"
     ]
    },
    {
     "name": "stderr",
     "output_type": "stream",
     "text": [
      "Gradient Descent error: 110.28553 grad_norm: 6.28653e-01:  28%|██▊       | 69/250 [00:28<01:45,  1.72it/s]"
     ]
    },
    {
     "name": "stdout",
     "output_type": "stream",
     "text": [
      "[GRID] start\n",
      "[GRID] Init:  0.0 ms\n",
      "[GRID] Indices:  0.0 ms\n",
      "[GRID] Counts:  0.0 ms\n",
      "[GRID] Starts, counts:  0.0 ms\n",
      "[GRID] Starts, counts:  0.0 ms\n",
      "[GRID] Average positions:  66.892333984375 ms\n",
      "[GRID] Max distances:  0.998779296875 ms\n",
      "[GRID] new points:  0.0 ms\n",
      "[UG] Grid generation:  0.06988739967346191 seconds\n",
      "[UG] Mem alloc:  0.0 seconds\n",
      "[UG] Mem copy:  0.0004990100860595703 seconds\n",
      "[UG] Run:  0.0 seconds\n",
      "[UG] Copy back:  0.0788731575012207 seconds\n",
      "[UG] Total:  0.1492595672607422 seconds\n",
      "[UG] neg_f:  0.149 s\n"
     ]
    },
    {
     "name": "stderr",
     "output_type": "stream",
     "text": [
      "Gradient Descent error: 110.28122 grad_norm: 6.30133e-01:  28%|██▊       | 69/250 [00:29<01:45,  1.72it/s]"
     ]
    },
    {
     "name": "stdout",
     "output_type": "stream",
     "text": [
      "[UG] pos_f:  0.152 s\n",
      "[UG] applying forces:  0.017 s\n"
     ]
    },
    {
     "name": "stderr",
     "output_type": "stream",
     "text": [
      "Gradient Descent error: 110.28122 grad_norm: 6.30133e-01:  28%|██▊       | 70/250 [00:29<01:45,  1.71it/s]"
     ]
    },
    {
     "name": "stdout",
     "output_type": "stream",
     "text": [
      "[GRID] start\n",
      "[GRID] Init:  0.49951171875 ms\n",
      "[GRID] Indices:  0.0 ms\n",
      "[GRID] Counts:  0.0 ms\n",
      "[GRID] Starts, counts:  0.0 ms\n",
      "[GRID] Starts, counts:  0.0 ms\n",
      "[GRID] Average positions:  67.391845703125 ms\n",
      "[GRID] Max distances:  1.49755859375 ms\n",
      "[GRID] new points:  0.0 ms\n",
      "[UG] Grid generation:  0.06988811492919922 seconds\n",
      "[UG] Mem alloc:  0.0 seconds\n",
      "[UG] Mem copy:  0.0004990100860595703 seconds\n",
      "[UG] Run:  0.0 seconds\n",
      "[UG] Copy back:  0.07038664817810059 seconds\n",
      "[UG] Total:  0.14127302169799805 seconds\n",
      "[UG] neg_f:  0.14100000000000001 s\n"
     ]
    },
    {
     "name": "stderr",
     "output_type": "stream",
     "text": [
      "Gradient Descent error: 110.28222 grad_norm: 6.29646e-01:  28%|██▊       | 70/250 [00:29<01:45,  1.71it/s]"
     ]
    },
    {
     "name": "stdout",
     "output_type": "stream",
     "text": [
      "[UG] pos_f:  0.145 s\n",
      "[UG] applying forces:  0.02 s\n"
     ]
    },
    {
     "name": "stderr",
     "output_type": "stream",
     "text": [
      "Gradient Descent error: 110.28222 grad_norm: 6.29646e-01:  28%|██▊       | 71/250 [00:29<01:45,  1.69it/s]"
     ]
    },
    {
     "name": "stdout",
     "output_type": "stream",
     "text": [
      "[GRID] start\n",
      "[GRID] Init:  0.49853515625 ms\n",
      "[GRID] Indices:  0.49951171875 ms\n",
      "[GRID] Counts:  0.0 ms\n",
      "[GRID] Starts, counts:  0.0 ms\n",
      "[GRID] Starts, counts:  0.0 ms\n",
      "[GRID] Average positions:  39.4365234375 ms\n",
      "[GRID] Max distances:  0.99853515625 ms\n",
      "[GRID] new points:  0.0 ms\n",
      "[UG] Grid generation:  0.04193234443664551 seconds\n",
      "[UG] Mem alloc:  0.0 seconds\n",
      "[UG] Mem copy:  0.0004987716674804688 seconds\n",
      "[UG] Run:  0.000499725341796875 seconds\n",
      "[UG] Copy back:  0.08086943626403809 seconds\n",
      "[UG] Total:  0.12380027770996094 seconds\n",
      "[UG] neg_f:  0.124 s\n",
      "[UG] pos_f:  0.065 s\n"
     ]
    },
    {
     "name": "stderr",
     "output_type": "stream",
     "text": [
      "Gradient Descent error: 110.28247 grad_norm: 6.29669e-01:  28%|██▊       | 71/250 [00:30<01:45,  1.69it/s]"
     ]
    },
    {
     "name": "stdout",
     "output_type": "stream",
     "text": [
      "[UG] applying forces:  0.02 s\n"
     ]
    },
    {
     "name": "stderr",
     "output_type": "stream",
     "text": [
      "Gradient Descent error: 110.28247 grad_norm: 6.29669e-01:  29%|██▉       | 72/250 [00:30<01:37,  1.82it/s]"
     ]
    },
    {
     "name": "stdout",
     "output_type": "stream",
     "text": [
      "[GRID] start\n",
      "[GRID] Init:  0.497802734375 ms\n",
      "[GRID] Indices:  0.0 ms\n",
      "[GRID] Counts:  0.0 ms\n",
      "[GRID] Starts, counts:  0.0 ms\n",
      "[GRID] Starts, counts:  0.0 ms\n",
      "[GRID] Average positions:  35.941650390625 ms\n",
      "[GRID] Max distances:  1.49755859375 ms\n",
      "[GRID] new points:  0.0 ms\n",
      "[UG] Grid generation:  0.037937164306640625 seconds\n",
      "[UG] Mem alloc:  0.0 seconds\n",
      "[UG] Mem copy:  0.0009987354278564453 seconds\n",
      "[UG] Run:  0.0 seconds\n",
      "[UG] Copy back:  0.07238411903381348 seconds\n",
      "[UG] Total:  0.11132001876831055 seconds\n",
      "[UG] neg_f:  0.112 s\n",
      "[UG] pos_f:  0.075 s\n",
      "[UG] applying forces:  0.017 s\n"
     ]
    },
    {
     "name": "stderr",
     "output_type": "stream",
     "text": [
      "Gradient Descent error: 110.27982 grad_norm: 6.28479e-01:  29%|██▉       | 73/250 [00:30<01:28,  2.01it/s]"
     ]
    },
    {
     "name": "stdout",
     "output_type": "stream",
     "text": [
      "[GRID] start\n",
      "[GRID] Init:  0.498779296875 ms\n",
      "[GRID] Indices:  0.0 ms\n",
      "[GRID] Counts:  0.0 ms\n",
      "[GRID] Starts, counts:  0.0 ms\n",
      "[GRID] Starts, counts:  0.0 ms\n",
      "[GRID] Average positions:  33.447509765625 ms\n",
      "[GRID] Max distances:  0.998046875 ms\n",
      "[GRID] new points:  0.0 ms\n",
      "[UG] Grid generation:  0.03594183921813965 seconds\n",
      "[UG] Mem alloc:  0.0 seconds\n",
      "[UG] Mem copy:  0.0009984970092773438 seconds\n",
      "[UG] Run:  0.0 seconds\n",
      "[UG] Copy back:  0.07088565826416016 seconds\n",
      "[UG] Total:  0.10832476615905762 seconds\n",
      "[UG] neg_f:  0.109 s\n",
      "[UG] pos_f:  0.07100000000000001 s\n",
      "[UG] applying forces:  0.021 s\n"
     ]
    },
    {
     "name": "stderr",
     "output_type": "stream",
     "text": [
      "Gradient Descent error: 110.27636 grad_norm: 6.28628e-01:  30%|██▉       | 74/250 [00:31<01:20,  2.20it/s]"
     ]
    },
    {
     "name": "stdout",
     "output_type": "stream",
     "text": [
      "[GRID] start\n",
      "[GRID] Init:  0.501953125 ms\n",
      "[GRID] Indices:  0.0 ms\n",
      "[GRID] Counts:  0.0 ms\n",
      "[GRID] Starts, counts:  0.0 ms\n",
      "[GRID] Starts, counts:  0.0 ms\n",
      "[GRID] Average positions:  21.462158203125 ms\n",
      "[GRID] Max distances:  0.9990234375 ms\n",
      "[GRID] new points:  0.0 ms\n",
      "[UG] Grid generation:  0.022963285446166992 seconds\n",
      "[UG] Mem alloc:  0.0 seconds\n",
      "[UG] Mem copy:  0.0004985332489013672 seconds\n",
      "[UG] Run:  0.0 seconds\n",
      "[UG] Copy back:  0.06439733505249023 seconds\n",
      "[UG] Total:  0.0878591537475586 seconds\n",
      "[UG] neg_f:  0.088 s\n",
      "[UG] pos_f:  0.064 s\n",
      "[UG] applying forces:  0.017 s\n"
     ]
    },
    {
     "name": "stderr",
     "output_type": "stream",
     "text": [
      "Gradient Descent error: 110.27636 grad_norm: 6.28628e-01:  30%|███       | 75/250 [00:31<01:12,  2.42it/s]"
     ]
    },
    {
     "name": "stdout",
     "output_type": "stream",
     "text": [
      "[GRID] start\n",
      "[GRID] Init:  0.0 ms\n",
      "[GRID] Indices:  0.500244140625 ms\n",
      "[GRID] Counts:  0.0 ms\n",
      "[GRID] Starts, counts:  0.0 ms\n",
      "[GRID] Starts, counts:  0.0 ms\n",
      "[GRID] Average positions:  28.953125 ms\n",
      "[GRID] Max distances:  0.997802734375 ms\n",
      "[GRID] new points:  0.0 ms\n",
      "[UG] Grid generation:  0.030949831008911133 seconds\n",
      "[UG] Mem alloc:  0.0 seconds\n",
      "[UG] Mem copy:  0.000499725341796875 seconds\n",
      "[UG] Run:  0.0 seconds\n",
      "[UG] Copy back:  0.07737541198730469 seconds\n",
      "[UG] Total:  0.10932374000549316 seconds\n",
      "[UG] neg_f:  0.109 s\n",
      "[UG] pos_f:  0.079 s\n"
     ]
    },
    {
     "name": "stderr",
     "output_type": "stream",
     "text": [
      "Gradient Descent error: 110.27467 grad_norm: 6.29118e-01:  30%|███       | 76/250 [00:31<01:11,  2.43it/s]"
     ]
    },
    {
     "name": "stdout",
     "output_type": "stream",
     "text": [
      "[UG] applying forces:  0.024 s\n"
     ]
    },
    {
     "name": "stderr",
     "output_type": "stream",
     "text": [
      "Gradient Descent error: 110.27378 grad_norm: 6.28527e-01:  30%|███       | 76/250 [00:31<01:11,  2.43it/s]"
     ]
    },
    {
     "name": "stdout",
     "output_type": "stream",
     "text": [
      "[GRID] start\n",
      "[GRID] Init:  0.500732421875 ms\n",
      "[GRID] Indices:  0.0 ms\n",
      "[GRID] Counts:  0.0 ms\n",
      "[GRID] Starts, counts:  0.0 ms\n",
      "[GRID] Starts, counts:  0.0 ms\n",
      "[GRID] Average positions:  19.96533203125 ms\n",
      "[GRID] Max distances:  1.996826171875 ms\n",
      "[GRID] new points:  0.0 ms\n",
      "[UG] Grid generation:  0.022462844848632812 seconds\n",
      "[UG] Mem alloc:  0.0 seconds\n",
      "[UG] Mem copy:  0.0019958019256591797 seconds\n",
      "[UG] Run:  0.0 seconds\n",
      "[UG] Copy back:  0.06290125846862793 seconds\n",
      "[UG] Total:  0.0878593921661377 seconds\n",
      "[UG] neg_f:  0.088 s\n",
      "[UG] pos_f:  0.07100000000000001 s\n",
      "[UG] applying forces:  0.018000000000000002 s\n"
     ]
    },
    {
     "name": "stderr",
     "output_type": "stream",
     "text": [
      "Gradient Descent error: 110.27378 grad_norm: 6.28527e-01:  31%|███       | 77/250 [00:32<01:06,  2.60it/s]"
     ]
    },
    {
     "name": "stdout",
     "output_type": "stream",
     "text": [
      "[GRID] start\n",
      "[GRID] Init:  0.498046875 ms\n",
      "[GRID] Indices:  0.0 ms\n",
      "[GRID] Counts:  0.0 ms\n",
      "[GRID] Starts, counts:  0.0 ms\n",
      "[GRID] Starts, counts:  0.0 ms\n",
      "[GRID] Average positions:  26.959228515625 ms\n",
      "[GRID] Max distances:  0.995849609375 ms\n",
      "[GRID] new points:  0.0 ms\n",
      "[UG] Grid generation:  0.02845311164855957 seconds\n",
      "[UG] Mem alloc:  0.0 seconds\n",
      "[UG] Mem copy:  0.0009975433349609375 seconds\n",
      "[UG] Run:  0.0 seconds\n",
      "[UG] Copy back:  0.07987213134765625 seconds\n",
      "[UG] Total:  0.10932278633117676 seconds\n",
      "[UG] neg_f:  0.11 s\n",
      "[UG] pos_f:  0.077 s\n",
      "[UG] applying forces:  0.019 s\n"
     ]
    },
    {
     "name": "stderr",
     "output_type": "stream",
     "text": [
      "Gradient Descent error: 110.27449 grad_norm: 6.28887e-01:  31%|███       | 78/250 [00:32<01:04,  2.68it/s]"
     ]
    },
    {
     "name": "stdout",
     "output_type": "stream",
     "text": [
      "[GRID] start\n",
      "[GRID] Init:  0.498779296875 ms\n",
      "[GRID] Indices:  0.0 ms\n",
      "[GRID] Counts:  0.0 ms\n",
      "[GRID] Starts, counts:  0.0 ms\n",
      "[GRID] Starts, counts:  0.0 ms\n",
      "[GRID] Average positions:  22.981201171875 ms\n",
      "[GRID] Max distances:  0.99853515625 ms\n",
      "[GRID] new points:  0.0 ms\n",
      "[UG] Grid generation:  0.024478673934936523 seconds\n",
      "[UG] Mem alloc:  0.0 seconds\n",
      "[UG] Mem copy:  0.000978708267211914 seconds\n",
      "[UG] Run:  0.0 seconds\n",
      "[UG] Copy back:  0.058420419692993164 seconds\n",
      "[UG] Total:  0.0838778018951416 seconds\n",
      "[UG] neg_f:  0.083 s\n",
      "[UG] pos_f:  0.061 s\n",
      "[UG] applying forces:  0.021 s\n"
     ]
    },
    {
     "name": "stderr",
     "output_type": "stream",
     "text": [
      "Gradient Descent error: 110.27449 grad_norm: 6.28887e-01:  32%|███▏      | 79/250 [00:32<01:00,  2.84it/s]"
     ]
    },
    {
     "name": "stdout",
     "output_type": "stream",
     "text": [
      "[GRID] start\n",
      "[GRID] Init:  0.49853515625 ms\n",
      "[GRID] Indices:  0.0 ms\n",
      "[GRID] Counts:  0.0 ms\n",
      "[GRID] Starts, counts:  0.0 ms\n",
      "[GRID] Starts, counts:  0.0 ms\n",
      "[GRID] Average positions:  31.94873046875 ms\n",
      "[GRID] Max distances:  0.998046875 ms\n",
      "[GRID] new points:  0.0 ms\n",
      "[UG] Grid generation:  0.03344535827636719 seconds\n",
      "[UG] Mem alloc:  0.0 seconds\n",
      "[UG] Mem copy:  0.0009968280792236328 seconds\n",
      "[UG] Run:  0.0 seconds\n",
      "[UG] Copy back:  0.09384846687316895 seconds\n",
      "[UG] Total:  0.12879014015197754 seconds\n",
      "[UG] neg_f:  0.129 s\n",
      "[UG] pos_f:  0.063 s\n",
      "[UG] applying forces:  0.019 s\n"
     ]
    },
    {
     "name": "stderr",
     "output_type": "stream",
     "text": [
      "Gradient Descent error: 110.27046 grad_norm: 6.29206e-01:  32%|███▏      | 80/250 [00:33<01:00,  2.81it/s]"
     ]
    },
    {
     "name": "stdout",
     "output_type": "stream",
     "text": [
      "[GRID] start\n",
      "[GRID] Init:  0.999267578125 ms\n",
      "[GRID] Indices:  0.0 ms\n",
      "[GRID] Counts:  0.0 ms\n",
      "[GRID] Starts, counts:  0.0 ms\n",
      "[GRID] Starts, counts:  0.0 ms\n",
      "[GRID] Average positions:  21.4638671875 ms\n",
      "[GRID] Max distances:  0.99853515625 ms\n",
      "[GRID] new points:  0.0 ms\n",
      "[UG] Grid generation:  0.02346181869506836 seconds\n",
      "[UG] Mem alloc:  0.0 seconds\n",
      "[UG] Mem copy:  0.0009982585906982422 seconds\n",
      "[UG] Run:  0.0 seconds\n",
      "[UG] Copy back:  0.06640744209289551 seconds\n",
      "[UG] Total:  0.09086751937866211 seconds\n",
      "[UG] neg_f:  0.09 s\n",
      "[UG] pos_f:  0.063 s\n",
      "[UG] applying forces:  0.023 s\n"
     ]
    },
    {
     "name": "stderr",
     "output_type": "stream",
     "text": [
      "Gradient Descent error: 110.26279 grad_norm: 6.29384e-01:  32%|███▏      | 81/250 [00:33<00:58,  2.91it/s]"
     ]
    },
    {
     "name": "stdout",
     "output_type": "stream",
     "text": [
      "[GRID] start\n",
      "[GRID] Init:  0.499267578125 ms\n",
      "[GRID] Indices:  0.0 ms\n",
      "[GRID] Counts:  0.0 ms\n",
      "[GRID] Starts, counts:  0.0 ms\n",
      "[GRID] Starts, counts:  0.0 ms\n",
      "[GRID] Average positions:  22.961181640625 ms\n",
      "[GRID] Max distances:  0.998291015625 ms\n",
      "[GRID] new points:  0.0 ms\n",
      "[UG] Grid generation:  0.024458885192871094 seconds\n",
      "[UG] Mem alloc:  0.0 seconds\n",
      "[UG] Mem copy:  0.0005002021789550781 seconds\n",
      "[UG] Run:  0.0004990100860595703 seconds\n",
      "[UG] Copy back:  0.06589508056640625 seconds\n",
      "[UG] Total:  0.09185147285461426 seconds\n",
      "[UG] neg_f:  0.092 s\n",
      "[UG] pos_f:  0.08 s\n",
      "[UG] applying forces:  0.016 s\n"
     ]
    },
    {
     "name": "stderr",
     "output_type": "stream",
     "text": [
      "Gradient Descent error: 110.26784 grad_norm: 6.28920e-01:  33%|███▎      | 82/250 [00:33<00:56,  2.95it/s]"
     ]
    },
    {
     "name": "stdout",
     "output_type": "stream",
     "text": [
      "[GRID] start\n",
      "[GRID] Init:  0.5 ms\n",
      "[GRID] Indices:  0.0 ms\n",
      "[GRID] Counts:  0.0 ms\n",
      "[GRID] Starts, counts:  0.0 ms\n",
      "[GRID] Starts, counts:  0.0 ms\n",
      "[GRID] Average positions:  27.455078125 ms\n",
      "[GRID] Max distances:  0.9990234375 ms\n",
      "[GRID] new points:  0.0 ms\n",
      "[UG] Grid generation:  0.028954267501831055 seconds\n",
      "[UG] Mem alloc:  0.0 seconds\n",
      "[UG] Mem copy:  0.0009980201721191406 seconds\n",
      "[UG] Run:  0.0 seconds\n",
      "[UG] Copy back:  0.06090283393859863 seconds\n",
      "[UG] Total:  0.09085512161254883 seconds\n",
      "[UG] neg_f:  0.091 s\n",
      "[UG] pos_f:  0.059000000000000004 s\n",
      "[UG] applying forces:  0.021 s\n"
     ]
    },
    {
     "name": "stderr",
     "output_type": "stream",
     "text": [
      "Gradient Descent error: 110.26784 grad_norm: 6.28920e-01:  33%|███▎      | 83/250 [00:34<00:55,  3.00it/s]"
     ]
    },
    {
     "name": "stdout",
     "output_type": "stream",
     "text": [
      "[GRID] start\n",
      "[GRID] Init:  0.0 ms\n",
      "[GRID] Indices:  0.497802734375 ms\n",
      "[GRID] Counts:  0.0 ms\n",
      "[GRID] Starts, counts:  0.0 ms\n",
      "[GRID] Starts, counts:  0.0 ms\n",
      "[GRID] Average positions:  43.929443359375 ms\n",
      "[GRID] Max distances:  0.998291015625 ms\n",
      "[GRID] new points:  0.0 ms\n",
      "[UG] Grid generation:  0.045926570892333984 seconds\n",
      "[UG] Mem alloc:  0.0 seconds\n",
      "[UG] Mem copy:  0.0009984970092773438 seconds\n",
      "[UG] Run:  0.0 seconds\n",
      "[UG] Copy back:  0.08386492729187012 seconds\n",
      "[UG] Total:  0.13078999519348145 seconds\n",
      "[UG] neg_f:  0.13 s\n"
     ]
    },
    {
     "name": "stderr",
     "output_type": "stream",
     "text": [
      "Gradient Descent error: 110.26396 grad_norm: 6.29420e-01:  34%|███▎      | 84/250 [00:34<00:58,  2.82it/s]"
     ]
    },
    {
     "name": "stdout",
     "output_type": "stream",
     "text": [
      "[UG] pos_f:  0.081 s\n",
      "[UG] applying forces:  0.018000000000000002 s\n",
      "[GRID] start\n",
      "[GRID] Init:  0.0 ms\n",
      "[GRID] Indices:  0.0 ms\n",
      "[GRID] Counts:  0.0 ms\n",
      "[GRID] Starts, counts:  0.0 ms\n",
      "[GRID] Starts, counts:  0.0 ms\n",
      "[GRID] Average positions:  37.437255859375 ms\n",
      "[GRID] Max distances:  1.497314453125 ms\n",
      "[GRID] new points:  0.0 ms\n",
      "[UG] Grid generation:  0.03993535041809082 seconds\n",
      "[UG] Mem alloc:  0.0 seconds\n"
     ]
    },
    {
     "name": "stderr",
     "output_type": "stream",
     "text": [
      "Gradient Descent error: 110.26443 grad_norm: 6.28413e-01:  34%|███▎      | 84/250 [00:34<00:58,  2.82it/s]"
     ]
    },
    {
     "name": "stdout",
     "output_type": "stream",
     "text": [
      "[UG] Mem copy:  0.0009984970092773438 seconds\n",
      "[UG] Run:  0.0 seconds\n",
      "[UG] Copy back:  0.0579066276550293 seconds\n",
      "[UG] Total:  0.09884047508239746 seconds\n",
      "[UG] neg_f:  0.099 s\n",
      "[UG] pos_f:  0.064 s\n",
      "[UG] applying forces:  0.017 s\n"
     ]
    },
    {
     "name": "stderr",
     "output_type": "stream",
     "text": [
      "Gradient Descent error: 110.25596 grad_norm: 6.29536e-01:  34%|███▍      | 85/250 [00:35<00:57,  2.87it/s]"
     ]
    },
    {
     "name": "stdout",
     "output_type": "stream",
     "text": [
      "[GRID] start\n",
      "[GRID] Init:  0.498779296875 ms\n",
      "[GRID] Indices:  0.5009765625 ms\n",
      "[GRID] Counts:  0.0 ms\n",
      "[GRID] Starts, counts:  0.0 ms\n",
      "[GRID] Starts, counts:  0.0 ms\n",
      "[GRID] Average positions:  24.95849609375 ms\n",
      "[GRID] Max distances:  0.998779296875 ms\n",
      "[GRID] new points:  0.0 ms\n",
      "[UG] Grid generation:  0.026957035064697266 seconds\n",
      "[UG] Mem alloc:  0.0 seconds\n",
      "[UG] Mem copy:  0.0009989738464355469 seconds\n",
      "[UG] Run:  0.0 seconds\n",
      "[UG] Copy back:  0.06938743591308594 seconds\n",
      "[UG] Total:  0.09734344482421875 seconds\n",
      "[UG] neg_f:  0.098 s\n",
      "[UG] pos_f:  0.059000000000000004 s\n",
      "[UG] applying forces:  0.019 s\n"
     ]
    },
    {
     "name": "stderr",
     "output_type": "stream",
     "text": [
      "Gradient Descent error: 110.25665 grad_norm: 6.28085e-01:  34%|███▍      | 86/250 [00:35<00:56,  2.89it/s]"
     ]
    },
    {
     "name": "stdout",
     "output_type": "stream",
     "text": [
      "[GRID] start\n",
      "[GRID] Init:  0.497802734375 ms\n",
      "[GRID] Indices:  0.0 ms\n",
      "[GRID] Counts:  0.0 ms\n",
      "[GRID] Starts, counts:  0.0 ms\n",
      "[GRID] Starts, counts:  0.0 ms\n",
      "[GRID] Average positions:  30.450927734375 ms\n",
      "[GRID] Max distances:  0.99853515625 ms\n",
      "[GRID] new points:  0.0 ms\n",
      "[UG] Grid generation:  0.03194713592529297 seconds\n",
      "[UG] Mem alloc:  0.0 seconds\n",
      "[UG] Mem copy:  0.0009984970092773438 seconds\n",
      "[UG] Run:  0.0 seconds\n",
      "[UG] Copy back:  0.05541038513183594 seconds\n",
      "[UG] Total:  0.08835601806640625 seconds\n",
      "[UG] neg_f:  0.088 s\n",
      "[UG] pos_f:  0.08 s\n",
      "[UG] applying forces:  0.017 s\n"
     ]
    },
    {
     "name": "stderr",
     "output_type": "stream",
     "text": [
      "Gradient Descent error: 110.25648 grad_norm: 6.29355e-01:  35%|███▍      | 87/250 [00:35<00:56,  2.90it/s]"
     ]
    },
    {
     "name": "stdout",
     "output_type": "stream",
     "text": [
      "[GRID] start\n",
      "[GRID] Init:  0.499755859375 ms\n",
      "[GRID] Indices:  0.0 ms\n",
      "[GRID] Counts:  0.0 ms\n",
      "[GRID] Starts, counts:  0.0 ms\n",
      "[GRID] Starts, counts:  0.0 ms\n",
      "[GRID] Average positions:  20.966064453125 ms\n",
      "[GRID] Max distances:  1.9970703125 ms\n",
      "[GRID] new points:  0.0 ms\n",
      "[UG] Grid generation:  0.024460792541503906 seconds\n",
      "[UG] Mem alloc:  0.0 seconds\n",
      "[UG] Mem copy:  0.0004992485046386719 seconds\n",
      "[UG] Run:  0.0005002021789550781 seconds\n",
      "[UG] Copy back:  0.06441378593444824 seconds\n",
      "[UG] Total:  0.0898740291595459 seconds\n",
      "[UG] neg_f:  0.09 s\n",
      "[UG] pos_f:  0.06 s\n",
      "[UG] applying forces:  0.017 s\n"
     ]
    },
    {
     "name": "stderr",
     "output_type": "stream",
     "text": [
      "Gradient Descent error: 110.25648 grad_norm: 6.29355e-01:  35%|███▌      | 88/250 [00:35<00:54,  2.97it/s]"
     ]
    },
    {
     "name": "stdout",
     "output_type": "stream",
     "text": [
      "[GRID] start\n",
      "[GRID] Init:  0.498291015625 ms\n",
      "[GRID] Indices:  0.0 ms\n",
      "[GRID] Counts:  0.0 ms\n",
      "[GRID] Starts, counts:  0.0 ms\n",
      "[GRID] Starts, counts:  0.0 ms\n",
      "[GRID] Average positions:  63.397705078125 ms\n",
      "[GRID] Max distances:  1.49658203125 ms\n",
      "[GRID] new points:  0.0 ms\n",
      "[UG] Grid generation:  0.06539273262023926 seconds\n",
      "[UG] Mem alloc:  0.0 seconds\n",
      "[UG] Mem copy:  0.0009987354278564453 seconds\n",
      "[UG] Run:  0.0 seconds\n",
      "[UG] Copy back:  0.06741046905517578 seconds\n",
      "[UG] Total:  0.13428282737731934 seconds\n",
      "[UG] neg_f:  0.134 s\n"
     ]
    },
    {
     "name": "stderr",
     "output_type": "stream",
     "text": [
      "Gradient Descent error: 110.25748 grad_norm: 6.27177e-01:  36%|███▌      | 89/250 [00:36<00:54,  2.94it/s]"
     ]
    },
    {
     "name": "stdout",
     "output_type": "stream",
     "text": [
      "[UG] pos_f:  0.063 s\n",
      "[UG] applying forces:  0.018000000000000002 s\n",
      "[GRID] start\n",
      "[GRID] Init:  0.49951171875 ms\n",
      "[GRID] Indices:  0.0 ms\n",
      "[GRID] Counts:  0.0 ms\n",
      "[GRID] Starts, counts:  0.0 ms\n",
      "[GRID] Starts, counts:  0.0 ms\n",
      "[GRID] Average positions:  25.457763671875 ms\n",
      "[GRID] Max distances:  0.998779296875 ms\n",
      "[GRID] new points:  0.0 ms\n",
      "[UG] Grid generation:  0.02695608139038086 seconds\n",
      "[UG] Mem alloc:  0.0 seconds\n",
      "[UG] Mem copy:  0.0009987354278564453 seconds\n",
      "[UG] Run:  0.0 seconds\n"
     ]
    },
    {
     "name": "stderr",
     "output_type": "stream",
     "text": [
      "Gradient Descent error: 110.24878 grad_norm: 6.29792e-01:  36%|███▌      | 89/250 [00:36<00:54,  2.94it/s]"
     ]
    },
    {
     "name": "stdout",
     "output_type": "stream",
     "text": [
      "[UG] Copy back:  0.07288336753845215 seconds\n",
      "[UG] Total:  0.10083818435668945 seconds\n",
      "[UG] neg_f:  0.101 s\n",
      "[UG] pos_f:  0.07200000000000001 s\n",
      "[UG] applying forces:  0.018000000000000002 s\n"
     ]
    },
    {
     "name": "stderr",
     "output_type": "stream",
     "text": [
      "Gradient Descent error: 110.24945 grad_norm: 6.28054e-01:  36%|███▌      | 90/250 [00:36<00:54,  2.93it/s]"
     ]
    },
    {
     "name": "stdout",
     "output_type": "stream",
     "text": [
      "[GRID] start\n",
      "[GRID] Init:  0.498291015625 ms\n",
      "[GRID] Indices:  0.0 ms\n",
      "[GRID] Counts:  0.0 ms\n",
      "[GRID] Starts, counts:  0.0 ms\n",
      "[GRID] Starts, counts:  0.0 ms\n",
      "[GRID] Average positions:  28.953369140625 ms\n",
      "[GRID] Max distances:  0.99853515625 ms\n",
      "[GRID] new points:  0.0 ms\n",
      "[UG] Grid generation:  0.030450105667114258 seconds\n",
      "[UG] Mem alloc:  0.0 seconds\n",
      "[UG] Mem copy:  0.0004992485046386719 seconds\n",
      "[UG] Run:  0.0004987716674804688 seconds\n",
      "[UG] Copy back:  0.06190228462219238 seconds\n",
      "[UG] Total:  0.09384846687316895 seconds\n",
      "[UG] neg_f:  0.094 s\n",
      "[UG] pos_f:  0.06 s\n",
      "[UG] applying forces:  0.019 s\n"
     ]
    },
    {
     "name": "stderr",
     "output_type": "stream",
     "text": [
      "Gradient Descent error: 110.24945 grad_norm: 6.28054e-01:  36%|███▋      | 91/250 [00:36<00:52,  3.01it/s]"
     ]
    },
    {
     "name": "stdout",
     "output_type": "stream",
     "text": [
      "[GRID] start\n",
      "[GRID] Init:  0.500244140625 ms\n",
      "[GRID] Indices:  0.0 ms\n",
      "[GRID] Counts:  0.0 ms\n",
      "[GRID] Starts, counts:  0.0 ms\n",
      "[GRID] Starts, counts:  0.0 ms\n",
      "[GRID] Average positions:  28.454345703125 ms\n",
      "[GRID] Max distances:  1.496826171875 ms\n",
      "[GRID] new points:  0.0 ms\n",
      "[UG] Grid generation:  0.030451536178588867 seconds\n",
      "[UG] Mem alloc:  0.0 seconds\n",
      "[UG] Mem copy:  0.004991769790649414 seconds\n",
      "[UG] Run:  0.0 seconds\n",
      "[UG] Copy back:  0.057906389236450195 seconds\n",
      "[UG] Total:  0.09384918212890625 seconds\n",
      "[UG] neg_f:  0.094 s\n",
      "[UG] pos_f:  0.063 s\n",
      "[UG] applying forces:  0.018000000000000002 s\n"
     ]
    },
    {
     "name": "stderr",
     "output_type": "stream",
     "text": [
      "Gradient Descent error: 110.25028 grad_norm: 6.27034e-01:  37%|███▋      | 92/250 [00:37<00:51,  3.04it/s]"
     ]
    },
    {
     "name": "stdout",
     "output_type": "stream",
     "text": [
      "[GRID] start\n",
      "[GRID] Init:  0.5 ms\n",
      "[GRID] Indices:  0.0 ms\n",
      "[GRID] Counts:  0.0 ms\n",
      "[GRID] Starts, counts:  0.0 ms\n",
      "[GRID] Starts, counts:  0.0 ms\n",
      "[GRID] Average positions:  20.466552734375 ms\n",
      "[GRID] Max distances:  0.998779296875 ms\n",
      "[GRID] new points:  0.0 ms\n",
      "[UG] Grid generation:  0.02246403694152832 seconds\n",
      "[UG] Mem alloc:  0.0 seconds\n",
      "[UG] Mem copy:  0.0004990100860595703 seconds\n",
      "[UG] Run:  0.0 seconds\n",
      "[UG] Copy back:  0.06739163398742676 seconds\n",
      "[UG] Total:  0.09035468101501465 seconds\n",
      "[UG] neg_f:  0.091 s\n",
      "[UG] pos_f:  0.059000000000000004 s\n",
      "[UG] applying forces:  0.015 s\n"
     ]
    },
    {
     "name": "stderr",
     "output_type": "stream",
     "text": [
      "Gradient Descent error: 110.24135 grad_norm: 6.29204e-01:  37%|███▋      | 93/250 [00:37<00:50,  3.11it/s]"
     ]
    },
    {
     "name": "stdout",
     "output_type": "stream",
     "text": [
      "[GRID] start\n",
      "[GRID] Init:  0.0 ms\n",
      "[GRID] Indices:  0.0 ms\n",
      "[GRID] Counts:  0.0 ms\n",
      "[GRID] Starts, counts:  0.499755859375 ms\n",
      "[GRID] Starts, counts:  0.0 ms\n",
      "[GRID] Average positions:  19.968017578125 ms\n",
      "[GRID] Max distances:  1.49609375 ms\n",
      "[GRID] new points:  0.0 ms\n",
      "[UG] Grid generation:  0.02246403694152832 seconds\n",
      "[UG] Mem alloc:  0.0 seconds\n",
      "[UG] Mem copy:  0.0024957656860351562 seconds\n",
      "[UG] Run:  0.0004992485046386719 seconds\n",
      "[UG] Copy back:  0.0633995532989502 seconds\n",
      "[UG] Total:  0.08885860443115234 seconds\n",
      "[UG] neg_f:  0.089 s\n",
      "[UG] pos_f:  0.06 s\n",
      "[UG] applying forces:  0.018000000000000002 s\n"
     ]
    },
    {
     "name": "stderr",
     "output_type": "stream",
     "text": [
      "Gradient Descent error: 110.24135 grad_norm: 6.29204e-01:  38%|███▊      | 94/250 [00:37<00:49,  3.14it/s]"
     ]
    },
    {
     "name": "stdout",
     "output_type": "stream",
     "text": [
      "[GRID] start\n",
      "[GRID] Init:  0.499267578125 ms\n",
      "[GRID] Indices:  0.0 ms\n",
      "[GRID] Counts:  0.0 ms\n",
      "[GRID] Starts, counts:  0.0 ms\n",
      "[GRID] Starts, counts:  0.0 ms\n",
      "[GRID] Average positions:  23.46142578125 ms\n",
      "[GRID] Max distances:  1.498291015625 ms\n",
      "[GRID] new points:  0.0 ms\n",
      "[UG] Grid generation:  0.025458812713623047 seconds\n",
      "[UG] Mem alloc:  0.0 seconds\n",
      "[UG] Mem copy:  0.0034940242767333984 seconds\n",
      "[UG] Run:  0.0004994869232177734 seconds\n",
      "[UG] Copy back:  0.06191873550415039 seconds\n",
      "[UG] Total:  0.09137105941772461 seconds\n",
      "[UG] neg_f:  0.092 s\n",
      "[UG] pos_f:  0.063 s\n",
      "[UG] applying forces:  0.02 s\n"
     ]
    },
    {
     "name": "stderr",
     "output_type": "stream",
     "text": [
      "Gradient Descent error: 110.24605 grad_norm: 6.27570e-01:  38%|███▊      | 95/250 [00:38<00:49,  3.13it/s]"
     ]
    },
    {
     "name": "stdout",
     "output_type": "stream",
     "text": [
      "[GRID] start\n",
      "[GRID] Init:  0.4990234375 ms\n",
      "[GRID] Indices:  0.0 ms\n",
      "[GRID] Counts:  0.0 ms\n",
      "[GRID] Starts, counts:  0.0 ms\n",
      "[GRID] Starts, counts:  0.500732421875 ms\n",
      "[GRID] Average positions:  20.96728515625 ms\n",
      "[GRID] Max distances:  1.994873046875 ms\n",
      "[GRID] new points:  0.0 ms\n",
      "[UG] Grid generation:  0.023961782455444336 seconds\n",
      "[UG] Mem alloc:  0.0 seconds\n",
      "[UG] Mem copy:  0.001996278762817383 seconds\n",
      "[UG] Run:  0.0 seconds\n",
      "[UG] Copy back:  0.07090020179748535 seconds\n",
      "[UG] Total:  0.09685826301574707 seconds\n",
      "[UG] neg_f:  0.097 s\n",
      "[UG] pos_f:  0.06 s\n",
      "[UG] applying forces:  0.019 s\n"
     ]
    },
    {
     "name": "stderr",
     "output_type": "stream",
     "text": [
      "Gradient Descent error: 110.23838 grad_norm: 6.26724e-01:  38%|███▊      | 96/250 [00:38<00:49,  3.12it/s]"
     ]
    },
    {
     "name": "stdout",
     "output_type": "stream",
     "text": [
      "[GRID] start\n",
      "[GRID] Init:  0.49951171875 ms\n",
      "[GRID] Indices:  0.0 ms\n",
      "[GRID] Counts:  0.0 ms\n",
      "[GRID] Starts, counts:  0.0 ms\n",
      "[GRID] Starts, counts:  0.0 ms\n",
      "[GRID] Average positions:  20.966552734375 ms\n",
      "[GRID] Max distances:  0.997802734375 ms\n",
      "[GRID] new points:  0.0 ms\n",
      "[UG] Grid generation:  0.022963523864746094 seconds\n",
      "[UG] Mem alloc:  0.0 seconds\n",
      "[UG] Mem copy:  0.0004992485046386719 seconds\n",
      "[UG] Run:  0.0 seconds\n",
      "[UG] Copy back:  0.06689333915710449 seconds\n",
      "[UG] Total:  0.09035611152648926 seconds\n",
      "[UG] neg_f:  0.09 s\n",
      "[UG] pos_f:  0.058 s\n",
      "[UG] applying forces:  0.018000000000000002 s\n"
     ]
    },
    {
     "name": "stderr",
     "output_type": "stream",
     "text": [
      "Gradient Descent error: 110.23838 grad_norm: 6.26724e-01:  39%|███▉      | 97/250 [00:38<00:52,  2.92it/s]"
     ]
    },
    {
     "name": "stdout",
     "output_type": "stream",
     "text": [
      "[GRID] start\n",
      "[GRID] Init:  0.500732421875 ms\n",
      "[GRID] Indices:  0.0 ms\n",
      "[GRID] Counts:  0.501708984375 ms\n",
      "[GRID] Starts, counts:  0.0 ms\n",
      "[GRID] Starts, counts:  0.0 ms\n",
      "[GRID] Average positions:  41.92919921875 ms\n",
      "[GRID] Max distances:  1.497314453125 ms\n",
      "[GRID] new points:  0.0 ms\n",
      "[UG] Grid generation:  0.04492783546447754 seconds\n",
      "[UG] Mem alloc:  0.0 seconds\n",
      "[UG] Mem copy:  0.0009982585906982422 seconds\n",
      "[UG] Run:  0.0 seconds\n",
      "[UG] Copy back:  0.06341719627380371 seconds\n",
      "[UG] Total:  0.10934329032897949 seconds\n",
      "[UG] neg_f:  0.11 s\n",
      "[UG] pos_f:  0.065 s\n",
      "[UG] applying forces:  0.016 s\n"
     ]
    },
    {
     "name": "stderr",
     "output_type": "stream",
     "text": [
      "Gradient Descent error: 110.23814 grad_norm: 6.26987e-01:  39%|███▉      | 98/250 [00:39<00:52,  2.91it/s]"
     ]
    },
    {
     "name": "stdout",
     "output_type": "stream",
     "text": [
      "[GRID] start\n",
      "[GRID] Init:  0.49853515625 ms\n",
      "[GRID] Indices:  0.0 ms\n",
      "[GRID] Counts:  0.0 ms\n",
      "[GRID] Starts, counts:  0.0 ms\n",
      "[GRID] Starts, counts:  0.0 ms\n",
      "[GRID] Average positions:  22.962646484375 ms\n",
      "[GRID] Max distances:  4.49267578125 ms\n",
      "[GRID] new points:  0.0 ms\n",
      "[UG] Grid generation:  0.0279538631439209 seconds\n",
      "[UG] Mem alloc:  0.0 seconds\n",
      "[UG] Mem copy:  0.0009982585906982422 seconds\n",
      "[UG] Run:  0.0 seconds\n",
      "[UG] Copy back:  0.06040167808532715 seconds\n",
      "[UG] Total:  0.08935379981994629 seconds\n",
      "[UG] neg_f:  0.09 s\n",
      "[UG] pos_f:  0.065 s\n",
      "[UG] applying forces:  0.017 s\n"
     ]
    },
    {
     "name": "stderr",
     "output_type": "stream",
     "text": [
      "Gradient Descent error: 110.23814 grad_norm: 6.26987e-01:  40%|███▉      | 99/250 [00:39<00:50,  2.98it/s]"
     ]
    },
    {
     "name": "stdout",
     "output_type": "stream",
     "text": [
      "[GRID] start\n",
      "[GRID] Init:  0.4990234375 ms\n",
      "[GRID] Indices:  0.0 ms\n",
      "[GRID] Counts:  0.0 ms\n",
      "[GRID] Starts, counts:  0.0 ms\n",
      "[GRID] Starts, counts:  0.0 ms\n",
      "[GRID] Average positions:  22.962890625 ms\n",
      "[GRID] Max distances:  0.998779296875 ms\n",
      "[GRID] new points:  0.0 ms\n",
      "[UG] Grid generation:  0.024960041046142578 seconds\n",
      "[UG] Mem alloc:  0.0 seconds\n",
      "[UG] Mem copy:  0.0009982585906982422 seconds\n",
      "[UG] Run:  0.007489919662475586 seconds\n",
      "[UG] Copy back:  0.07238149642944336 seconds\n",
      "[UG] Total:  0.10582971572875977 seconds\n",
      "[UG] neg_f:  0.106 s\n"
     ]
    },
    {
     "name": "stderr",
     "output_type": "stream",
     "text": [
      "Gradient Descent error: 110.23332 grad_norm: 6.28529e-01:  40%|████      | 100/250 [00:39<00:51,  2.93it/s]"
     ]
    },
    {
     "name": "stdout",
     "output_type": "stream",
     "text": [
      "[UG] pos_f:  0.092 s\n",
      "[UG] applying forces:  0.018000000000000002 s\n",
      "[GRID] start\n",
      "[GRID] Init:  0.0 ms\n",
      "[GRID] Indices:  0.500244140625 ms\n",
      "[GRID] Counts:  0.0 ms\n",
      "[GRID] Starts, counts:  0.0 ms\n",
      "[GRID] Starts, counts:  0.0 ms\n",
      "[GRID] Average positions:  25.457763671875 ms\n",
      "[GRID] Max distances:  0.99853515625 ms\n",
      "[GRID] new points:  0.0 ms\n",
      "[UG] Grid generation:  0.026956558227539062 seconds\n",
      "[UG] Mem alloc:  0.0 seconds\n",
      "[UG] Mem copy:  0.0004994869232177734 seconds\n",
      "[UG] Run:  0.0 seconds\n"
     ]
    },
    {
     "name": "stderr",
     "output_type": "stream",
     "text": [
      "Gradient Descent error: 110.23491 grad_norm: 6.26939e-01:  40%|████      | 100/250 [00:40<00:51,  2.93it/s]"
     ]
    },
    {
     "name": "stdout",
     "output_type": "stream",
     "text": [
      "[UG] Copy back:  0.05691695213317871 seconds\n",
      "[UG] Total:  0.08487153053283691 seconds\n",
      "[UG] neg_f:  0.085 s\n",
      "[UG] pos_f:  0.088 s\n",
      "[UG] applying forces:  0.019 s\n"
     ]
    },
    {
     "name": "stderr",
     "output_type": "stream",
     "text": [
      "Gradient Descent error: 110.23491 grad_norm: 6.26939e-01:  40%|████      | 101/250 [00:40<00:50,  2.96it/s]"
     ]
    },
    {
     "name": "stdout",
     "output_type": "stream",
     "text": [
      "[GRID] start\n",
      "[GRID] Init:  0.50048828125 ms\n",
      "[GRID] Indices:  0.0 ms\n",
      "[GRID] Counts:  0.0 ms\n",
      "[GRID] Starts, counts:  0.0 ms\n",
      "[GRID] Starts, counts:  0.0 ms\n",
      "[GRID] Average positions:  27.455810546875 ms\n",
      "[GRID] Max distances:  0.9970703125 ms\n",
      "[GRID] new points:  0.0 ms\n",
      "[UG] Grid generation:  0.02895331382751465 seconds\n",
      "[UG] Mem alloc:  0.0 seconds\n",
      "[UG] Mem copy:  0.0005002021789550781 seconds\n",
      "[UG] Run:  0.0 seconds\n",
      "[UG] Copy back:  0.07288217544555664 seconds\n",
      "[UG] Total:  0.10233569145202637 seconds\n",
      "[UG] neg_f:  0.10200000000000001 s\n",
      "[UG] pos_f:  0.067 s\n",
      "[UG] applying forces:  0.018000000000000002 s\n"
     ]
    },
    {
     "name": "stderr",
     "output_type": "stream",
     "text": [
      "Gradient Descent error: 110.22889 grad_norm: 6.27468e-01:  41%|████      | 102/250 [00:40<00:49,  2.97it/s]"
     ]
    },
    {
     "name": "stdout",
     "output_type": "stream",
     "text": [
      "[GRID] start\n",
      "[GRID] Init:  0.498046875 ms\n",
      "[GRID] Indices:  0.0 ms\n",
      "[GRID] Counts:  0.0 ms\n",
      "[GRID] Starts, counts:  0.0 ms\n",
      "[GRID] Starts, counts:  0.0 ms\n",
      "[GRID] Average positions:  20.9658203125 ms\n",
      "[GRID] Max distances:  0.99853515625 ms\n",
      "[GRID] new points:  0.0 ms\n",
      "[UG] Grid generation:  0.02296161651611328 seconds\n",
      "[UG] Mem alloc:  0.0 seconds\n",
      "[UG] Mem copy:  0.0019974708557128906 seconds\n",
      "[UG] Run:  0.0 seconds\n",
      "[UG] Copy back:  0.06339907646179199 seconds\n",
      "[UG] Total:  0.08835816383361816 seconds\n",
      "[UG] neg_f:  0.089 s\n",
      "[UG] pos_f:  0.068 s\n",
      "[UG] applying forces:  0.018000000000000002 s\n"
     ]
    },
    {
     "name": "stderr",
     "output_type": "stream",
     "text": [
      "Gradient Descent error: 110.22889 grad_norm: 6.27468e-01:  41%|████      | 103/250 [00:40<00:48,  3.04it/s]"
     ]
    },
    {
     "name": "stdout",
     "output_type": "stream",
     "text": [
      "[GRID] start\n",
      "[GRID] Init:  0.50048828125 ms\n",
      "[GRID] Indices:  0.0 ms\n",
      "[GRID] Counts:  0.0 ms\n",
      "[GRID] Starts, counts:  0.0 ms\n",
      "[GRID] Starts, counts:  0.0 ms\n",
      "[GRID] Average positions:  25.458251953125 ms\n",
      "[GRID] Max distances:  1.497802734375 ms\n",
      "[GRID] new points:  0.0 ms\n",
      "[UG] Grid generation:  0.02745652198791504 seconds\n",
      "[UG] Mem alloc:  0.0 seconds\n",
      "[UG] Mem copy:  0.0034942626953125 seconds\n",
      "[UG] Run:  0.0 seconds\n",
      "[UG] Copy back:  0.07487916946411133 seconds\n",
      "[UG] Total:  0.10632944107055664 seconds\n",
      "[UG] neg_f:  0.107 s\n",
      "[UG] pos_f:  0.07100000000000001 s\n",
      "[UG] applying forces:  0.018000000000000002 s\n"
     ]
    },
    {
     "name": "stderr",
     "output_type": "stream",
     "text": [
      "Gradient Descent error: 110.22192 grad_norm: 6.26177e-01:  42%|████▏     | 104/250 [00:41<00:48,  2.98it/s]"
     ]
    },
    {
     "name": "stdout",
     "output_type": "stream",
     "text": [
      "[GRID] start\n",
      "[GRID] Init:  0.499267578125 ms\n",
      "[GRID] Indices:  0.0 ms\n",
      "[GRID] Counts:  0.0 ms\n",
      "[GRID] Starts, counts:  0.0 ms\n",
      "[GRID] Starts, counts:  0.0 ms\n",
      "[GRID] Average positions:  20.9658203125 ms\n",
      "[GRID] Max distances:  0.998779296875 ms\n",
      "[GRID] new points:  0.0 ms\n",
      "[UG] Grid generation:  0.02246379852294922 seconds\n",
      "[UG] Mem alloc:  0.0 seconds\n",
      "[UG] Mem copy:  0.0009975433349609375 seconds\n",
      "[UG] Run:  0.0 seconds\n",
      "[UG] Copy back:  0.06441116333007812 seconds\n",
      "[UG] Total:  0.08787250518798828 seconds\n",
      "[UG] neg_f:  0.088 s\n",
      "[UG] pos_f:  0.059000000000000004 s\n",
      "[UG] applying forces:  0.019 s\n"
     ]
    },
    {
     "name": "stderr",
     "output_type": "stream",
     "text": [
      "Gradient Descent error: 110.21692 grad_norm: 6.28368e-01:  42%|████▏     | 105/250 [00:41<00:48,  2.96it/s]"
     ]
    },
    {
     "name": "stdout",
     "output_type": "stream",
     "text": [
      "[GRID] start\n",
      "[GRID] Init:  0.499267578125 ms\n",
      "[GRID] Indices:  0.0 ms\n",
      "[GRID] Counts:  0.0 ms\n",
      "[GRID] Starts, counts:  0.0 ms\n",
      "[GRID] Starts, counts:  0.0 ms\n",
      "[GRID] Average positions:  24.960205078125 ms\n",
      "[GRID] Max distances:  0.998779296875 ms\n",
      "[GRID] new points:  0.0 ms\n",
      "[UG] Grid generation:  0.026458263397216797 seconds\n",
      "[UG] Mem alloc:  0.0 seconds\n",
      "[UG] Mem copy:  0.0009989738464355469 seconds\n",
      "[UG] Run:  0.0 seconds\n",
      "[UG] Copy back:  0.06888818740844727 seconds\n",
      "[UG] Total:  0.09634542465209961 seconds\n",
      "[UG] neg_f:  0.097 s\n",
      "[UG] pos_f:  0.07 s\n",
      "[UG] applying forces:  0.019 s\n"
     ]
    },
    {
     "name": "stderr",
     "output_type": "stream",
     "text": [
      "Gradient Descent error: 110.21692 grad_norm: 6.28368e-01:  42%|████▏     | 106/250 [00:41<00:48,  2.99it/s]"
     ]
    },
    {
     "name": "stdout",
     "output_type": "stream",
     "text": [
      "[GRID] start\n",
      "[GRID] Init:  0.49951171875 ms\n",
      "[GRID] Indices:  0.0 ms\n",
      "[GRID] Counts:  0.0 ms\n",
      "[GRID] Starts, counts:  0.0 ms\n",
      "[GRID] Starts, counts:  0.0 ms\n",
      "[GRID] Average positions:  20.46630859375 ms\n",
      "[GRID] Max distances:  0.4990234375 ms\n",
      "[GRID] new points:  0.0 ms\n",
      "[UG] Grid generation:  0.022463560104370117 seconds\n",
      "[UG] Mem alloc:  0.0 seconds\n",
      "[UG] Mem copy:  0.0004985332489013672 seconds\n",
      "[UG] Run:  0.0 seconds\n",
      "[UG] Copy back:  0.0668940544128418 seconds\n",
      "[UG] Total:  0.09035515785217285 seconds\n",
      "[UG] neg_f:  0.09 s\n"
     ]
    },
    {
     "name": "stderr",
     "output_type": "stream",
     "text": [
      "Gradient Descent error: 110.22134 grad_norm: 6.26344e-01:  42%|████▏     | 106/250 [00:42<00:48,  2.99it/s]"
     ]
    },
    {
     "name": "stdout",
     "output_type": "stream",
     "text": [
      "[UG] pos_f:  0.164 s\n",
      "[UG] applying forces:  0.022 s\n"
     ]
    },
    {
     "name": "stderr",
     "output_type": "stream",
     "text": [
      "Gradient Descent error: 110.22134 grad_norm: 6.26344e-01:  43%|████▎     | 107/250 [00:42<00:56,  2.52it/s]"
     ]
    },
    {
     "name": "stdout",
     "output_type": "stream",
     "text": [
      "[GRID] start\n",
      "[GRID] Init:  0.499755859375 ms\n",
      "[GRID] Indices:  0.499267578125 ms\n",
      "[GRID] Counts:  0.0 ms\n",
      "[GRID] Starts, counts:  0.0 ms\n",
      "[GRID] Starts, counts:  0.0 ms\n",
      "[GRID] Average positions:  100.837890625 ms\n",
      "[GRID] Max distances:  1.498046875 ms\n",
      "[GRID] new points:  0.0 ms\n",
      "[UG] Grid generation:  0.10333490371704102 seconds\n",
      "[UG] Mem alloc:  0.0 seconds\n",
      "[UG] Mem copy:  0.0004987716674804688 seconds\n",
      "[UG] Run:  0.0004992485046386719 seconds\n",
      "[UG] Copy back:  0.0683908462524414 seconds\n",
      "[UG] Total:  0.17272377014160156 seconds\n",
      "[UG] neg_f:  0.17300000000000001 s\n"
     ]
    },
    {
     "name": "stderr",
     "output_type": "stream",
     "text": [
      "Gradient Descent error: 110.21635 grad_norm: 6.28918e-01:  43%|████▎     | 107/250 [00:42<00:56,  2.52it/s]"
     ]
    },
    {
     "name": "stdout",
     "output_type": "stream",
     "text": [
      "[UG] pos_f:  0.14 s\n",
      "[UG] applying forces:  0.02 s\n"
     ]
    },
    {
     "name": "stderr",
     "output_type": "stream",
     "text": [
      "Gradient Descent error: 110.21635 grad_norm: 6.28918e-01:  43%|████▎     | 108/250 [00:42<01:04,  2.20it/s]"
     ]
    },
    {
     "name": "stdout",
     "output_type": "stream",
     "text": [
      "[GRID] start\n",
      "[GRID] Init:  33.446533203125 ms\n",
      "[GRID] Indices:  0.0 ms\n",
      "[GRID] Counts:  0.0 ms\n",
      "[GRID] Starts, counts:  0.0 ms\n",
      "[GRID] Starts, counts:  0.49951171875 ms\n",
      "[GRID] Average positions:  48.921142578125 ms\n",
      "[GRID] Max distances:  0.9990234375 ms\n",
      "[GRID] new points:  0.0 ms\n",
      "[UG] Grid generation:  0.0843651294708252 seconds\n",
      "[UG] Mem alloc:  0.0 seconds\n",
      "[UG] Mem copy:  0.0004980564117431641 seconds\n",
      "[UG] Run:  0.0 seconds\n",
      "[UG] Copy back:  0.05840754508972168 seconds\n",
      "[UG] Total:  0.14377045631408691 seconds\n",
      "[UG] neg_f:  0.14400000000000002 s\n"
     ]
    },
    {
     "name": "stderr",
     "output_type": "stream",
     "text": [
      "Gradient Descent error: 110.21324 grad_norm: 6.26576e-01:  43%|████▎     | 108/250 [00:43<01:04,  2.20it/s]"
     ]
    },
    {
     "name": "stdout",
     "output_type": "stream",
     "text": [
      "[UG] pos_f:  0.131 s\n",
      "[UG] applying forces:  0.019 s\n"
     ]
    },
    {
     "name": "stderr",
     "output_type": "stream",
     "text": [
      "Gradient Descent error: 110.21324 grad_norm: 6.26576e-01:  44%|████▎     | 109/250 [00:43<01:07,  2.09it/s]"
     ]
    },
    {
     "name": "stdout",
     "output_type": "stream",
     "text": [
      "[GRID] start\n",
      "[GRID] Init:  0.4990234375 ms\n",
      "[GRID] Indices:  0.0 ms\n",
      "[GRID] Counts:  0.0 ms\n",
      "[GRID] Starts, counts:  0.0 ms\n",
      "[GRID] Starts, counts:  0.0 ms\n",
      "[GRID] Average positions:  102.33544921875 ms\n",
      "[GRID] Max distances:  0.998779296875 ms\n",
      "[GRID] new points:  0.0 ms\n",
      "[UG] Grid generation:  0.10483074188232422 seconds\n",
      "[UG] Mem alloc:  0.0 seconds\n",
      "[UG] Mem copy:  0.0054912567138671875 seconds\n",
      "[UG] Run:  0.0 seconds\n",
      "[UG] Copy back:  0.07288265228271484 seconds\n",
      "[UG] Total:  0.18320465087890625 seconds\n",
      "[UG] neg_f:  0.183 s\n"
     ]
    },
    {
     "name": "stderr",
     "output_type": "stream",
     "text": [
      "Gradient Descent error: 110.21701 grad_norm: 6.28103e-01:  44%|████▎     | 109/250 [00:43<01:07,  2.09it/s]"
     ]
    },
    {
     "name": "stdout",
     "output_type": "stream",
     "text": [
      "[UG] pos_f:  0.131 s\n",
      "[UG] applying forces:  0.02 s\n"
     ]
    },
    {
     "name": "stderr",
     "output_type": "stream",
     "text": [
      "Gradient Descent error: 110.21701 grad_norm: 6.28103e-01:  44%|████▍     | 110/250 [00:44<01:10,  1.99it/s]"
     ]
    },
    {
     "name": "stdout",
     "output_type": "stream",
     "text": [
      "[GRID] start\n",
      "[GRID] Init:  0.998291015625 ms\n",
      "[GRID] Indices:  0.0 ms\n",
      "[GRID] Counts:  0.0 ms\n",
      "[GRID] Starts, counts:  0.0 ms\n",
      "[GRID] Starts, counts:  0.0 ms\n",
      "[GRID] Average positions:  112.818603515625 ms\n",
      "[GRID] Max distances:  1.498046875 ms\n",
      "[GRID] new points:  0.0 ms\n",
      "[UG] Grid generation:  0.115814208984375 seconds\n",
      "[UG] Mem alloc:  0.0 seconds\n",
      "[UG] Mem copy:  0.000997304916381836 seconds\n",
      "[UG] Run:  0.0014986991882324219 seconds\n",
      "[UG] Copy back:  0.06439638137817383 seconds\n",
      "[UG] Total:  0.18270659446716309 seconds\n",
      "[UG] neg_f:  0.183 s\n"
     ]
    },
    {
     "name": "stderr",
     "output_type": "stream",
     "text": [
      "Gradient Descent error: 110.18931 grad_norm: 6.26975e-01:  44%|████▍     | 110/250 [00:44<01:10,  1.99it/s]"
     ]
    },
    {
     "name": "stdout",
     "output_type": "stream",
     "text": [
      "[UG] pos_f:  0.28400000000000003 s\n",
      "[UG] applying forces:  0.016 s\n"
     ]
    },
    {
     "name": "stderr",
     "output_type": "stream",
     "text": [
      "Gradient Descent error: 110.18931 grad_norm: 6.26975e-01:  44%|████▍     | 111/250 [00:44<01:22,  1.68it/s]"
     ]
    },
    {
     "name": "stdout",
     "output_type": "stream",
     "text": [
      "[GRID] start\n",
      "[GRID] Init:  0.498291015625 ms\n",
      "[GRID] Indices:  0.4990234375 ms\n",
      "[GRID] Counts:  0.0 ms\n",
      "[GRID] Starts, counts:  0.0 ms\n",
      "[GRID] Starts, counts:  0.0 ms\n",
      "[GRID] Average positions:  86.36083984375 ms\n",
      "[GRID] Max distances:  1.49755859375 ms\n",
      "[GRID] new points:  0.0 ms\n",
      "[UG] Grid generation:  0.08885574340820312 seconds\n",
      "[UG] Mem alloc:  0.0 seconds\n",
      "[UG] Mem copy:  0.002496004104614258 seconds\n",
      "[UG] Run:  0.0 seconds\n",
      "[UG] Copy back:  0.06739187240600586 seconds\n",
      "[UG] Total:  0.1592426300048828 seconds\n",
      "[UG] neg_f:  0.159 s\n"
     ]
    },
    {
     "name": "stderr",
     "output_type": "stream",
     "text": [
      "Gradient Descent error: 110.20766 grad_norm: 6.28251e-01:  44%|████▍     | 111/250 [00:45<01:22,  1.68it/s]"
     ]
    },
    {
     "name": "stdout",
     "output_type": "stream",
     "text": [
      "[UG] pos_f:  0.153 s\n",
      "[UG] applying forces:  0.026000000000000002 s\n"
     ]
    },
    {
     "name": "stderr",
     "output_type": "stream",
     "text": [
      "Gradient Descent error: 110.20766 grad_norm: 6.28251e-01:  45%|████▍     | 112/250 [00:45<01:20,  1.71it/s]"
     ]
    },
    {
     "name": "stdout",
     "output_type": "stream",
     "text": [
      "[GRID] start\n",
      "[GRID] Init:  0.4990234375 ms\n",
      "[GRID] Indices:  0.0 ms\n",
      "[GRID] Counts:  0.0 ms\n",
      "[GRID] Starts, counts:  0.0 ms\n",
      "[GRID] Starts, counts:  0.0 ms\n",
      "[GRID] Average positions:  85.363037109375 ms\n",
      "[GRID] Max distances:  0.99755859375 ms\n",
      "[GRID] new points:  0.0 ms\n",
      "[UG] Grid generation:  0.08785796165466309 seconds\n",
      "[UG] Mem alloc:  0.0 seconds\n",
      "[UG] Mem copy:  0.0004992485046386719 seconds\n",
      "[UG] Run:  0.0 seconds\n",
      "[UG] Copy back:  0.05740809440612793 seconds\n",
      "[UG] Total:  0.1457653045654297 seconds\n",
      "[UG] neg_f:  0.146 s\n"
     ]
    },
    {
     "name": "stderr",
     "output_type": "stream",
     "text": [
      "Gradient Descent error: 110.20428 grad_norm: 6.25957e-01:  45%|████▍     | 112/250 [00:45<01:20,  1.71it/s]"
     ]
    },
    {
     "name": "stdout",
     "output_type": "stream",
     "text": [
      "[UG] pos_f:  0.203 s\n",
      "[UG] applying forces:  0.02 s\n"
     ]
    },
    {
     "name": "stderr",
     "output_type": "stream",
     "text": [
      "Gradient Descent error: 110.20428 grad_norm: 6.25957e-01:  45%|████▌     | 113/250 [00:46<01:22,  1.67it/s]"
     ]
    },
    {
     "name": "stdout",
     "output_type": "stream",
     "text": [
      "[GRID] start\n",
      "[GRID] Init:  0.498779296875 ms\n",
      "[GRID] Indices:  0.0 ms\n",
      "[GRID] Counts:  0.0 ms\n",
      "[GRID] Starts, counts:  0.0 ms\n",
      "[GRID] Starts, counts:  0.0 ms\n",
      "[GRID] Average positions:  51.4169921875 ms\n",
      "[GRID] Max distances:  0.998779296875 ms\n",
      "[GRID] new points:  0.0 ms\n",
      "[UG] Grid generation:  0.053913116455078125 seconds\n",
      "[UG] Mem alloc:  0.0 seconds\n",
      "[UG] Mem copy:  0.0004992485046386719 seconds\n",
      "[UG] Run:  0.0 seconds\n",
      "[UG] Copy back:  0.07687664031982422 seconds\n",
      "[UG] Total:  0.13178777694702148 seconds\n",
      "[UG] neg_f:  0.131 s\n"
     ]
    },
    {
     "name": "stderr",
     "output_type": "stream",
     "text": [
      "Gradient Descent error: 110.22127 grad_norm: 6.27968e-01:  45%|████▌     | 113/250 [00:46<01:22,  1.67it/s]"
     ]
    },
    {
     "name": "stdout",
     "output_type": "stream",
     "text": [
      "[UG] pos_f:  0.189 s\n",
      "[UG] applying forces:  0.015 s\n"
     ]
    },
    {
     "name": "stderr",
     "output_type": "stream",
     "text": [
      "Gradient Descent error: 110.22127 grad_norm: 6.27968e-01:  46%|████▌     | 114/250 [00:46<01:19,  1.71it/s]"
     ]
    },
    {
     "name": "stdout",
     "output_type": "stream",
     "text": [
      "[GRID] start\n",
      "[GRID] Init:  0.49853515625 ms\n",
      "[GRID] Indices:  0.0 ms\n",
      "[GRID] Counts:  0.0 ms\n",
      "[GRID] Starts, counts:  0.0 ms\n",
      "[GRID] Starts, counts:  0.0 ms\n",
      "[GRID] Average positions:  51.91650390625 ms\n",
      "[GRID] Max distances:  0.998291015625 ms\n",
      "[GRID] new points:  0.0 ms\n",
      "[UG] Grid generation:  0.0544123649597168 seconds\n",
      "[UG] Mem alloc:  0.0 seconds\n",
      "[UG] Mem copy:  0.0009982585906982422 seconds\n",
      "[UG] Run:  0.0 seconds\n",
      "[UG] Copy back:  0.06589412689208984 seconds\n",
      "[UG] Total:  0.12130475044250488 seconds\n",
      "[UG] neg_f:  0.121 s\n"
     ]
    },
    {
     "name": "stderr",
     "output_type": "stream",
     "text": [
      "Gradient Descent error: 110.20262 grad_norm: 6.26441e-01:  46%|████▌     | 114/250 [00:46<01:19,  1.71it/s]"
     ]
    },
    {
     "name": "stdout",
     "output_type": "stream",
     "text": [
      "[UG] pos_f:  0.101 s\n",
      "[UG] applying forces:  0.022 s\n"
     ]
    },
    {
     "name": "stderr",
     "output_type": "stream",
     "text": [
      "Gradient Descent error: 110.20262 grad_norm: 6.26441e-01:  46%|████▌     | 115/250 [00:47<01:15,  1.80it/s]"
     ]
    },
    {
     "name": "stdout",
     "output_type": "stream",
     "text": [
      "[GRID] start\n",
      "[GRID] Init:  0.5 ms\n",
      "[GRID] Indices:  0.498291015625 ms\n",
      "[GRID] Counts:  0.0 ms\n",
      "[GRID] Starts, counts:  0.0 ms\n",
      "[GRID] Starts, counts:  0.0 ms\n",
      "[GRID] Average positions:  63.896240234375 ms\n",
      "[GRID] Max distances:  1.497802734375 ms\n",
      "[GRID] new points:  0.0 ms\n",
      "[UG] Grid generation:  0.06639218330383301 seconds\n",
      "[UG] Mem alloc:  0.0 seconds\n",
      "[UG] Mem copy:  0.0004994869232177734 seconds\n",
      "[UG] Run:  0.0 seconds\n",
      "[UG] Copy back:  0.06789088249206543 seconds\n",
      "[UG] Total:  0.13528156280517578 seconds\n",
      "[UG] neg_f:  0.135 s\n"
     ]
    },
    {
     "name": "stderr",
     "output_type": "stream",
     "text": [
      "Gradient Descent error: 110.20690 grad_norm: 6.27447e-01:  46%|████▋     | 116/250 [00:47<01:07,  1.98it/s]"
     ]
    },
    {
     "name": "stdout",
     "output_type": "stream",
     "text": [
      "[UG] pos_f:  0.084 s\n",
      "[UG] applying forces:  0.017 s\n",
      "[GRID] start\n",
      "[GRID] Init:  0.0 ms\n",
      "[GRID] Indices:  0.0 ms\n",
      "[GRID] Counts:  0.0 ms\n",
      "[GRID] Starts, counts:  0.0 ms\n",
      "[GRID] Starts, counts:  0.0 ms\n",
      "[GRID] Average positions:  21.966552734375 ms\n",
      "[GRID] Max distances:  1.495849609375 ms\n",
      "[GRID] new points:  0.0 ms\n",
      "[UG] Grid generation:  0.023462295532226562 seconds\n",
      "[UG] Mem alloc:  0.0 seconds\n",
      "[UG] Mem copy:  0.0019969940185546875 seconds\n",
      "[UG] Run:  0.0004994869232177734 seconds\n"
     ]
    },
    {
     "name": "stderr",
     "output_type": "stream",
     "text": [
      "Gradient Descent error: 110.19509 grad_norm: 6.25779e-01:  46%|████▋     | 116/250 [00:47<01:07,  1.98it/s]"
     ]
    },
    {
     "name": "stdout",
     "output_type": "stream",
     "text": [
      "[UG] Copy back:  0.060901641845703125 seconds\n",
      "[UG] Total:  0.08686041831970215 seconds\n",
      "[UG] neg_f:  0.08700000000000001 s\n",
      "[UG] pos_f:  0.117 s\n",
      "[UG] applying forces:  0.022 s\n"
     ]
    },
    {
     "name": "stderr",
     "output_type": "stream",
     "text": [
      "Gradient Descent error: 110.21274 grad_norm: 6.27512e-01:  47%|████▋     | 117/250 [00:48<01:01,  2.16it/s]"
     ]
    },
    {
     "name": "stdout",
     "output_type": "stream",
     "text": [
      "[GRID] start\n",
      "[GRID] Init:  0.500732421875 ms\n",
      "[GRID] Indices:  0.0 ms\n",
      "[GRID] Counts:  0.0 ms\n",
      "[GRID] Starts, counts:  0.0 ms\n",
      "[GRID] Starts, counts:  0.0 ms\n",
      "[GRID] Average positions:  35.941162109375 ms\n",
      "[GRID] Max distances:  1.497802734375 ms\n",
      "[GRID] new points:  0.0 ms\n",
      "[UG] Grid generation:  0.03843832015991211 seconds\n",
      "[UG] Mem alloc:  0.0 seconds\n",
      "[UG] Mem copy:  0.0019974708557128906 seconds\n",
      "[UG] Run:  0.0 seconds\n",
      "[UG] Copy back:  0.062398433685302734 seconds\n",
      "[UG] Total:  0.10383319854736328 seconds\n",
      "[UG] neg_f:  0.10400000000000001 s\n",
      "[UG] pos_f:  0.061 s\n",
      "[UG] applying forces:  0.017 s\n"
     ]
    },
    {
     "name": "stderr",
     "output_type": "stream",
     "text": [
      "Gradient Descent error: 110.19401 grad_norm: 6.26232e-01:  47%|████▋     | 118/250 [00:48<00:55,  2.38it/s]"
     ]
    },
    {
     "name": "stdout",
     "output_type": "stream",
     "text": [
      "[GRID] start\n",
      "[GRID] Init:  0.498779296875 ms\n",
      "[GRID] Indices:  0.0 ms\n",
      "[GRID] Counts:  0.0 ms\n",
      "[GRID] Starts, counts:  0.0 ms\n",
      "[GRID] Starts, counts:  0.0 ms\n",
      "[GRID] Average positions:  23.46435546875 ms\n",
      "[GRID] Max distances:  1.496826171875 ms\n",
      "[GRID] new points:  0.0 ms\n",
      "[UG] Grid generation:  0.025459766387939453 seconds\n",
      "[UG] Mem alloc:  0.0 seconds\n",
      "[UG] Mem copy:  0.0005002021789550781 seconds\n",
      "[UG] Run:  0.0 seconds\n",
      "[UG] Copy back:  0.05441117286682129 seconds\n",
      "[UG] Total:  0.08037114143371582 seconds\n",
      "[UG] neg_f:  0.08 s\n",
      "[UG] pos_f:  0.062 s\n",
      "[UG] applying forces:  0.018000000000000002 s\n"
     ]
    },
    {
     "name": "stderr",
     "output_type": "stream",
     "text": [
      "Gradient Descent error: 110.19401 grad_norm: 6.26232e-01:  48%|████▊     | 119/250 [00:48<00:50,  2.59it/s]"
     ]
    },
    {
     "name": "stdout",
     "output_type": "stream",
     "text": [
      "[GRID] start\n",
      "[GRID] Init:  0.4990234375 ms\n",
      "[GRID] Indices:  0.0 ms\n",
      "[GRID] Counts:  0.0 ms\n",
      "[GRID] Starts, counts:  0.0 ms\n",
      "[GRID] Starts, counts:  0.0 ms\n",
      "[GRID] Average positions:  25.459228515625 ms\n",
      "[GRID] Max distances:  0.998291015625 ms\n",
      "[GRID] new points:  0.0 ms\n",
      "[UG] Grid generation:  0.026956558227539062 seconds\n",
      "[UG] Mem alloc:  0.0 seconds\n",
      "[UG] Mem copy:  0.0009984970092773438 seconds\n",
      "[UG] Run:  0.0 seconds\n",
      "[UG] Copy back:  0.06789064407348633 seconds\n",
      "[UG] Total:  0.09584569931030273 seconds\n",
      "[UG] neg_f:  0.097 s\n",
      "[UG] pos_f:  0.08 s\n",
      "[UG] applying forces:  0.021 s\n"
     ]
    },
    {
     "name": "stderr",
     "output_type": "stream",
     "text": [
      "Gradient Descent error: 110.19746 grad_norm: 6.27551e-01:  48%|████▊     | 120/250 [00:48<00:48,  2.68it/s]"
     ]
    },
    {
     "name": "stdout",
     "output_type": "stream",
     "text": [
      "[GRID] start\n",
      "[GRID] Init:  0.482177734375 ms\n",
      "[GRID] Indices:  0.0 ms\n",
      "[GRID] Counts:  0.0 ms\n",
      "[GRID] Starts, counts:  0.0 ms\n",
      "[GRID] Starts, counts:  0.0 ms\n",
      "[GRID] Average positions:  24.957763671875 ms\n",
      "[GRID] Max distances:  1.498046875 ms\n",
      "[GRID] new points:  0.0 ms\n",
      "[UG] Grid generation:  0.02693796157836914 seconds\n",
      "[UG] Mem alloc:  0.0 seconds\n",
      "[UG] Mem copy:  0.0005025863647460938 seconds\n",
      "[UG] Run:  0.0 seconds\n",
      "[UG] Copy back:  0.05741167068481445 seconds\n",
      "[UG] Total:  0.08583712577819824 seconds\n",
      "[UG] neg_f:  0.085 s\n",
      "[UG] pos_f:  0.079 s\n",
      "[UG] applying forces:  0.019 s\n"
     ]
    },
    {
     "name": "stderr",
     "output_type": "stream",
     "text": [
      "Gradient Descent error: 110.18562 grad_norm: 6.25438e-01:  48%|████▊     | 121/250 [00:49<00:46,  2.80it/s]"
     ]
    },
    {
     "name": "stdout",
     "output_type": "stream",
     "text": [
      "[GRID] start\n",
      "[GRID] Init:  0.49853515625 ms\n",
      "[GRID] Indices:  0.0 ms\n",
      "[GRID] Counts:  0.0 ms\n",
      "[GRID] Starts, counts:  0.0 ms\n",
      "[GRID] Starts, counts:  0.0 ms\n",
      "[GRID] Average positions:  22.46337890625 ms\n",
      "[GRID] Max distances:  0.498779296875 ms\n",
      "[GRID] new points:  0.0 ms\n",
      "[UG] Grid generation:  0.024458885192871094 seconds\n",
      "[UG] Mem alloc:  0.0 seconds\n",
      "[UG] Mem copy:  0.0004994869232177734 seconds\n",
      "[UG] Run:  0.0 seconds\n",
      "[UG] Copy back:  0.07138490676879883 seconds\n",
      "[UG] Total:  0.0963432788848877 seconds\n",
      "[UG] neg_f:  0.096 s\n",
      "[UG] pos_f:  0.057 s\n",
      "[UG] applying forces:  0.022 s\n"
     ]
    },
    {
     "name": "stderr",
     "output_type": "stream",
     "text": [
      "Gradient Descent error: 110.18443 grad_norm: 6.26539e-01:  49%|████▉     | 122/250 [00:49<00:45,  2.81it/s]"
     ]
    },
    {
     "name": "stdout",
     "output_type": "stream",
     "text": [
      "[GRID] start\n",
      "[GRID] Init:  0.499755859375 ms\n",
      "[GRID] Indices:  0.0 ms\n",
      "[GRID] Counts:  0.0 ms\n",
      "[GRID] Starts, counts:  0.0 ms\n",
      "[GRID] Starts, counts:  0.0 ms\n",
      "[GRID] Average positions:  27.454833984375 ms\n",
      "[GRID] Max distances:  0.998291015625 ms\n",
      "[GRID] new points:  0.0 ms\n",
      "[UG] Grid generation:  0.028952836990356445 seconds\n",
      "[UG] Mem alloc:  0.0 seconds\n",
      "[UG] Mem copy:  0.000997781753540039 seconds\n",
      "[UG] Run:  0.0 seconds\n",
      "[UG] Copy back:  0.07138586044311523 seconds\n",
      "[UG] Total:  0.1018369197845459 seconds\n",
      "[UG] neg_f:  0.10200000000000001 s\n",
      "[UG] pos_f:  0.062 s\n",
      "[UG] applying forces:  0.019 s\n"
     ]
    },
    {
     "name": "stderr",
     "output_type": "stream",
     "text": [
      "Gradient Descent error: 110.18777 grad_norm: 6.26968e-01:  49%|████▉     | 123/250 [00:50<00:43,  2.89it/s]"
     ]
    },
    {
     "name": "stdout",
     "output_type": "stream",
     "text": [
      "[GRID] start\n",
      "[GRID] Init:  0.4990234375 ms\n",
      "[GRID] Indices:  0.0 ms\n",
      "[GRID] Counts:  0.0 ms\n",
      "[GRID] Starts, counts:  0.0 ms\n",
      "[GRID] Starts, counts:  0.0 ms\n",
      "[GRID] Average positions:  19.966552734375 ms\n",
      "[GRID] Max distances:  0.999267578125 ms\n",
      "[GRID] new points:  0.0 ms\n",
      "[UG] Grid generation:  0.021464824676513672 seconds\n",
      "[UG] Mem alloc:  0.0 seconds\n",
      "[UG] Mem copy:  0.0009975433349609375 seconds\n",
      "[UG] Run:  0.0 seconds\n",
      "[UG] Copy back:  0.07987141609191895 seconds\n",
      "[UG] Total:  0.10233378410339355 seconds\n",
      "[UG] neg_f:  0.10300000000000001 s\n",
      "[UG] pos_f:  0.057 s\n",
      "[UG] applying forces:  0.015 s\n"
     ]
    },
    {
     "name": "stderr",
     "output_type": "stream",
     "text": [
      "Gradient Descent error: 110.18777 grad_norm: 6.26968e-01:  50%|████▉     | 124/250 [00:50<00:42,  2.97it/s]"
     ]
    },
    {
     "name": "stdout",
     "output_type": "stream",
     "text": [
      "[GRID] start\n",
      "[GRID] Init:  0.498779296875 ms\n",
      "[GRID] Indices:  0.0 ms\n",
      "[GRID] Counts:  0.0 ms\n",
      "[GRID] Starts, counts:  0.0 ms\n",
      "[GRID] Starts, counts:  0.0 ms\n",
      "[GRID] Average positions:  23.9423828125 ms\n",
      "[GRID] Max distances:  1.497314453125 ms\n",
      "[GRID] new points:  0.0 ms\n",
      "[UG] Grid generation:  0.026439189910888672 seconds\n",
      "[UG] Mem alloc:  0.0 seconds\n",
      "[UG] Mem copy:  0.002995729446411133 seconds\n",
      "[UG] Run:  0.0005142688751220703 seconds\n",
      "[UG] Copy back:  0.06238436698913574 seconds\n",
      "[UG] Total:  0.09283304214477539 seconds\n",
      "[UG] neg_f:  0.093 s\n",
      "[UG] pos_f:  0.099 s\n",
      "[UG] applying forces:  0.019 s\n"
     ]
    },
    {
     "name": "stderr",
     "output_type": "stream",
     "text": [
      "Gradient Descent error: 110.16626 grad_norm: 6.25638e-01:  50%|█████     | 125/250 [00:50<00:43,  2.86it/s]"
     ]
    },
    {
     "name": "stdout",
     "output_type": "stream",
     "text": [
      "[GRID] start\n",
      "[GRID] Init:  0.0 ms\n",
      "[GRID] Indices:  0.0 ms\n",
      "[GRID] Counts:  0.0 ms\n",
      "[GRID] Starts, counts:  0.0 ms\n",
      "[GRID] Starts, counts:  0.0 ms\n",
      "[GRID] Average positions:  23.96240234375 ms\n",
      "[GRID] Max distances:  0.998046875 ms\n",
      "[GRID] new points:  0.0 ms\n",
      "[UG] Grid generation:  0.03294658660888672 seconds\n",
      "[UG] Mem alloc:  0.0 seconds\n",
      "[UG] Mem copy:  0.00099945068359375 seconds\n",
      "[UG] Run:  0.0004985332489013672 seconds\n",
      "[UG] Copy back:  0.07737565040588379 seconds\n",
      "[UG] Total:  0.11182022094726562 seconds\n",
      "[UG] neg_f:  0.112 s\n",
      "[UG] pos_f:  0.061 s\n",
      "[UG] applying forces:  0.019 s\n"
     ]
    },
    {
     "name": "stderr",
     "output_type": "stream",
     "text": [
      "Gradient Descent error: 110.17448 grad_norm: 6.25621e-01:  50%|█████     | 126/250 [00:51<00:43,  2.88it/s]"
     ]
    },
    {
     "name": "stdout",
     "output_type": "stream",
     "text": [
      "[GRID] start\n",
      "[GRID] Init:  0.499267578125 ms\n",
      "[GRID] Indices:  0.0 ms\n",
      "[GRID] Counts:  0.0 ms\n",
      "[GRID] Starts, counts:  0.0 ms\n",
      "[GRID] Starts, counts:  0.0 ms\n",
      "[GRID] Average positions:  27.954833984375 ms\n",
      "[GRID] Max distances:  0.998779296875 ms\n",
      "[GRID] new points:  0.0 ms\n",
      "[UG] Grid generation:  0.029453039169311523 seconds\n",
      "[UG] Mem alloc:  0.0 seconds\n",
      "[UG] Mem copy:  0.0004999637603759766 seconds\n",
      "[UG] Run:  0.0004975795745849609 seconds\n",
      "[UG] Copy back:  0.056409358978271484 seconds\n",
      "[UG] Total:  0.08685994148254395 seconds\n",
      "[UG] neg_f:  0.08700000000000001 s\n",
      "[UG] pos_f:  0.06 s\n",
      "[UG] applying forces:  0.019 s\n"
     ]
    },
    {
     "name": "stderr",
     "output_type": "stream",
     "text": [
      "Gradient Descent error: 110.17448 grad_norm: 6.25621e-01:  51%|█████     | 127/250 [00:51<00:41,  2.96it/s]"
     ]
    },
    {
     "name": "stdout",
     "output_type": "stream",
     "text": [
      "[GRID] start\n",
      "[GRID] Init:  0.0 ms\n",
      "[GRID] Indices:  0.5 ms\n",
      "[GRID] Counts:  0.0 ms\n",
      "[GRID] Starts, counts:  0.0 ms\n",
      "[GRID] Starts, counts:  0.0 ms\n",
      "[GRID] Average positions:  28.453125 ms\n",
      "[GRID] Max distances:  0.999755859375 ms\n",
      "[GRID] new points:  0.0 ms\n",
      "[UG] Grid generation:  0.030452489852905273 seconds\n",
      "[UG] Mem alloc:  0.0 seconds\n",
      "[UG] Mem copy:  0.0004985332489013672 seconds\n",
      "[UG] Run:  0.0 seconds\n",
      "[UG] Copy back:  0.07587718963623047 seconds\n",
      "[UG] Total:  0.10682821273803711 seconds\n",
      "[UG] neg_f:  0.106 s\n",
      "[UG] pos_f:  0.069 s\n",
      "[UG] applying forces:  0.018000000000000002 s\n"
     ]
    },
    {
     "name": "stderr",
     "output_type": "stream",
     "text": [
      "Gradient Descent error: 110.16574 grad_norm: 6.25433e-01:  51%|█████     | 128/250 [00:51<00:41,  2.97it/s]"
     ]
    },
    {
     "name": "stdout",
     "output_type": "stream",
     "text": [
      "[GRID] start\n",
      "[GRID] Init:  0.5 ms\n",
      "[GRID] Indices:  0.0 ms\n",
      "[GRID] Counts:  0.0 ms\n",
      "[GRID] Starts, counts:  0.0 ms\n",
      "[GRID] Starts, counts:  0.0 ms\n",
      "[GRID] Average positions:  25.9755859375 ms\n",
      "[GRID] Max distances:  0.997802734375 ms\n",
      "[GRID] new points:  0.0 ms\n",
      "[UG] Grid generation:  0.02747344970703125 seconds\n",
      "[UG] Mem alloc:  0.0 seconds\n",
      "[UG] Mem copy:  0.0009791851043701172 seconds\n",
      "[UG] Run:  0.0 seconds\n",
      "[UG] Copy back:  0.07089686393737793 seconds\n",
      "[UG] Total:  0.0993494987487793 seconds\n",
      "[UG] neg_f:  0.1 s\n",
      "[UG] pos_f:  0.062 s\n",
      "[UG] applying forces:  0.017 s\n"
     ]
    },
    {
     "name": "stderr",
     "output_type": "stream",
     "text": [
      "Gradient Descent error: 110.21213 grad_norm: 6.26814e-01:  52%|█████▏    | 129/250 [00:52<00:39,  3.04it/s]"
     ]
    },
    {
     "name": "stdout",
     "output_type": "stream",
     "text": [
      "[GRID] start\n",
      "[GRID] Init:  0.0 ms\n",
      "[GRID] Indices:  0.498046875 ms\n",
      "[GRID] Counts:  0.0 ms\n",
      "[GRID] Starts, counts:  0.0 ms\n",
      "[GRID] Starts, counts:  0.0 ms\n",
      "[GRID] Average positions:  25.95703125 ms\n",
      "[GRID] Max distances:  2.49609375 ms\n",
      "[GRID] new points:  0.0 ms\n",
      "[UG] Grid generation:  0.028951168060302734 seconds\n",
      "[UG] Mem alloc:  0.0 seconds\n",
      "[UG] Mem copy:  0.003993511199951172 seconds\n",
      "[UG] Run:  0.000499725341796875 seconds\n",
      "[UG] Copy back:  0.06788992881774902 seconds\n",
      "[UG] Total:  0.10183596611022949 seconds\n",
      "[UG] neg_f:  0.10200000000000001 s\n",
      "[UG] pos_f:  0.06 s\n",
      "[UG] applying forces:  0.019 s\n"
     ]
    },
    {
     "name": "stderr",
     "output_type": "stream",
     "text": [
      "Gradient Descent error: 110.21213 grad_norm: 6.26814e-01:  52%|█████▏    | 130/250 [00:52<00:39,  3.07it/s]"
     ]
    },
    {
     "name": "stdout",
     "output_type": "stream",
     "text": [
      "[GRID] start\n",
      "[GRID] Init:  0.4970703125 ms\n",
      "[GRID] Indices:  0.0 ms\n",
      "[GRID] Counts:  0.0 ms\n",
      "[GRID] Starts, counts:  0.0 ms\n",
      "[GRID] Starts, counts:  0.0 ms\n",
      "[GRID] Average positions:  67.890625 ms\n",
      "[GRID] Max distances:  1.497314453125 ms\n",
      "[GRID] new points:  0.0 ms\n",
      "[UG] Grid generation:  0.07038450241088867 seconds\n",
      "[UG] Mem alloc:  0.0 seconds\n",
      "[UG] Mem copy:  0.0009982585906982422 seconds\n",
      "[UG] Run:  0.0 seconds\n",
      "[UG] Copy back:  0.0579075813293457 seconds\n",
      "[UG] Total:  0.12929034233093262 seconds\n",
      "[UG] neg_f:  0.129 s\n",
      "[UG] pos_f:  0.06 s\n",
      "[UG] applying forces:  0.019 s\n"
     ]
    },
    {
     "name": "stderr",
     "output_type": "stream",
     "text": [
      "Gradient Descent error: 110.16420 grad_norm: 6.25088e-01:  52%|█████▏    | 131/250 [00:52<00:39,  3.00it/s]"
     ]
    },
    {
     "name": "stdout",
     "output_type": "stream",
     "text": [
      "[GRID] start\n",
      "[GRID] Init:  0.499755859375 ms\n",
      "[GRID] Indices:  0.0 ms\n",
      "[GRID] Counts:  0.0 ms\n",
      "[GRID] Starts, counts:  0.0 ms\n",
      "[GRID] Starts, counts:  0.0 ms\n",
      "[GRID] Average positions:  20.96484375 ms\n",
      "[GRID] Max distances:  0.9990234375 ms\n",
      "[GRID] new points:  0.0 ms\n",
      "[UG] Grid generation:  0.022463560104370117 seconds\n",
      "[UG] Mem alloc:  0.0 seconds\n",
      "[UG] Mem copy:  0.0004994869232177734 seconds\n",
      "[UG] Run:  0.0 seconds\n",
      "[UG] Copy back:  0.08188223838806152 seconds\n",
      "[UG] Total:  0.10534453392028809 seconds\n",
      "[UG] neg_f:  0.105 s\n",
      "[UG] pos_f:  0.07 s\n",
      "[UG] applying forces:  0.019 s\n"
     ]
    },
    {
     "name": "stderr",
     "output_type": "stream",
     "text": [
      "Gradient Descent error: 110.15985 grad_norm: 6.26816e-01:  53%|█████▎    | 132/250 [00:52<00:39,  3.01it/s]"
     ]
    },
    {
     "name": "stdout",
     "output_type": "stream",
     "text": [
      "[GRID] start\n",
      "[GRID] Init:  0.498779296875 ms\n",
      "[GRID] Indices:  0.0 ms\n",
      "[GRID] Counts:  0.0 ms\n",
      "[GRID] Starts, counts:  0.0 ms\n",
      "[GRID] Starts, counts:  0.0 ms\n",
      "[GRID] Average positions:  25.458984375 ms\n",
      "[GRID] Max distances:  1.497314453125 ms\n",
      "[GRID] new points:  0.0 ms\n",
      "[UG] Grid generation:  0.02745509147644043 seconds\n",
      "[UG] Mem alloc:  0.0 seconds\n",
      "[UG] Mem copy:  0.002996206283569336 seconds\n",
      "[UG] Run:  0.0 seconds\n",
      "[UG] Copy back:  0.07589101791381836 seconds\n",
      "[UG] Total:  0.10634231567382812 seconds\n",
      "[UG] neg_f:  0.107 s\n",
      "[UG] pos_f:  0.061 s\n",
      "[UG] applying forces:  0.019 s\n"
     ]
    },
    {
     "name": "stderr",
     "output_type": "stream",
     "text": [
      "Gradient Descent error: 110.15843 grad_norm: 6.25054e-01:  53%|█████▎    | 133/250 [00:53<00:38,  3.03it/s]"
     ]
    },
    {
     "name": "stdout",
     "output_type": "stream",
     "text": [
      "[GRID] start\n",
      "[GRID] Init:  0.4990234375 ms\n",
      "[GRID] Indices:  0.0 ms\n",
      "[GRID] Counts:  0.0 ms\n",
      "[GRID] Starts, counts:  0.0 ms\n",
      "[GRID] Starts, counts:  0.0 ms\n",
      "[GRID] Average positions:  26.456787109375 ms\n",
      "[GRID] Max distances:  1.498779296875 ms\n",
      "[GRID] new points:  0.0 ms\n",
      "[UG] Grid generation:  0.02845454216003418 seconds\n",
      "[UG] Mem alloc:  0.0 seconds\n",
      "[UG] Mem copy:  0.001497507095336914 seconds\n",
      "[UG] Run:  0.0 seconds\n",
      "[UG] Copy back:  0.07138848304748535 seconds\n",
      "[UG] Total:  0.10183882713317871 seconds\n",
      "[UG] neg_f:  0.10200000000000001 s\n",
      "[UG] pos_f:  0.062 s\n",
      "[UG] applying forces:  0.023 s\n"
     ]
    },
    {
     "name": "stderr",
     "output_type": "stream",
     "text": [
      "Gradient Descent error: 110.13446 grad_norm: 6.25206e-01:  54%|█████▎    | 134/250 [00:53<00:38,  3.01it/s]"
     ]
    },
    {
     "name": "stdout",
     "output_type": "stream",
     "text": [
      "[GRID] start\n",
      "[GRID] Init:  0.0 ms\n",
      "[GRID] Indices:  0.0 ms\n",
      "[GRID] Counts:  0.0 ms\n",
      "[GRID] Starts, counts:  0.0 ms\n",
      "[GRID] Starts, counts:  0.0 ms\n",
      "[GRID] Average positions:  24.45947265625 ms\n",
      "[GRID] Max distances:  0.498779296875 ms\n",
      "[GRID] new points:  0.0 ms\n",
      "[UG] Grid generation:  0.02645707130432129 seconds\n",
      "[UG] Mem alloc:  0.0 seconds\n",
      "[UG] Mem copy:  0.0004987716674804688 seconds\n",
      "[UG] Run:  0.0 seconds\n",
      "[UG] Copy back:  0.05990457534790039 seconds\n",
      "[UG] Total:  0.08686041831970215 seconds\n",
      "[UG] neg_f:  0.08700000000000001 s\n",
      "[UG] pos_f:  0.061 s\n",
      "[UG] applying forces:  0.019 s\n"
     ]
    },
    {
     "name": "stderr",
     "output_type": "stream",
     "text": [
      "Gradient Descent error: 110.13446 grad_norm: 6.25206e-01:  54%|█████▍    | 135/250 [00:53<00:38,  2.97it/s]"
     ]
    },
    {
     "name": "stdout",
     "output_type": "stream",
     "text": [
      "[GRID] start\n",
      "[GRID] Init:  0.498779296875 ms\n",
      "[GRID] Indices:  0.0 ms\n",
      "[GRID] Counts:  0.0 ms\n",
      "[GRID] Starts, counts:  0.0 ms\n",
      "[GRID] Starts, counts:  0.0 ms\n",
      "[GRID] Average positions:  31.450439453125 ms\n",
      "[GRID] Max distances:  1.497314453125 ms\n",
      "[GRID] new points:  0.0 ms\n",
      "[UG] Grid generation:  0.03444528579711914 seconds\n",
      "[UG] Mem alloc:  0.0 seconds\n",
      "[UG] Mem copy:  0.000997781753540039 seconds\n",
      "[UG] Run:  0.0010013580322265625 seconds\n",
      "[UG] Copy back:  0.07587528228759766 seconds\n",
      "[UG] Total:  0.1123197078704834 seconds\n",
      "[UG] neg_f:  0.113 s\n",
      "[UG] pos_f:  0.065 s\n",
      "[UG] applying forces:  0.019 s\n"
     ]
    },
    {
     "name": "stderr",
     "output_type": "stream",
     "text": [
      "Gradient Descent error: 110.15175 grad_norm: 6.26497e-01:  54%|█████▍    | 136/250 [00:54<00:38,  2.96it/s]"
     ]
    },
    {
     "name": "stdout",
     "output_type": "stream",
     "text": [
      "[GRID] start\n",
      "[GRID] Init:  0.4990234375 ms\n",
      "[GRID] Indices:  0.0 ms\n",
      "[GRID] Counts:  0.0 ms\n",
      "[GRID] Starts, counts:  0.0 ms\n",
      "[GRID] Starts, counts:  0.0 ms\n",
      "[GRID] Average positions:  25.956787109375 ms\n",
      "[GRID] Max distances:  0.998291015625 ms\n",
      "[GRID] new points:  0.0 ms\n",
      "[UG] Grid generation:  0.027453899383544922 seconds\n",
      "[UG] Mem alloc:  0.0 seconds\n",
      "[UG] Mem copy:  0.0004992485046386719 seconds\n",
      "[UG] Run:  0.0019974708557128906 seconds\n",
      "[UG] Copy back:  0.07537722587585449 seconds\n",
      "[UG] Total:  0.10632681846618652 seconds\n",
      "[UG] neg_f:  0.107 s\n",
      "[UG] pos_f:  0.063 s\n",
      "[UG] applying forces:  0.017 s\n"
     ]
    },
    {
     "name": "stderr",
     "output_type": "stream",
     "text": [
      "Gradient Descent error: 110.14861 grad_norm: 6.25026e-01:  55%|█████▍    | 137/250 [00:54<00:37,  3.00it/s]"
     ]
    },
    {
     "name": "stdout",
     "output_type": "stream",
     "text": [
      "[GRID] start\n",
      "[GRID] Init:  0.4990234375 ms\n",
      "[GRID] Indices:  0.0 ms\n",
      "[GRID] Counts:  0.0 ms\n",
      "[GRID] Starts, counts:  0.0 ms\n",
      "[GRID] Starts, counts:  0.0 ms\n",
      "[GRID] Average positions:  20.46630859375 ms\n",
      "[GRID] Max distances:  3.494384765625 ms\n",
      "[GRID] new points:  0.0 ms\n",
      "[UG] Grid generation:  0.024959564208984375 seconds\n",
      "[UG] Mem alloc:  0.0 seconds\n",
      "[UG] Mem copy:  0.0009975433349609375 seconds\n",
      "[UG] Run:  0.0 seconds\n",
      "[UG] Copy back:  0.07438135147094727 seconds\n",
      "[UG] Total:  0.10083794593811035 seconds\n",
      "[UG] neg_f:  0.101 s\n"
     ]
    },
    {
     "name": "stderr",
     "output_type": "stream",
     "text": [
      "Gradient Descent error: 110.19510 grad_norm: 6.26551e-01:  55%|█████▍    | 137/250 [00:54<00:37,  3.00it/s]"
     ]
    },
    {
     "name": "stdout",
     "output_type": "stream",
     "text": [
      "[UG] pos_f:  0.188 s\n",
      "[UG] applying forces:  0.017 s\n"
     ]
    },
    {
     "name": "stderr",
     "output_type": "stream",
     "text": [
      "Gradient Descent error: 110.19510 grad_norm: 6.26551e-01:  55%|█████▌    | 138/250 [00:55<00:44,  2.53it/s]"
     ]
    },
    {
     "name": "stdout",
     "output_type": "stream",
     "text": [
      "[GRID] start\n",
      "[GRID] Init:  0.49951171875 ms\n",
      "[GRID] Indices:  0.0 ms\n",
      "[GRID] Counts:  0.0 ms\n",
      "[GRID] Starts, counts:  0.0 ms\n",
      "[GRID] Starts, counts:  0.0 ms\n",
      "[GRID] Average positions:  153.753173828125 ms\n",
      "[GRID] Max distances:  0.998291015625 ms\n",
      "[GRID] new points:  0.0 ms\n",
      "[UG] Grid generation:  0.15575075149536133 seconds\n",
      "[UG] Mem alloc:  0.0 seconds\n",
      "[UG] Mem copy:  0.000997781753540039 seconds\n",
      "[UG] Run:  0.0004994869232177734 seconds\n",
      "[UG] Copy back:  0.05191755294799805 seconds\n",
      "[UG] Total:  0.2091655731201172 seconds\n",
      "[UG] neg_f:  0.21 s\n",
      "[UG] pos_f:  0.139 s\n",
      "[UG] applying forces:  0.02 s\n"
     ]
    },
    {
     "name": "stderr",
     "output_type": "stream",
     "text": [
      "Gradient Descent error: 110.14395 grad_norm: 6.26015e-01:  56%|█████▌    | 139/250 [00:55<00:50,  2.18it/s]"
     ]
    },
    {
     "name": "stdout",
     "output_type": "stream",
     "text": [
      "[GRID] start\n",
      "[GRID] Init:  0.498046875 ms\n",
      "[GRID] Indices:  0.0 ms\n",
      "[GRID] Counts:  0.0 ms\n",
      "[GRID] Starts, counts:  0.0 ms\n",
      "[GRID] Starts, counts:  0.0 ms\n",
      "[GRID] Average positions:  44.927978515625 ms\n",
      "[GRID] Max distances:  1.497314453125 ms\n",
      "[GRID] new points:  0.0 ms\n",
      "[UG] Grid generation:  0.047922372817993164 seconds\n",
      "[UG] Mem alloc:  0.0 seconds\n",
      "[UG] Mem copy:  0.0004992485046386719 seconds\n",
      "[UG] Run:  0.0 seconds\n",
      "[UG] Copy back:  0.058905601501464844 seconds\n",
      "[UG] Total:  0.10732722282409668 seconds\n",
      "[UG] neg_f:  0.107 s\n"
     ]
    },
    {
     "name": "stderr",
     "output_type": "stream",
     "text": [
      "Gradient Descent error: 110.13842 grad_norm: 6.26522e-01:  56%|█████▌    | 139/250 [00:55<00:50,  2.18it/s]"
     ]
    },
    {
     "name": "stdout",
     "output_type": "stream",
     "text": [
      "[UG] pos_f:  0.107 s\n",
      "[UG] applying forces:  0.016 s\n"
     ]
    },
    {
     "name": "stderr",
     "output_type": "stream",
     "text": [
      "Gradient Descent error: 110.13842 grad_norm: 6.26522e-01:  56%|█████▌    | 140/250 [00:56<00:55,  1.99it/s]"
     ]
    },
    {
     "name": "stdout",
     "output_type": "stream",
     "text": [
      "[GRID] start\n",
      "[GRID] Init:  0.498046875 ms\n",
      "[GRID] Indices:  0.0 ms\n",
      "[GRID] Counts:  0.0 ms\n",
      "[GRID] Starts, counts:  0.0 ms\n",
      "[GRID] Starts, counts:  0.499755859375 ms\n",
      "[GRID] Average positions:  75.87744140625 ms\n",
      "[GRID] Max distances:  1.497314453125 ms\n",
      "[GRID] new points:  0.0 ms\n",
      "[UG] Grid generation:  0.07837247848510742 seconds\n",
      "[UG] Mem alloc:  0.0 seconds\n",
      "[UG] Mem copy:  0.0009987354278564453 seconds\n",
      "[UG] Run:  0.0 seconds\n",
      "[UG] Copy back:  0.06938862800598145 seconds\n",
      "[UG] Total:  0.1487598419189453 seconds\n",
      "[UG] neg_f:  0.149 s\n"
     ]
    },
    {
     "name": "stderr",
     "output_type": "stream",
     "text": [
      "Gradient Descent error: 110.13767 grad_norm: 6.25649e-01:  56%|█████▌    | 140/250 [00:56<00:55,  1.99it/s]"
     ]
    },
    {
     "name": "stdout",
     "output_type": "stream",
     "text": [
      "[UG] pos_f:  0.186 s\n",
      "[UG] applying forces:  0.023 s\n"
     ]
    },
    {
     "name": "stderr",
     "output_type": "stream",
     "text": [
      "Gradient Descent error: 110.13767 grad_norm: 6.25649e-01:  56%|█████▋    | 141/250 [00:56<00:59,  1.84it/s]"
     ]
    },
    {
     "name": "stdout",
     "output_type": "stream",
     "text": [
      "[GRID] start\n",
      "[GRID] Init:  0.0 ms\n",
      "[GRID] Indices:  0.0 ms\n",
      "[GRID] Counts:  0.0 ms\n",
      "[GRID] Starts, counts:  0.0 ms\n",
      "[GRID] Starts, counts:  0.0 ms\n",
      "[GRID] Average positions:  52.914794921875 ms\n",
      "[GRID] Max distances:  0.998046875 ms\n",
      "[GRID] new points:  0.0 ms\n",
      "[UG] Grid generation:  0.055411338806152344 seconds\n",
      "[UG] Mem alloc:  0.0 seconds\n",
      "[UG] Mem copy:  0.0014967918395996094 seconds\n",
      "[UG] Run:  0.0 seconds\n",
      "[UG] Copy back:  0.06889009475708008 seconds\n",
      "[UG] Total:  0.12579822540283203 seconds\n",
      "[UG] neg_f:  0.126 s\n"
     ]
    },
    {
     "name": "stderr",
     "output_type": "stream",
     "text": [
      "Gradient Descent error: 110.18410 grad_norm: 6.26431e-01:  56%|█████▋    | 141/250 [00:57<00:59,  1.84it/s]"
     ]
    },
    {
     "name": "stdout",
     "output_type": "stream",
     "text": [
      "[UG] pos_f:  0.162 s\n",
      "[UG] applying forces:  0.015 s\n"
     ]
    },
    {
     "name": "stderr",
     "output_type": "stream",
     "text": [
      "Gradient Descent error: 110.18410 grad_norm: 6.26431e-01:  57%|█████▋    | 142/250 [00:57<00:59,  1.82it/s]"
     ]
    },
    {
     "name": "stdout",
     "output_type": "stream",
     "text": [
      "[GRID] start\n",
      "[GRID] Init:  0.499755859375 ms\n",
      "[GRID] Indices:  0.0 ms\n",
      "[GRID] Counts:  0.0 ms\n",
      "[GRID] Starts, counts:  0.0 ms\n",
      "[GRID] Starts, counts:  0.0 ms\n",
      "[GRID] Average positions:  110.822265625 ms\n",
      "[GRID] Max distances:  0.998046875 ms\n",
      "[GRID] new points:  0.0 ms\n",
      "[UG] Grid generation:  0.11381745338439941 seconds\n",
      "[UG] Mem alloc:  0.0 seconds\n",
      "[UG] Mem copy:  0.0004987716674804688 seconds\n",
      "[UG] Run:  0.0004990100860595703 seconds\n",
      "[UG] Copy back:  0.04692506790161133 seconds\n",
      "[UG] Total:  0.16223955154418945 seconds\n",
      "[UG] neg_f:  0.162 s\n"
     ]
    },
    {
     "name": "stderr",
     "output_type": "stream",
     "text": [
      "Gradient Descent error: 110.13282 grad_norm: 6.25304e-01:  57%|█████▋    | 142/250 [00:57<00:59,  1.82it/s]"
     ]
    },
    {
     "name": "stdout",
     "output_type": "stream",
     "text": [
      "[UG] pos_f:  0.2 s\n",
      "[UG] applying forces:  0.016 s\n"
     ]
    },
    {
     "name": "stderr",
     "output_type": "stream",
     "text": [
      "Gradient Descent error: 110.13282 grad_norm: 6.25304e-01:  57%|█████▋    | 143/250 [00:58<01:05,  1.64it/s]"
     ]
    },
    {
     "name": "stdout",
     "output_type": "stream",
     "text": [
      "[GRID] start\n",
      "[GRID] Init:  1.996337890625 ms\n",
      "[GRID] Indices:  0.0 ms\n",
      "[GRID] Counts:  0.0 ms\n",
      "[GRID] Starts, counts:  0.0 ms\n",
      "[GRID] Starts, counts:  0.0 ms\n",
      "[GRID] Average positions:  86.362060546875 ms\n",
      "[GRID] Max distances:  0.998779296875 ms\n",
      "[GRID] new points:  0.0 ms\n",
      "[UG] Grid generation:  0.08985590934753418 seconds\n",
      "[UG] Mem alloc:  0.0 seconds\n",
      "[UG] Mem copy:  0.0004994869232177734 seconds\n",
      "[UG] Run:  0.0 seconds\n",
      "[UG] Copy back:  0.054412841796875 seconds\n",
      "[UG] Total:  0.14526724815368652 seconds\n",
      "[UG] neg_f:  0.145 s\n"
     ]
    },
    {
     "name": "stderr",
     "output_type": "stream",
     "text": [
      "Gradient Descent error: 110.12976 grad_norm: 6.26286e-01:  57%|█████▋    | 143/250 [00:58<01:05,  1.64it/s]"
     ]
    },
    {
     "name": "stdout",
     "output_type": "stream",
     "text": [
      "[UG] pos_f:  0.171 s\n",
      "[UG] applying forces:  0.016 s\n"
     ]
    },
    {
     "name": "stderr",
     "output_type": "stream",
     "text": [
      "Gradient Descent error: 110.12976 grad_norm: 6.26286e-01:  58%|█████▊    | 144/250 [00:58<01:06,  1.60it/s]"
     ]
    },
    {
     "name": "stdout",
     "output_type": "stream",
     "text": [
      "[GRID] start\n",
      "[GRID] Init:  0.499267578125 ms\n",
      "[GRID] Indices:  0.0 ms\n",
      "[GRID] Counts:  0.0 ms\n",
      "[GRID] Starts, counts:  0.0 ms\n",
      "[GRID] Starts, counts:  0.0 ms\n",
      "[GRID] Average positions:  80.370849609375 ms\n",
      "[GRID] Max distances:  1.498046875 ms\n",
      "[GRID] new points:  0.0 ms\n",
      "[UG] Grid generation:  0.08286690711975098 seconds\n",
      "[UG] Mem alloc:  0.0 seconds\n",
      "[UG] Mem copy:  0.0009984970092773438 seconds\n",
      "[UG] Run:  0.0 seconds\n",
      "[UG] Copy back:  0.04143357276916504 seconds\n",
      "[UG] Total:  0.12529897689819336 seconds\n",
      "[UG] neg_f:  0.126 s\n"
     ]
    },
    {
     "name": "stderr",
     "output_type": "stream",
     "text": [
      "Gradient Descent error: 110.12648 grad_norm: 6.24813e-01:  58%|█████▊    | 144/250 [00:59<01:06,  1.60it/s]"
     ]
    },
    {
     "name": "stdout",
     "output_type": "stream",
     "text": [
      "[UG] pos_f:  0.163 s\n",
      "[UG] applying forces:  0.018000000000000002 s\n"
     ]
    },
    {
     "name": "stderr",
     "output_type": "stream",
     "text": [
      "Gradient Descent error: 110.12648 grad_norm: 6.24813e-01:  58%|█████▊    | 145/250 [00:59<01:03,  1.64it/s]"
     ]
    },
    {
     "name": "stdout",
     "output_type": "stream",
     "text": [
      "[GRID] start\n",
      "[GRID] Init:  0.0 ms\n",
      "[GRID] Indices:  0.0 ms\n",
      "[GRID] Counts:  0.0 ms\n",
      "[GRID] Starts, counts:  0.0 ms\n",
      "[GRID] Starts, counts:  0.0 ms\n",
      "[GRID] Average positions:  60.40283203125 ms\n",
      "[GRID] Max distances:  1.49755859375 ms\n",
      "[GRID] new points:  0.0 ms\n",
      "[UG] Grid generation:  0.06339907646179199 seconds\n",
      "[UG] Mem alloc:  0.0 seconds\n",
      "[UG] Mem copy:  0.0004990100860595703 seconds\n",
      "[UG] Run:  0.0 seconds\n",
      "[UG] Copy back:  0.06389737129211426 seconds\n",
      "[UG] Total:  0.1282947063446045 seconds\n",
      "[UG] neg_f:  0.129 s\n"
     ]
    },
    {
     "name": "stderr",
     "output_type": "stream",
     "text": [
      "Gradient Descent error: 110.16861 grad_norm: 6.26004e-01:  58%|█████▊    | 146/250 [00:59<00:58,  1.77it/s]"
     ]
    },
    {
     "name": "stdout",
     "output_type": "stream",
     "text": [
      "[UG] pos_f:  0.115 s\n",
      "[UG] applying forces:  0.018000000000000002 s\n",
      "[GRID] start\n",
      "[GRID] Init:  0.4990234375 ms\n",
      "[GRID] Indices:  0.0 ms\n",
      "[GRID] Counts:  0.0 ms\n",
      "[GRID] Starts, counts:  0.0 ms\n",
      "[GRID] Starts, counts:  0.0 ms\n",
      "[GRID] Average positions:  48.421875 ms\n",
      "[GRID] Max distances:  1.497314453125 ms\n",
      "[GRID] new points:  0.0 ms\n",
      "[UG] Grid generation:  0.0509181022644043 seconds\n",
      "[UG] Mem alloc:  0.0 seconds\n",
      "[UG] Mem copy:  0.0009982585906982422 seconds\n",
      "[UG] Run:  0.0 seconds\n",
      "[UG] Copy back:  0.06439614295959473 seconds\n",
      "[UG] Total:  0.11681103706359863 seconds\n",
      "[UG] neg_f:  0.117 s\n",
      "[UG] pos_f:  0.082 s\n",
      "[UG] applying forces:  0.017 s\n"
     ]
    },
    {
     "name": "stderr",
     "output_type": "stream",
     "text": [
      "Gradient Descent error: 110.10233 grad_norm: 6.25288e-01:  59%|█████▉    | 147/250 [01:00<00:53,  1.94it/s]"
     ]
    },
    {
     "name": "stdout",
     "output_type": "stream",
     "text": [
      "[GRID] start\n",
      "[GRID] Init:  0.4990234375 ms\n",
      "[GRID] Indices:  0.0 ms\n",
      "[GRID] Counts:  0.0 ms\n",
      "[GRID] Starts, counts:  0.0 ms\n",
      "[GRID] Starts, counts:  0.0 ms\n",
      "[GRID] Average positions:  42.93115234375 ms\n",
      "[GRID] Max distances:  0.998291015625 ms\n",
      "[GRID] new points:  0.0 ms\n",
      "[UG] Grid generation:  0.04492688179016113 seconds\n",
      "[UG] Mem alloc:  0.0 seconds\n",
      "[UG] Mem copy:  0.0009987354278564453 seconds\n",
      "[UG] Run:  0.0 seconds\n",
      "[UG] Copy back:  0.06988739967346191 seconds\n",
      "[UG] Total:  0.11581301689147949 seconds\n",
      "[UG] neg_f:  0.116 s\n"
     ]
    },
    {
     "name": "stderr",
     "output_type": "stream",
     "text": [
      "Gradient Descent error: 110.13175 grad_norm: 6.26014e-01:  59%|█████▉    | 147/250 [01:00<00:53,  1.94it/s]"
     ]
    },
    {
     "name": "stdout",
     "output_type": "stream",
     "text": [
      "[UG] pos_f:  0.1 s\n",
      "[UG] applying forces:  0.022 s\n"
     ]
    },
    {
     "name": "stderr",
     "output_type": "stream",
     "text": [
      "Gradient Descent error: 110.13175 grad_norm: 6.26014e-01:  59%|█████▉    | 148/250 [01:00<00:54,  1.88it/s]"
     ]
    },
    {
     "name": "stdout",
     "output_type": "stream",
     "text": [
      "[GRID] start\n",
      "[GRID] Init:  0.498046875 ms\n",
      "[GRID] Indices:  0.0 ms\n",
      "[GRID] Counts:  0.0 ms\n",
      "[GRID] Starts, counts:  0.0 ms\n",
      "[GRID] Starts, counts:  0.0 ms\n",
      "[GRID] Average positions:  86.36181640625 ms\n",
      "[GRID] Max distances:  1.49755859375 ms\n",
      "[GRID] new points:  0.0 ms\n",
      "[UG] Grid generation:  0.08885645866394043 seconds\n",
      "[UG] Mem alloc:  0.0 seconds\n",
      "[UG] Mem copy:  0.0009982585906982422 seconds\n",
      "[UG] Run:  0.0 seconds\n",
      "[UG] Copy back:  0.054445743560791016 seconds\n",
      "[UG] Total:  0.14476609230041504 seconds\n",
      "[UG] neg_f:  0.145 s\n"
     ]
    },
    {
     "name": "stderr",
     "output_type": "stream",
     "text": [
      "Gradient Descent error: 110.11503 grad_norm: 6.24878e-01:  59%|█████▉    | 148/250 [01:01<00:54,  1.88it/s]"
     ]
    },
    {
     "name": "stdout",
     "output_type": "stream",
     "text": [
      "[UG] pos_f:  0.135 s\n",
      "[UG] applying forces:  0.015 s\n"
     ]
    },
    {
     "name": "stderr",
     "output_type": "stream",
     "text": [
      "Gradient Descent error: 110.11503 grad_norm: 6.24878e-01:  60%|█████▉    | 149/250 [01:01<00:54,  1.85it/s]"
     ]
    },
    {
     "name": "stdout",
     "output_type": "stream",
     "text": [
      "[GRID] start\n",
      "[GRID] Init:  0.0 ms\n",
      "[GRID] Indices:  0.49951171875 ms\n",
      "[GRID] Counts:  0.0 ms\n",
      "[GRID] Starts, counts:  0.0 ms\n",
      "[GRID] Starts, counts:  0.0 ms\n",
      "[GRID] Average positions:  76.377197265625 ms\n",
      "[GRID] Max distances:  1.497314453125 ms\n",
      "[GRID] new points:  0.0 ms\n",
      "[UG] Grid generation:  0.0788731575012207 seconds\n",
      "[UG] Mem alloc:  0.0 seconds\n",
      "[UG] Mem copy:  0.0009984970092773438 seconds\n",
      "[UG] Run:  0.0 seconds\n",
      "[UG] Copy back:  0.07488036155700684 seconds\n",
      "[UG] Total:  0.15475201606750488 seconds\n",
      "[UG] neg_f:  0.155 s\n"
     ]
    },
    {
     "name": "stderr",
     "output_type": "stream",
     "text": [
      "Gradient Descent error: 110.16099 grad_norm: 6.25941e-01:  60%|█████▉    | 149/250 [01:01<00:54,  1.85it/s]"
     ]
    },
    {
     "name": "stdout",
     "output_type": "stream",
     "text": [
      "[UG] pos_f:  0.15 s\n",
      "[UG] applying forces:  0.017 s\n"
     ]
    },
    {
     "name": "stderr",
     "output_type": "stream",
     "text": [
      "Gradient Descent error: 110.16099 grad_norm: 6.25941e-01:  60%|██████    | 150/250 [01:02<00:56,  1.77it/s]"
     ]
    },
    {
     "name": "stdout",
     "output_type": "stream",
     "text": [
      "[GRID] start\n",
      "[GRID] Init:  0.498779296875 ms\n",
      "[GRID] Indices:  0.0 ms\n",
      "[GRID] Counts:  0.0 ms\n",
      "[GRID] Starts, counts:  0.0 ms\n",
      "[GRID] Starts, counts:  0.0 ms\n",
      "[GRID] Average positions:  52.415771484375 ms\n",
      "[GRID] Max distances:  0.99853515625 ms\n",
      "[GRID] new points:  0.0 ms\n",
      "[UG] Grid generation:  0.0544126033782959 seconds\n",
      "[UG] Mem alloc:  0.0 seconds\n",
      "[UG] Mem copy:  0.0009982585906982422 seconds\n",
      "[UG] Run:  0.0 seconds\n",
      "[UG] Copy back:  0.06689214706420898 seconds\n",
      "[UG] Total:  0.12380075454711914 seconds\n",
      "[UG] neg_f:  0.125 s\n"
     ]
    },
    {
     "name": "stderr",
     "output_type": "stream",
     "text": [
      "Gradient Descent error: 110.10986 grad_norm: 6.25491e-01:  60%|██████    | 150/250 [01:02<00:56,  1.77it/s]"
     ]
    },
    {
     "name": "stdout",
     "output_type": "stream",
     "text": [
      "[UG] pos_f:  0.202 s\n",
      "[UG] applying forces:  0.021 s\n"
     ]
    },
    {
     "name": "stderr",
     "output_type": "stream",
     "text": [
      "Gradient Descent error: 110.10986 grad_norm: 6.25491e-01:  60%|██████    | 151/250 [01:02<00:57,  1.72it/s]"
     ]
    },
    {
     "name": "stdout",
     "output_type": "stream",
     "text": [
      "[GRID] start\n",
      "[GRID] Init:  0.4990234375 ms\n",
      "[GRID] Indices:  0.0 ms\n",
      "[GRID] Counts:  0.0 ms\n",
      "[GRID] Starts, counts:  0.0 ms\n",
      "[GRID] Starts, counts:  0.0 ms\n",
      "[GRID] Average positions:  67.890869140625 ms\n",
      "[GRID] Max distances:  1.4970703125 ms\n",
      "[GRID] new points:  0.0 ms\n",
      "[UG] Grid generation:  0.07038640975952148 seconds\n",
      "[UG] Mem alloc:  0.0 seconds\n",
      "[UG] Mem copy:  0.0009984970092773438 seconds\n",
      "[UG] Run:  0.0 seconds\n",
      "[UG] Copy back:  0.07038736343383789 seconds\n",
      "[UG] Total:  0.14177227020263672 seconds\n",
      "[UG] neg_f:  0.14200000000000002 s\n"
     ]
    },
    {
     "name": "stderr",
     "output_type": "stream",
     "text": [
      "Gradient Descent error: 110.14079 grad_norm: 6.25858e-01:  60%|██████    | 151/250 [01:03<00:57,  1.72it/s]"
     ]
    },
    {
     "name": "stdout",
     "output_type": "stream",
     "text": [
      "[UG] pos_f:  0.17300000000000001 s\n",
      "[UG] applying forces:  0.027 s\n"
     ]
    },
    {
     "name": "stderr",
     "output_type": "stream",
     "text": [
      "Gradient Descent error: 110.14079 grad_norm: 6.25858e-01:  61%|██████    | 152/250 [01:03<00:58,  1.66it/s]"
     ]
    },
    {
     "name": "stdout",
     "output_type": "stream",
     "text": [
      "[GRID] start\n",
      "[GRID] Init:  0.499267578125 ms\n",
      "[GRID] Indices:  0.49951171875 ms\n",
      "[GRID] Counts:  0.0 ms\n",
      "[GRID] Starts, counts:  0.0 ms\n",
      "[GRID] Starts, counts:  0.0 ms\n",
      "[GRID] Average positions:  53.912109375 ms\n",
      "[GRID] Max distances:  5.991455078125 ms\n",
      "[GRID] new points:  0.0 ms\n",
      "[UG] Grid generation:  0.06090235710144043 seconds\n",
      "[UG] Mem alloc:  0.0 seconds\n",
      "[UG] Mem copy:  0.0019960403442382812 seconds\n",
      "[UG] Run:  0.0 seconds\n",
      "[UG] Copy back:  0.05591082572937012 seconds\n",
      "[UG] Total:  0.11880922317504883 seconds\n",
      "[UG] neg_f:  0.11900000000000001 s\n"
     ]
    },
    {
     "name": "stderr",
     "output_type": "stream",
     "text": [
      "Gradient Descent error: 110.10328 grad_norm: 6.25042e-01:  61%|██████    | 152/250 [01:03<00:58,  1.66it/s]"
     ]
    },
    {
     "name": "stdout",
     "output_type": "stream",
     "text": [
      "[UG] pos_f:  0.176 s\n",
      "[UG] applying forces:  0.02 s\n"
     ]
    },
    {
     "name": "stderr",
     "output_type": "stream",
     "text": [
      "Gradient Descent error: 110.10328 grad_norm: 6.25042e-01:  61%|██████    | 153/250 [01:03<00:58,  1.65it/s]"
     ]
    },
    {
     "name": "stdout",
     "output_type": "stream",
     "text": [
      "[GRID] start\n",
      "[GRID] Init:  0.498779296875 ms\n",
      "[GRID] Indices:  0.0 ms\n",
      "[GRID] Counts:  0.0 ms\n",
      "[GRID] Starts, counts:  0.0 ms\n",
      "[GRID] Starts, counts:  0.0 ms\n",
      "[GRID] Average positions:  57.40771484375 ms\n",
      "[GRID] Max distances:  0.998291015625 ms\n",
      "[GRID] new points:  0.0 ms\n",
      "[UG] Grid generation:  0.06040310859680176 seconds\n",
      "[UG] Mem alloc:  0.0 seconds\n",
      "[UG] Mem copy:  0.0009980201721191406 seconds\n",
      "[UG] Run:  0.0 seconds\n",
      "[UG] Copy back:  0.05890512466430664 seconds\n",
      "[UG] Total:  0.12080597877502441 seconds\n",
      "[UG] neg_f:  0.121 s\n"
     ]
    },
    {
     "name": "stderr",
     "output_type": "stream",
     "text": [
      "Gradient Descent error: 110.12576 grad_norm: 6.26077e-01:  61%|██████    | 153/250 [01:04<00:58,  1.65it/s]"
     ]
    },
    {
     "name": "stdout",
     "output_type": "stream",
     "text": [
      "[UG] pos_f:  0.159 s\n",
      "[UG] applying forces:  0.017 s\n"
     ]
    },
    {
     "name": "stderr",
     "output_type": "stream",
     "text": [
      "Gradient Descent error: 110.12576 grad_norm: 6.26077e-01:  62%|██████▏   | 154/250 [01:04<00:59,  1.63it/s]"
     ]
    },
    {
     "name": "stdout",
     "output_type": "stream",
     "text": [
      "[GRID] start\n",
      "[GRID] Init:  3.493408203125 ms\n",
      "[GRID] Indices:  0.0 ms\n",
      "[GRID] Counts:  0.0 ms\n",
      "[GRID] Starts, counts:  0.0 ms\n",
      "[GRID] Starts, counts:  0.0 ms\n",
      "[GRID] Average positions:  79.872314453125 ms\n",
      "[GRID] Max distances:  1.496826171875 ms\n",
      "[GRID] new points:  0.0 ms\n",
      "[UG] Grid generation:  0.08536267280578613 seconds\n",
      "[UG] Mem alloc:  0.0 seconds\n",
      "[UG] Mem copy:  0.000997781753540039 seconds\n",
      "[UG] Run:  0.0 seconds\n",
      "[UG] Copy back:  0.05591106414794922 seconds\n",
      "[UG] Total:  0.1422715187072754 seconds\n",
      "[UG] neg_f:  0.14200000000000002 s\n"
     ]
    },
    {
     "name": "stderr",
     "output_type": "stream",
     "text": [
      "Gradient Descent error: 110.09799 grad_norm: 6.24991e-01:  62%|██████▏   | 154/250 [01:04<00:59,  1.63it/s]"
     ]
    },
    {
     "name": "stdout",
     "output_type": "stream",
     "text": [
      "[UG] pos_f:  0.14100000000000001 s\n",
      "[UG] applying forces:  0.038 s\n"
     ]
    },
    {
     "name": "stderr",
     "output_type": "stream",
     "text": [
      "Gradient Descent error: 110.09799 grad_norm: 6.24991e-01:  62%|██████▏   | 155/250 [01:05<00:58,  1.62it/s]"
     ]
    },
    {
     "name": "stdout",
     "output_type": "stream",
     "text": [
      "[GRID] start\n",
      "[GRID] Init:  0.498779296875 ms\n",
      "[GRID] Indices:  0.0 ms\n",
      "[GRID] Counts:  0.0 ms\n",
      "[GRID] Starts, counts:  0.0 ms\n",
      "[GRID] Starts, counts:  0.0 ms\n",
      "[GRID] Average positions:  80.37060546875 ms\n",
      "[GRID] Max distances:  1.4970703125 ms\n",
      "[GRID] new points:  0.0 ms\n",
      "[UG] Grid generation:  0.08286571502685547 seconds\n",
      "[UG] Mem alloc:  0.0 seconds\n",
      "[UG] Mem copy:  0.0009992122650146484 seconds\n",
      "[UG] Run:  0.0 seconds\n",
      "[UG] Copy back:  0.05841183662414551 seconds\n",
      "[UG] Total:  0.14227676391601562 seconds\n",
      "[UG] neg_f:  0.14200000000000002 s\n"
     ]
    },
    {
     "name": "stderr",
     "output_type": "stream",
     "text": [
      "Gradient Descent error: 110.13728 grad_norm: 6.26211e-01:  62%|██████▏   | 155/250 [01:05<00:58,  1.62it/s]"
     ]
    },
    {
     "name": "stdout",
     "output_type": "stream",
     "text": [
      "[UG] pos_f:  0.212 s\n",
      "[UG] applying forces:  0.017 s\n"
     ]
    },
    {
     "name": "stderr",
     "output_type": "stream",
     "text": [
      "Gradient Descent error: 110.13728 grad_norm: 6.26211e-01:  62%|██████▏   | 156/250 [01:05<00:58,  1.60it/s]"
     ]
    },
    {
     "name": "stdout",
     "output_type": "stream",
     "text": [
      "[GRID] start\n",
      "[GRID] Init:  0.49609375 ms\n",
      "[GRID] Indices:  0.49951171875 ms\n",
      "[GRID] Counts:  0.0 ms\n",
      "[GRID] Starts, counts:  0.0 ms\n",
      "[GRID] Starts, counts:  0.0 ms\n",
      "[GRID] Average positions:  50.918212890625 ms\n",
      "[GRID] Max distances:  1.497314453125 ms\n",
      "[GRID] new points:  0.0 ms\n",
      "[UG] Grid generation:  0.053411006927490234 seconds\n",
      "[UG] Mem alloc:  0.0 seconds\n",
      "[UG] Mem copy:  0.0004990100860595703 seconds\n",
      "[UG] Run:  0.0004992485046386719 seconds\n",
      "[UG] Copy back:  0.05491209030151367 seconds\n",
      "[UG] Total:  0.11032247543334961 seconds\n",
      "[UG] neg_f:  0.11 s\n",
      "[UG] pos_f:  0.082 s\n"
     ]
    },
    {
     "name": "stderr",
     "output_type": "stream",
     "text": [
      "Gradient Descent error: 110.08741 grad_norm: 6.24548e-01:  62%|██████▏   | 156/250 [01:06<00:58,  1.60it/s]"
     ]
    },
    {
     "name": "stdout",
     "output_type": "stream",
     "text": [
      "[UG] applying forces:  0.017 s\n"
     ]
    },
    {
     "name": "stderr",
     "output_type": "stream",
     "text": [
      "Gradient Descent error: 110.08741 grad_norm: 6.24548e-01:  63%|██████▎   | 157/250 [01:06<00:52,  1.76it/s]"
     ]
    },
    {
     "name": "stdout",
     "output_type": "stream",
     "text": [
      "[GRID] start\n",
      "[GRID] Init:  0.4990234375 ms\n",
      "[GRID] Indices:  0.499755859375 ms\n",
      "[GRID] Counts:  0.0 ms\n",
      "[GRID] Starts, counts:  0.0 ms\n",
      "[GRID] Starts, counts:  0.0 ms\n",
      "[GRID] Average positions:  51.416748046875 ms\n",
      "[GRID] Max distances:  1.497802734375 ms\n",
      "[GRID] new points:  0.0 ms\n",
      "[UG] Grid generation:  0.0544123649597168 seconds\n",
      "[UG] Mem alloc:  0.0 seconds\n",
      "[UG] Mem copy:  0.0009982585906982422 seconds\n",
      "[UG] Run:  0.0 seconds\n",
      "[UG] Copy back:  0.04892134666442871 seconds\n",
      "[UG] Total:  0.10433197021484375 seconds\n",
      "[UG] neg_f:  0.105 s\n"
     ]
    },
    {
     "name": "stderr",
     "output_type": "stream",
     "text": [
      "Gradient Descent error: 110.11727 grad_norm: 6.25705e-01:  63%|██████▎   | 157/250 [01:06<00:52,  1.76it/s]"
     ]
    },
    {
     "name": "stdout",
     "output_type": "stream",
     "text": [
      "[UG] pos_f:  0.106 s\n",
      "[UG] applying forces:  0.017 s\n"
     ]
    },
    {
     "name": "stderr",
     "output_type": "stream",
     "text": [
      "Gradient Descent error: 110.11727 grad_norm: 6.25705e-01:  63%|██████▎   | 158/250 [01:06<00:48,  1.89it/s]"
     ]
    },
    {
     "name": "stdout",
     "output_type": "stream",
     "text": [
      "[GRID] start\n",
      "[GRID] Init:  0.4990234375 ms\n",
      "[GRID] Indices:  0.0 ms\n",
      "[GRID] Counts:  0.0 ms\n",
      "[GRID] Starts, counts:  0.0 ms\n",
      "[GRID] Starts, counts:  0.0 ms\n",
      "[GRID] Average positions:  47.423828125 ms\n",
      "[GRID] Max distances:  1.497314453125 ms\n",
      "[GRID] new points:  0.0 ms\n",
      "[UG] Grid generation:  0.04991745948791504 seconds\n",
      "[UG] Mem alloc:  0.0 seconds\n",
      "[UG] Mem copy:  0.0004992485046386719 seconds\n",
      "[UG] Run:  0.0 seconds\n",
      "[UG] Copy back:  0.052416086196899414 seconds\n",
      "[UG] Total:  0.1033320426940918 seconds\n",
      "[UG] neg_f:  0.10300000000000001 s\n"
     ]
    },
    {
     "name": "stderr",
     "output_type": "stream",
     "text": [
      "Gradient Descent error: 110.08593 grad_norm: 6.25334e-01:  64%|██████▎   | 159/250 [01:07<00:43,  2.08it/s]"
     ]
    },
    {
     "name": "stdout",
     "output_type": "stream",
     "text": [
      "[UG] pos_f:  0.09 s\n",
      "[UG] applying forces:  0.018000000000000002 s\n",
      "[GRID] start\n",
      "[GRID] Init:  0.0 ms\n",
      "[GRID] Indices:  0.50048828125 ms\n",
      "[GRID] Counts:  0.0 ms\n",
      "[GRID] Starts, counts:  0.0 ms\n",
      "[GRID] Starts, counts:  0.0 ms\n",
      "[GRID] Average positions:  24.958251953125 ms\n",
      "[GRID] Max distances:  1.497314453125 ms\n",
      "[GRID] new points:  0.0 ms\n",
      "[UG] Grid generation:  0.02695608139038086 seconds\n",
      "[UG] Mem alloc:  0.0 seconds\n",
      "[UG] Mem copy:  0.0004987716674804688 seconds\n",
      "[UG] Run:  0.0 seconds\n"
     ]
    },
    {
     "name": "stderr",
     "output_type": "stream",
     "text": [
      "Gradient Descent error: 110.12135 grad_norm: 6.25890e-01:  64%|██████▎   | 159/250 [01:07<00:43,  2.08it/s]"
     ]
    },
    {
     "name": "stdout",
     "output_type": "stream",
     "text": [
      "[UG] Copy back:  0.059903621673583984 seconds\n",
      "[UG] Total:  0.08735847473144531 seconds\n",
      "[UG] neg_f:  0.088 s\n",
      "[UG] pos_f:  0.075 s\n",
      "[UG] applying forces:  0.019 s\n"
     ]
    },
    {
     "name": "stderr",
     "output_type": "stream",
     "text": [
      "Gradient Descent error: 110.12135 grad_norm: 6.25890e-01:  64%|██████▍   | 160/250 [01:07<00:39,  2.29it/s]"
     ]
    },
    {
     "name": "stdout",
     "output_type": "stream",
     "text": [
      "[GRID] start\n",
      "[GRID] Init:  0.497802734375 ms\n",
      "[GRID] Indices:  0.0 ms\n",
      "[GRID] Counts:  0.0 ms\n",
      "[GRID] Starts, counts:  0.0 ms\n",
      "[GRID] Starts, counts:  0.0 ms\n",
      "[GRID] Average positions:  33.446533203125 ms\n",
      "[GRID] Max distances:  1.498046875 ms\n",
      "[GRID] new points:  0.0 ms\n",
      "[UG] Grid generation:  0.035442352294921875 seconds\n",
      "[UG] Mem alloc:  0.0 seconds\n",
      "[UG] Mem copy:  0.000997304916381836 seconds\n",
      "[UG] Run:  0.0004994869232177734 seconds\n",
      "[UG] Copy back:  0.05640983581542969 seconds\n",
      "[UG] Total:  0.09334897994995117 seconds\n",
      "[UG] neg_f:  0.093 s\n"
     ]
    },
    {
     "name": "stderr",
     "output_type": "stream",
     "text": [
      "Gradient Descent error: 110.07530 grad_norm: 6.24671e-01:  64%|██████▍   | 160/250 [01:07<00:39,  2.29it/s]"
     ]
    },
    {
     "name": "stdout",
     "output_type": "stream",
     "text": [
      "[UG] pos_f:  0.128 s\n",
      "[UG] applying forces:  0.027 s\n"
     ]
    },
    {
     "name": "stderr",
     "output_type": "stream",
     "text": [
      "Gradient Descent error: 110.10758 grad_norm: 6.26427e-01:  64%|██████▍   | 161/250 [01:08<00:39,  2.25it/s]"
     ]
    },
    {
     "name": "stdout",
     "output_type": "stream",
     "text": [
      "[GRID] start\n",
      "[GRID] Init:  0.4990234375 ms\n",
      "[GRID] Indices:  0.0 ms\n",
      "[GRID] Counts:  0.0 ms\n",
      "[GRID] Starts, counts:  0.0 ms\n",
      "[GRID] Starts, counts:  0.0 ms\n",
      "[GRID] Average positions:  24.9599609375 ms\n",
      "[GRID] Max distances:  0.99853515625 ms\n",
      "[GRID] new points:  0.0 ms\n",
      "[UG] Grid generation:  0.02695631980895996 seconds\n",
      "[UG] Mem alloc:  0.0 seconds\n",
      "[UG] Mem copy:  0.0009989738464355469 seconds\n",
      "[UG] Run:  0.0 seconds\n",
      "[UG] Copy back:  0.05690813064575195 seconds\n",
      "[UG] Total:  0.08486342430114746 seconds\n",
      "[UG] neg_f:  0.085 s\n",
      "[UG] pos_f:  0.064 s\n",
      "[UG] applying forces:  0.019 s\n"
     ]
    },
    {
     "name": "stderr",
     "output_type": "stream",
     "text": [
      "Gradient Descent error: 110.10758 grad_norm: 6.26427e-01:  65%|██████▍   | 162/250 [01:08<00:35,  2.47it/s]"
     ]
    },
    {
     "name": "stdout",
     "output_type": "stream",
     "text": [
      "[GRID] start\n",
      "[GRID] Init:  0.498779296875 ms\n",
      "[GRID] Indices:  0.0 ms\n",
      "[GRID] Counts:  0.0 ms\n",
      "[GRID] Starts, counts:  0.0 ms\n",
      "[GRID] Starts, counts:  0.0 ms\n",
      "[GRID] Average positions:  40.435546875 ms\n",
      "[GRID] Max distances:  1.497314453125 ms\n",
      "[GRID] new points:  0.0 ms\n",
      "[UG] Grid generation:  0.04243183135986328 seconds\n",
      "[UG] Mem alloc:  0.0 seconds\n",
      "[UG] Mem copy:  0.0009984970092773438 seconds\n",
      "[UG] Run:  0.0 seconds\n",
      "[UG] Copy back:  0.1507580280303955 seconds\n",
      "[UG] Total:  0.19418835639953613 seconds\n",
      "[UG] neg_f:  0.194 s\n"
     ]
    },
    {
     "name": "stderr",
     "output_type": "stream",
     "text": [
      "Gradient Descent error: 110.07376 grad_norm: 6.25130e-01:  65%|██████▌   | 163/250 [01:08<00:35,  2.45it/s]"
     ]
    },
    {
     "name": "stdout",
     "output_type": "stream",
     "text": [
      "[UG] pos_f:  0.061 s\n",
      "[UG] applying forces:  0.021 s\n",
      "[GRID] start\n",
      "[GRID] Init:  0.99951171875 ms\n",
      "[GRID] Indices:  0.0 ms\n",
      "[GRID] Counts:  0.0 ms\n",
      "[GRID] Starts, counts:  0.0 ms\n",
      "[GRID] Starts, counts:  0.0 ms\n",
      "[GRID] Average positions:  25.956787109375 ms\n",
      "[GRID] Max distances:  0.998779296875 ms\n",
      "[GRID] new points:  0.0 ms\n",
      "[UG] Grid generation:  0.027955055236816406 seconds\n",
      "[UG] Mem alloc:  0.0 seconds\n",
      "[UG] Mem copy:  0.0004990100860595703 seconds\n",
      "[UG] Run:  0.0 seconds\n"
     ]
    },
    {
     "name": "stderr",
     "output_type": "stream",
     "text": [
      "Gradient Descent error: 110.09346 grad_norm: 6.26195e-01:  65%|██████▌   | 163/250 [01:08<00:35,  2.45it/s]"
     ]
    },
    {
     "name": "stdout",
     "output_type": "stream",
     "text": [
      "[UG] Copy back:  0.06739139556884766 seconds\n",
      "[UG] Total:  0.09584546089172363 seconds\n",
      "[UG] neg_f:  0.096 s\n",
      "[UG] pos_f:  0.093 s\n",
      "[UG] applying forces:  0.021 s\n"
     ]
    },
    {
     "name": "stderr",
     "output_type": "stream",
     "text": [
      "Gradient Descent error: 110.06297 grad_norm: 6.25330e-01:  66%|██████▌   | 164/250 [01:09<00:33,  2.56it/s]"
     ]
    },
    {
     "name": "stdout",
     "output_type": "stream",
     "text": [
      "[GRID] start\n",
      "[GRID] Init:  0.5029296875 ms\n",
      "[GRID] Indices:  0.0 ms\n",
      "[GRID] Counts:  0.0 ms\n",
      "[GRID] Starts, counts:  0.0 ms\n",
      "[GRID] Starts, counts:  0.0 ms\n",
      "[GRID] Average positions:  33.445068359375 ms\n",
      "[GRID] Max distances:  1.4970703125 ms\n",
      "[GRID] new points:  0.0 ms\n",
      "[UG] Grid generation:  0.04193258285522461 seconds\n",
      "[UG] Mem alloc:  0.0 seconds\n",
      "[UG] Mem copy:  0.0009984970092773438 seconds\n",
      "[UG] Run:  0.0 seconds\n",
      "[UG] Copy back:  0.05041909217834473 seconds\n",
      "[UG] Total:  0.09335017204284668 seconds\n",
      "[UG] neg_f:  0.094 s\n",
      "[UG] pos_f:  0.066 s\n",
      "[UG] applying forces:  0.022 s\n"
     ]
    },
    {
     "name": "stderr",
     "output_type": "stream",
     "text": [
      "Gradient Descent error: 110.06297 grad_norm: 6.25330e-01:  66%|██████▌   | 165/250 [01:09<00:31,  2.70it/s]"
     ]
    },
    {
     "name": "stdout",
     "output_type": "stream",
     "text": [
      "[GRID] start\n",
      "[GRID] Init:  0.499267578125 ms\n",
      "[GRID] Indices:  0.5 ms\n",
      "[GRID] Counts:  0.0 ms\n",
      "[GRID] Starts, counts:  0.0 ms\n",
      "[GRID] Starts, counts:  0.0 ms\n",
      "[GRID] Average positions:  24.959228515625 ms\n",
      "[GRID] Max distances:  0.99853515625 ms\n",
      "[GRID] new points:  0.0 ms\n",
      "[UG] Grid generation:  0.026957035064697266 seconds\n",
      "[UG] Mem alloc:  0.0 seconds\n",
      "[UG] Mem copy:  0.0009984970092773438 seconds\n",
      "[UG] Run:  0.0 seconds\n",
      "[UG] Copy back:  0.05940389633178711 seconds\n",
      "[UG] Total:  0.08735942840576172 seconds\n",
      "[UG] neg_f:  0.088 s\n",
      "[UG] pos_f:  0.079 s\n",
      "[UG] applying forces:  0.017 s\n"
     ]
    },
    {
     "name": "stderr",
     "output_type": "stream",
     "text": [
      "Gradient Descent error: 110.09279 grad_norm: 6.25946e-01:  66%|██████▋   | 166/250 [01:09<00:30,  2.79it/s]"
     ]
    },
    {
     "name": "stdout",
     "output_type": "stream",
     "text": [
      "[GRID] start\n",
      "[GRID] Init:  0.49951171875 ms\n",
      "[GRID] Indices:  0.0 ms\n",
      "[GRID] Counts:  0.0 ms\n",
      "[GRID] Starts, counts:  0.499267578125 ms\n",
      "[GRID] Starts, counts:  0.0 ms\n",
      "[GRID] Average positions:  19.968505859375 ms\n",
      "[GRID] Max distances:  0.99853515625 ms\n",
      "[GRID] new points:  0.0 ms\n",
      "[UG] Grid generation:  0.021965742111206055 seconds\n",
      "[UG] Mem alloc:  0.0 seconds\n",
      "[UG] Mem copy:  0.0004992485046386719 seconds\n",
      "[UG] Run:  0.0004992485046386719 seconds\n",
      "[UG] Copy back:  0.06689238548278809 seconds\n",
      "[UG] Total:  0.08985662460327148 seconds\n",
      "[UG] neg_f:  0.09 s\n",
      "[UG] pos_f:  0.067 s\n",
      "[UG] applying forces:  0.019 s\n"
     ]
    },
    {
     "name": "stderr",
     "output_type": "stream",
     "text": [
      "Gradient Descent error: 110.08881 grad_norm: 6.25826e-01:  67%|██████▋   | 167/250 [01:10<00:29,  2.79it/s]"
     ]
    },
    {
     "name": "stdout",
     "output_type": "stream",
     "text": [
      "[GRID] start\n",
      "[GRID] Init:  0.49951171875 ms\n",
      "[GRID] Indices:  0.0 ms\n",
      "[GRID] Counts:  0.0 ms\n",
      "[GRID] Starts, counts:  0.0 ms\n",
      "[GRID] Starts, counts:  0.0 ms\n",
      "[GRID] Average positions:  19.966552734375 ms\n",
      "[GRID] Max distances:  0.9990234375 ms\n",
      "[GRID] new points:  0.0 ms\n",
      "[UG] Grid generation:  0.02196478843688965 seconds\n",
      "[UG] Mem alloc:  0.0 seconds\n",
      "[UG] Mem copy:  0.0034940242767333984 seconds\n",
      "[UG] Run:  0.0 seconds\n",
      "[UG] Copy back:  0.055909156799316406 seconds\n",
      "[UG] Total:  0.08136796951293945 seconds\n",
      "[UG] neg_f:  0.082 s\n",
      "[UG] pos_f:  0.059000000000000004 s\n",
      "[UG] applying forces:  0.021 s\n"
     ]
    },
    {
     "name": "stderr",
     "output_type": "stream",
     "text": [
      "Gradient Descent error: 110.08881 grad_norm: 6.25826e-01:  67%|██████▋   | 168/250 [01:10<00:28,  2.92it/s]"
     ]
    },
    {
     "name": "stdout",
     "output_type": "stream",
     "text": [
      "[GRID] start\n",
      "[GRID] Init:  1.007080078125 ms\n",
      "[GRID] Indices:  0.0 ms\n",
      "[GRID] Counts:  0.0 ms\n",
      "[GRID] Starts, counts:  0.0 ms\n",
      "[GRID] Starts, counts:  0.0 ms\n",
      "[GRID] Average positions:  22.952880859375 ms\n",
      "[GRID] Max distances:  1.497314453125 ms\n",
      "[GRID] new points:  0.0 ms\n",
      "[UG] Grid generation:  0.025457382202148438 seconds\n",
      "[UG] Mem alloc:  0.0 seconds\n",
      "[UG] Mem copy:  0.0009980201721191406 seconds\n",
      "[UG] Run:  0.0 seconds\n",
      "[UG] Copy back:  0.06491470336914062 seconds\n",
      "[UG] Total:  0.09185123443603516 seconds\n",
      "[UG] neg_f:  0.092 s\n",
      "[UG] pos_f:  0.062 s\n",
      "[UG] applying forces:  0.018000000000000002 s\n"
     ]
    },
    {
     "name": "stderr",
     "output_type": "stream",
     "text": [
      "Gradient Descent error: 110.08165 grad_norm: 6.26422e-01:  68%|██████▊   | 169/250 [01:10<00:27,  2.99it/s]"
     ]
    },
    {
     "name": "stdout",
     "output_type": "stream",
     "text": [
      "[GRID] start\n",
      "[GRID] Init:  0.499755859375 ms\n",
      "[GRID] Indices:  0.0 ms\n",
      "[GRID] Counts:  0.0 ms\n",
      "[GRID] Starts, counts:  0.0 ms\n",
      "[GRID] Starts, counts:  0.0 ms\n",
      "[GRID] Average positions:  26.456298828125 ms\n",
      "[GRID] Max distances:  0.998046875 ms\n",
      "[GRID] new points:  0.0 ms\n",
      "[UG] Grid generation:  0.0279541015625 seconds\n",
      "[UG] Mem alloc:  0.0 seconds\n",
      "[UG] Mem copy:  0.0009989738464355469 seconds\n",
      "[UG] Run:  0.0 seconds\n",
      "[UG] Copy back:  0.06739068031311035 seconds\n",
      "[UG] Total:  0.0963437557220459 seconds\n",
      "[UG] neg_f:  0.096 s\n",
      "[UG] pos_f:  0.063 s\n",
      "[UG] applying forces:  0.021 s\n"
     ]
    },
    {
     "name": "stderr",
     "output_type": "stream",
     "text": [
      "Gradient Descent error: 110.05779 grad_norm: 6.25193e-01:  68%|██████▊   | 170/250 [01:11<00:26,  3.03it/s]"
     ]
    },
    {
     "name": "stdout",
     "output_type": "stream",
     "text": [
      "[GRID] start\n",
      "[GRID] Init:  0.0 ms\n",
      "[GRID] Indices:  0.499755859375 ms\n",
      "[GRID] Counts:  0.0 ms\n",
      "[GRID] Starts, counts:  0.0 ms\n",
      "[GRID] Starts, counts:  0.0 ms\n",
      "[GRID] Average positions:  20.4658203125 ms\n",
      "[GRID] Max distances:  0.99853515625 ms\n",
      "[GRID] new points:  0.0 ms\n",
      "[UG] Grid generation:  0.022962570190429688 seconds\n",
      "[UG] Mem alloc:  0.0 seconds\n",
      "[UG] Mem copy:  0.0004985332489013672 seconds\n",
      "[UG] Run:  0.0 seconds\n",
      "[UG] Copy back:  0.05391335487365723 seconds\n",
      "[UG] Total:  0.07737445831298828 seconds\n",
      "[UG] neg_f:  0.077 s\n",
      "[UG] pos_f:  0.07200000000000001 s\n",
      "[UG] applying forces:  0.02 s\n"
     ]
    },
    {
     "name": "stderr",
     "output_type": "stream",
     "text": [
      "Gradient Descent error: 110.10549 grad_norm: 6.26161e-01:  68%|██████▊   | 171/250 [01:11<00:25,  3.05it/s]"
     ]
    },
    {
     "name": "stdout",
     "output_type": "stream",
     "text": [
      "[GRID] start\n",
      "[GRID] Init:  0.0 ms\n",
      "[GRID] Indices:  0.0 ms\n",
      "[GRID] Counts:  0.0 ms\n",
      "[GRID] Starts, counts:  0.0 ms\n",
      "[GRID] Starts, counts:  0.0 ms\n",
      "[GRID] Average positions:  22.962890625 ms\n",
      "[GRID] Max distances:  1.497802734375 ms\n",
      "[GRID] new points:  0.0 ms\n",
      "[UG] Grid generation:  0.02545905113220215 seconds\n",
      "[UG] Mem alloc:  0.0 seconds\n",
      "[UG] Mem copy:  0.00399327278137207 seconds\n",
      "[UG] Run:  0.0 seconds\n",
      "[UG] Copy back:  0.0614008903503418 seconds\n",
      "[UG] Total:  0.09085321426391602 seconds\n",
      "[UG] neg_f:  0.091 s\n",
      "[UG] pos_f:  0.061 s\n",
      "[UG] applying forces:  0.02 s\n"
     ]
    },
    {
     "name": "stderr",
     "output_type": "stream",
     "text": [
      "Gradient Descent error: 110.10549 grad_norm: 6.26161e-01:  69%|██████▉   | 172/250 [01:11<00:25,  3.09it/s]"
     ]
    },
    {
     "name": "stdout",
     "output_type": "stream",
     "text": [
      "[GRID] start\n",
      "[GRID] Init:  0.497802734375 ms\n",
      "[GRID] Indices:  0.0 ms\n",
      "[GRID] Counts:  0.0 ms\n",
      "[GRID] Starts, counts:  0.0 ms\n",
      "[GRID] Starts, counts:  0.0 ms\n",
      "[GRID] Average positions:  20.465576171875 ms\n",
      "[GRID] Max distances:  0.99853515625 ms\n",
      "[GRID] new points:  0.0 ms\n",
      "[UG] Grid generation:  0.02196192741394043 seconds\n",
      "[UG] Mem alloc:  0.0 seconds\n",
      "[UG] Mem copy:  0.000499725341796875 seconds\n",
      "[UG] Run:  0.0 seconds\n",
      "[UG] Copy back:  0.05141735076904297 seconds\n",
      "[UG] Total:  0.07387900352478027 seconds\n",
      "[UG] neg_f:  0.074 s\n",
      "[UG] pos_f:  0.095 s\n",
      "[UG] applying forces:  0.02 s\n"
     ]
    },
    {
     "name": "stderr",
     "output_type": "stream",
     "text": [
      "Gradient Descent error: 110.03763 grad_norm: 6.24634e-01:  69%|██████▉   | 173/250 [01:11<00:25,  3.08it/s]"
     ]
    },
    {
     "name": "stdout",
     "output_type": "stream",
     "text": [
      "[GRID] start\n",
      "[GRID] Init:  0.0 ms\n",
      "[GRID] Indices:  0.0 ms\n",
      "[GRID] Counts:  0.0 ms\n",
      "[GRID] Starts, counts:  0.0 ms\n",
      "[GRID] Starts, counts:  0.0 ms\n",
      "[GRID] Average positions:  27.455322265625 ms\n",
      "[GRID] Max distances:  0.998046875 ms\n",
      "[GRID] new points:  0.0 ms\n",
      "[UG] Grid generation:  0.02945113182067871 seconds\n",
      "[UG] Mem alloc:  0.0 seconds\n",
      "[UG] Mem copy:  0.0009984970092773438 seconds\n",
      "[UG] Run:  0.0 seconds\n",
      "[UG] Copy back:  0.052915334701538086 seconds\n",
      "[UG] Total:  0.08336496353149414 seconds\n",
      "[UG] neg_f:  0.084 s\n",
      "[UG] pos_f:  0.073 s\n",
      "[UG] applying forces:  0.021 s\n"
     ]
    },
    {
     "name": "stderr",
     "output_type": "stream",
     "text": [
      "Gradient Descent error: 110.04492 grad_norm: 6.24903e-01:  70%|██████▉   | 174/250 [01:12<00:24,  3.08it/s]"
     ]
    },
    {
     "name": "stdout",
     "output_type": "stream",
     "text": [
      "[GRID] start\n",
      "[GRID] Init:  0.0 ms\n",
      "[GRID] Indices:  0.0 ms\n",
      "[GRID] Counts:  0.0 ms\n",
      "[GRID] Starts, counts:  0.0 ms\n",
      "[GRID] Starts, counts:  0.0 ms\n",
      "[GRID] Average positions:  23.460693359375 ms\n",
      "[GRID] Max distances:  1.497802734375 ms\n",
      "[GRID] new points:  0.0 ms\n",
      "[UG] Grid generation:  0.02595829963684082 seconds\n",
      "[UG] Mem alloc:  0.0 seconds\n",
      "[UG] Mem copy:  0.003993988037109375 seconds\n",
      "[UG] Run:  0.0 seconds\n",
      "[UG] Copy back:  0.05541038513183594 seconds\n",
      "[UG] Total:  0.08586287498474121 seconds\n",
      "[UG] neg_f:  0.08600000000000001 s\n",
      "[UG] pos_f:  0.067 s\n",
      "[UG] applying forces:  0.021 s\n"
     ]
    },
    {
     "name": "stderr",
     "output_type": "stream",
     "text": [
      "Gradient Descent error: 110.04492 grad_norm: 6.24903e-01:  70%|███████   | 175/250 [01:12<00:25,  2.94it/s]"
     ]
    },
    {
     "name": "stdout",
     "output_type": "stream",
     "text": [
      "[GRID] start\n",
      "[GRID] Init:  0.499267578125 ms\n",
      "[GRID] Indices:  0.0 ms\n",
      "[GRID] Counts:  0.0 ms\n",
      "[GRID] Starts, counts:  0.0 ms\n",
      "[GRID] Starts, counts:  0.0 ms\n",
      "[GRID] Average positions:  25.458984375 ms\n",
      "[GRID] Max distances:  1.497802734375 ms\n",
      "[GRID] new points:  0.0 ms\n",
      "[UG] Grid generation:  0.027456045150756836 seconds\n",
      "[UG] Mem alloc:  0.0 seconds\n",
      "[UG] Mem copy:  0.0009980201721191406 seconds\n",
      "[UG] Run:  0.0 seconds\n",
      "[UG] Copy back:  0.05041980743408203 seconds\n",
      "[UG] Total:  0.07887387275695801 seconds\n",
      "[UG] neg_f:  0.079 s\n",
      "[UG] pos_f:  0.096 s\n",
      "[UG] applying forces:  0.026000000000000002 s\n"
     ]
    },
    {
     "name": "stderr",
     "output_type": "stream",
     "text": [
      "Gradient Descent error: 110.07114 grad_norm: 6.26163e-01:  70%|███████   | 176/250 [01:12<00:26,  2.84it/s]"
     ]
    },
    {
     "name": "stdout",
     "output_type": "stream",
     "text": [
      "[GRID] start\n",
      "[GRID] Init:  0.49853515625 ms\n",
      "[GRID] Indices:  0.0 ms\n",
      "[GRID] Counts:  0.0 ms\n",
      "[GRID] Starts, counts:  0.0 ms\n",
      "[GRID] Starts, counts:  0.0 ms\n",
      "[GRID] Average positions:  43.430419921875 ms\n",
      "[GRID] Max distances:  0.9990234375 ms\n",
      "[GRID] new points:  0.0 ms\n",
      "[UG] Grid generation:  0.045427560806274414 seconds\n",
      "[UG] Mem alloc:  0.0 seconds\n",
      "[UG] Mem copy:  0.0009980201721191406 seconds\n",
      "[UG] Run:  0.0004982948303222656 seconds\n",
      "[UG] Copy back:  0.053414344787597656 seconds\n",
      "[UG] Total:  0.10033822059631348 seconds\n",
      "[UG] neg_f:  0.101 s\n",
      "[UG] pos_f:  0.088 s\n"
     ]
    },
    {
     "name": "stderr",
     "output_type": "stream",
     "text": [
      "Gradient Descent error: 110.02471 grad_norm: 6.24635e-01:  71%|███████   | 177/250 [01:13<00:26,  2.81it/s]"
     ]
    },
    {
     "name": "stdout",
     "output_type": "stream",
     "text": [
      "[UG] applying forces:  0.019 s\n",
      "[GRID] start\n",
      "[GRID] Init:  0.0 ms\n",
      "[GRID] Indices:  0.0 ms\n",
      "[GRID] Counts:  0.5 ms\n",
      "[GRID] Starts, counts:  0.0 ms\n",
      "[GRID] Starts, counts:  0.0 ms\n",
      "[GRID] Average positions:  26.457275390625 ms\n",
      "[GRID] Max distances:  0.9990234375 ms\n",
      "[GRID] new points:  0.0 ms\n",
      "[UG] Grid generation:  0.02845478057861328 seconds\n",
      "[UG] Mem alloc:  0.0 seconds\n",
      "[UG] Mem copy:  0.0004990100860595703 seconds\n",
      "[UG] Run:  0.000499725341796875 seconds\n",
      "[UG] Copy back:  0.016472339630126953 seconds\n",
      "[UG] Total:  0.04592585563659668 seconds\n",
      "[UG] neg_f:  0.046 s\n"
     ]
    }
   ],
   "source": [
    "import os\n",
    "import traceback\n",
    "import numpy as np\n",
    "import time\n",
    "#from cuda import cuda, nvrtc\n",
    "\n",
    "from hyperbolicTSNE.util import find_last_embedding\n",
    "from hyperbolicTSNE.visualization import plot_poincare, animate\n",
    "from hyperbolicTSNE import load_data, Datasets, SequentialOptimizer, initialization, HyperbolicTSNE\n",
    "\n",
    "data_home = \"datasets\"\n",
    "log_path = \"temp/poincaregpu/\"  # path for saving embedding snapshots\n",
    "\n",
    "only_animate = False\n",
    "seed = 42\n",
    "dataset = Datasets.PLANARIA  # the Datasets handler provides access to several data sets used throughout the repository\n",
    "num_points = 20000  # we use a subset for demonstration purposes, full MNIST has N=70000\n",
    "perp = 15  # we use a perplexity of 30 in this example\n",
    "\n",
    "dataX, dataLabels, D, V, _ = load_data(\n",
    "    dataset, \n",
    "    data_home=data_home, \n",
    "    random_state=seed, \n",
    "    to_return=\"X_labels_D_V\",\n",
    "    hd_params={\"perplexity\": perp}, \n",
    "    sample=num_points, \n",
    "    knn_method=\"hnswlib\"  # we use an approximation of high-dimensional neighbors to speed up computations\n",
    ")\n",
    "\n",
    "print(\"Data loaded\")\n",
    "\n",
    "exaggeration_factor = 12  # Just like regular t-SNE, we use early exaggeration with a factor of 12\n",
    "learning_rate = (dataX.shape[0] * 1) / (exaggeration_factor * 1000)  # We adjust the learning rate to the hyperbolic setting\n",
    "ex_iterations = 250  # The embedder is to execute 250 iterations of early exaggeration, ...\n",
    "main_iterations = 750  # ... followed by 750 iterations of non-exaggerated gradient descent.\n",
    "\n",
    "\n",
    "\n",
    "\n",
    "\n",
    "\n",
    "\n",
    "\n",
    "\n",
    "\n",
    "\n",
    "\n",
    "# ============= RUNNING EXACT GPU =============\n",
    "\n",
    "\n",
    "\n",
    "\n",
    "\n",
    "\n",
    "\n",
    "opt_config = dict(\n",
    "    learning_rate_ex=learning_rate,  # learning rate during exaggeration\n",
    "    learning_rate_main=learning_rate,  # learning rate main optimization \n",
    "    exaggeration=exaggeration_factor, \n",
    "    exaggeration_its=ex_iterations, \n",
    "    gradientDescent_its=main_iterations, \n",
    "    vanilla=False,  # if vanilla is set to true, regular gradient descent without any modifications is performed; for  vanilla set to false, the optimization makes use of momentum and gains\n",
    "    momentum_ex=0.5,  # Set momentum during early exaggeration to 0.5\n",
    "    momentum=0.8,  # Set momentum during non-exaggerated gradient descent to 0.8\n",
    "    exact=False,  # To use the quad tree for acceleration (like Barnes-Hut in the Euclidean setting) or to evaluate the gradient exactly\n",
    "    area_split=False,  # To build or not build the polar quad tree based on equal area splitting or - alternatively - on equal length splitting\n",
    "    n_iter_check=10,  # Needed for early stopping criterion\n",
    "    size_tol=0.999  # Size of the embedding to be used as early stopping criterion\n",
    ")\n",
    "\n",
    "opt_params = SequentialOptimizer.sequence_poincare(**opt_config)\n",
    "\n",
    "print(\"Sequence defined\")\n",
    "\n",
    "# Start: configure logging\n",
    "logging_dict = {\n",
    "    \"log_path\": log_path\n",
    "}\n",
    "opt_params[\"logging_dict\"] = logging_dict\n",
    "\n",
    "log_path = opt_params[\"logging_dict\"][\"log_path\"]\n",
    "# Delete old log path\n",
    "if os.path.exists(log_path) and not only_animate:\n",
    "    import shutil\n",
    "    shutil.rmtree(log_path)\n",
    "# End: logging\n",
    "\n",
    "# Compute an initial embedding of the data via PCA\n",
    "X_embedded = initialization(\n",
    "    n_samples=dataX.shape[0],\n",
    "    n_components=2,\n",
    "    X=dataX,\n",
    "    random_state=seed,\n",
    "    method=\"pca\"\n",
    ")\n",
    "print(X_embedded)\n",
    "\n",
    "# Initialize the embedder\n",
    "htsne = HyperbolicTSNE(\n",
    "    init=X_embedded, \n",
    "    n_components=2, \n",
    "    metric=\"precomputed\", \n",
    "    verbose=True, \n",
    "    opt_method=SequentialOptimizer, \n",
    "    opt_params=opt_params\n",
    ")\n",
    "\n",
    "X_embedded = initialization(\n",
    "    n_samples=dataX.shape[0],\n",
    "    n_components=2,\n",
    "    X=dataX,\n",
    "    random_state=seed,\n",
    "    method=\"pca\"\n",
    ")\n",
    "print(X_embedded)\n",
    "\n",
    "start_time = time.time()\n",
    "\n",
    "try:\n",
    "    hyperbolicEmbedding = htsne.fit_transform((D, V))\n",
    "except ValueError:\n",
    "    print(\"Error!\")\n",
    "    hyperbolicEmbedding = find_last_embedding(log_path)\n",
    "    traceback.print_exc()\n",
    "\n",
    "end_time = time.time()\n",
    "\n",
    "execution_time = end_time - start_time\n",
    "print(\"Execution time:\", execution_time, \"seconds\")\n",
    "\n",
    "# Create a rendering of the embedding and save it to a file\n",
    "if not os.path.exists(\"results\"):\n",
    "    os.mkdir(\"results\")\n",
    "fig = plot_poincare(hyperbolicEmbedding, dataLabels)\n",
    "fig.show()\n",
    "fig.savefig(f\"results/{dataset.name}-inexact.png\")\n",
    "\n",
    "\n",
    "\n",
    "\n",
    "\n",
    "\n",
    "\n",
    "\n",
    "\n",
    "# ============= RUNNING EXACT CPU =============\n",
    "\n",
    "\n",
    "\n",
    "\n",
    "\n",
    "\n",
    "opt_config = dict(\n",
    "    learning_rate_ex=learning_rate,  # learning rate during exaggeration\n",
    "    learning_rate_main=learning_rate,  # learning rate main optimization \n",
    "    exaggeration=exaggeration_factor, \n",
    "    exaggeration_its=ex_iterations, \n",
    "    gradientDescent_its=main_iterations, \n",
    "    vanilla=False,  # if vanilla is set to true, regular gradient descent without any modifications is performed; for  vanilla set to false, the optimization makes use of momentum and gains\n",
    "    momentum_ex=0.5,  # Set momentum during early exaggeration to 0.5\n",
    "    momentum=0.8,  # Set momentum during non-exaggerated gradient descent to 0.8\n",
    "    exact=True,  # To use the quad tree for acceleration (like Barnes-Hut in the Euclidean setting) or to evaluate the gradient exactly\n",
    "    area_split=False,  # To build or not build the polar quad tree based on equal area splitting or - alternatively - on equal length splitting\n",
    "    n_iter_check=10,  # Needed for early stopping criterion\n",
    "    size_tol=0.999  # Size of the embedding to be used as early stopping criterion\n",
    ")\n",
    "\n",
    "opt_params = SequentialOptimizer.sequence_poincare(**opt_config)\n",
    "\n",
    "print(\"Sequence defined\")\n",
    "\n",
    "log_path = \"temp/poincarecpu/\"  # path for saving embedding snapshots\n",
    "\n",
    "# Start: configure logging\n",
    "logging_dict = {\n",
    "    \"log_path\": log_path\n",
    "}\n",
    "opt_params[\"logging_dict\"] = logging_dict\n",
    "\n",
    "log_path = opt_params[\"logging_dict\"][\"log_path\"]\n",
    "# Delete old log path\n",
    "if os.path.exists(log_path) and not only_animate:\n",
    "    import shutil\n",
    "    shutil.rmtree(log_path)\n",
    "# End: logging\n",
    "\n",
    "# Compute an initial embedding of the data via PCA\n",
    "X_embedded = initialization(\n",
    "    n_samples=dataX.shape[0],\n",
    "    n_components=2,\n",
    "    X=dataX,\n",
    "    random_state=seed,\n",
    "    method=\"pca\"\n",
    ")\n",
    "\n",
    "# Initialize the embedder\n",
    "htsne = HyperbolicTSNE(\n",
    "    init=X_embedded, \n",
    "    n_components=2, \n",
    "    metric=\"precomputed\", \n",
    "    verbose=True, \n",
    "    opt_method=SequentialOptimizer, \n",
    "    opt_params=opt_params\n",
    ")\n",
    "\n",
    "start_time = time.time()\n",
    "\n",
    "try:\n",
    "    #hyperbolicEmbedding = htsne.fit_transform((D, V))\n",
    "    print(\"would run exact\")\n",
    "except ValueError:\n",
    "    print(\"Error!\")\n",
    "    hyperbolicEmbedding = find_last_embedding(log_path)\n",
    "    traceback.print_exc()\n",
    "\n",
    "end_time = time.time()\n",
    "\n",
    "execution_time = end_time - start_time\n",
    "print(\"Execution time:\", execution_time, \"seconds\")\n",
    "\n",
    "# Create a rendering of the embedding and save it to a file\n",
    "if not os.path.exists(\"results\"):\n",
    "    os.mkdir(\"results\")\n",
    "fig = plot_poincare(hyperbolicEmbedding, dataLabels)\n",
    "fig.show()\n",
    "fig.savefig(f\"results/{dataset.name}-exact.png\")"
   ]
  },
  {
   "cell_type": "code",
   "execution_count": null,
   "metadata": {},
   "outputs": [],
   "source": []
  },
  {
   "cell_type": "code",
   "execution_count": null,
   "metadata": {},
   "outputs": [],
   "source": []
  }
 ],
 "metadata": {
  "kernelspec": {
   "display_name": "htsne",
   "language": "python",
   "name": "python3"
  },
  "language_info": {
   "codemirror_mode": {
    "name": "ipython",
    "version": 3
   },
   "file_extension": ".py",
   "mimetype": "text/x-python",
   "name": "python",
   "nbconvert_exporter": "python",
   "pygments_lexer": "ipython3",
   "version": "3.9.16"
  }
 },
 "nbformat": 4,
 "nbformat_minor": 2
}
