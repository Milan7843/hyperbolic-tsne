{
 "cells": [
  {
   "cell_type": "code",
   "execution_count": 2,
   "metadata": {},
   "outputs": [
    {
     "name": "stdout",
     "output_type": "stream",
     "text": [
      "Data loaded\n",
      "Please note that `empty_sequence` uses the KL divergence with Barnes-Hut approximation (angle=0.5) by default.\n",
      "Sequence defined\n",
      "[HyperbolicTSNE] Received iterable as input. It should have len=2 and contain (D=None, V=None)\n",
      "[hd_mat] Warning: There is nothing to do with given parameters. Returning given D and V\n",
      "Running Gradient Descent, Verbosity: True\n",
      "[gradient_descent] Warning!: because of logging, the cf will be computed at every iteration\n"
     ]
    },
    {
     "name": "stderr",
     "output_type": "stream",
     "text": [
      "Gradient Descent:   0%|          | 0/250 [00:00<?, ?it/s]"
     ]
    },
    {
     "name": "stdout",
     "output_type": "stream",
     "text": [
      "Mem alloc:  0.0004980564117431641 seconds\n",
      "Mem copy:  0.0004990100860595703 seconds\n",
      "Run:  0.0 seconds\n"
     ]
    },
    {
     "name": "stderr",
     "output_type": "stream",
     "text": [
      "Gradient Descent error: 93.98324 grad_norm: 4.27717e-01:   0%|          | 1/250 [00:00<01:49,  2.28it/s]"
     ]
    },
    {
     "name": "stdout",
     "output_type": "stream",
     "text": [
      "Copy back:  0.28504419326782227 seconds\n",
      "Total:  0.28653979301452637 seconds\n",
      "sumQ:  99999984.56039003\n",
      "neg_f took  0.28700000000000003 s\n",
      "pos_f took  0.048 s\n",
      "applying forces took  0.01 s\n",
      "Mem alloc:  0.0004982948303222656 seconds\n",
      "Mem copy:  0.0004987716674804688 seconds\n",
      "Run:  0.0 seconds\n"
     ]
    },
    {
     "name": "stderr",
     "output_type": "stream",
     "text": [
      "Gradient Descent error: 93.98394 grad_norm: 7.99184e-01:   1%|          | 2/250 [00:00<01:34,  2.61it/s]"
     ]
    },
    {
     "name": "stdout",
     "output_type": "stream",
     "text": [
      "Copy back:  0.15375375747680664 seconds\n",
      "Total:  0.15475082397460938 seconds\n",
      "sumQ:  99993539.9097596\n",
      "neg_f took  0.155 s\n",
      "pos_f took  0.062 s\n",
      "applying forces took  0.009000000000000001 s\n",
      "Mem alloc:  0.0 seconds\n",
      "Mem copy:  0.0 seconds\n",
      "Run:  0.0 seconds\n",
      "Copy back:  0.14228200912475586 seconds\n",
      "Total:  0.14278054237365723 seconds\n",
      "sumQ:  99995730.6212566\n",
      "neg_f took  0.14400000000000002 s\n",
      "pos_f took  0.051000000000000004 s\n",
      "applying forces took  0.01 s\n"
     ]
    },
    {
     "name": "stderr",
     "output_type": "stream",
     "text": [
      "Gradient Descent error: 93.98417 grad_norm: 8.04326e-01:   1%|          | 3/250 [00:01<01:25,  2.88it/s]"
     ]
    },
    {
     "name": "stdout",
     "output_type": "stream",
     "text": [
      "Mem alloc:  0.0 seconds\n",
      "Mem copy:  0.0004982948303222656 seconds\n",
      "Run:  0.0 seconds\n",
      "Copy back:  0.14328360557556152 seconds\n",
      "Total:  0.14478039741516113 seconds\n",
      "sumQ:  99995607.36661272\n",
      "neg_f took  0.14400000000000002 s\n",
      "pos_f took  0.052000000000000005 s\n",
      "applying forces took  0.01 s\n"
     ]
    },
    {
     "name": "stderr",
     "output_type": "stream",
     "text": [
      "Gradient Descent error: 93.98363 grad_norm: 8.09019e-01:   2%|▏         | 4/250 [00:01<01:20,  3.05it/s]"
     ]
    },
    {
     "name": "stdout",
     "output_type": "stream",
     "text": [
      "Mem alloc:  0.0004987716674804688 seconds\n",
      "Mem copy:  0.0004992485046386719 seconds\n",
      "Run:  0.0 seconds\n",
      "Copy back:  0.14327025413513184 seconds\n",
      "Total:  0.14426827430725098 seconds\n",
      "sumQ:  99994792.06852102\n",
      "neg_f took  0.14400000000000002 s\n"
     ]
    },
    {
     "name": "stderr",
     "output_type": "stream",
     "text": [
      "Gradient Descent error: 93.98595 grad_norm: 8.36047e-01:   2%|▏         | 5/250 [00:01<01:18,  3.10it/s]"
     ]
    },
    {
     "name": "stdout",
     "output_type": "stream",
     "text": [
      "pos_f took  0.062 s\n",
      "applying forces took  0.008 s\n",
      "Mem alloc:  0.0 seconds\n",
      "Mem copy:  0.0 seconds\n",
      "Run:  0.0 seconds\n"
     ]
    },
    {
     "name": "stderr",
     "output_type": "stream",
     "text": [
      "Gradient Descent error: 93.98456 grad_norm: 8.11884e-01:   2%|▏         | 6/250 [00:02<01:16,  3.17it/s]"
     ]
    },
    {
     "name": "stdout",
     "output_type": "stream",
     "text": [
      "Copy back:  0.1422719955444336 seconds\n",
      "Total:  0.14276981353759766 seconds\n",
      "sumQ:  99994695.49857605\n",
      "neg_f took  0.14400000000000002 s\n",
      "pos_f took  0.056 s\n",
      "applying forces took  0.01 s\n",
      "Mem alloc:  0.0004990100860595703 seconds\n",
      "Mem copy:  0.0004987716674804688 seconds\n",
      "Run:  0.0 seconds\n"
     ]
    },
    {
     "name": "stderr",
     "output_type": "stream",
     "text": [
      "Gradient Descent error: 93.98503 grad_norm: 8.26683e-01:   3%|▎         | 7/250 [00:02<01:15,  3.22it/s]"
     ]
    },
    {
     "name": "stdout",
     "output_type": "stream",
     "text": [
      "Copy back:  0.1422717571258545 seconds\n",
      "Total:  0.14326953887939453 seconds\n",
      "sumQ:  99995178.14199471\n",
      "neg_f took  0.14300000000000002 s\n",
      "pos_f took  0.054 s\n",
      "applying forces took  0.008 s\n",
      "Mem alloc:  0.0004994869232177734 seconds\n",
      "Mem copy:  0.0004990100860595703 seconds\n",
      "Run:  0.0 seconds\n"
     ]
    },
    {
     "name": "stderr",
     "output_type": "stream",
     "text": [
      "Gradient Descent error: 93.98411 grad_norm: 8.23078e-01:   3%|▎         | 8/250 [00:02<01:14,  3.24it/s]"
     ]
    },
    {
     "name": "stdout",
     "output_type": "stream",
     "text": [
      "Copy back:  0.1437833309173584 seconds\n",
      "Total:  0.14478182792663574 seconds\n",
      "sumQ:  99994278.9342161\n",
      "neg_f took  0.145 s\n",
      "pos_f took  0.059000000000000004 s\n",
      "applying forces took  0.008 s\n",
      "Mem alloc:  0.0 seconds\n",
      "Mem copy:  0.0004987716674804688 seconds\n",
      "Run:  0.0 seconds\n"
     ]
    },
    {
     "name": "stderr",
     "output_type": "stream",
     "text": [
      "Gradient Descent error: 93.98605 grad_norm: 8.10712e-01:   4%|▎         | 9/250 [00:02<01:14,  3.23it/s]"
     ]
    },
    {
     "name": "stdout",
     "output_type": "stream",
     "text": [
      "Copy back:  0.14476752281188965 seconds\n",
      "Total:  0.1457655429840088 seconds\n",
      "sumQ:  99993625.15695336\n",
      "neg_f took  0.146 s\n",
      "pos_f took  0.056 s\n",
      "applying forces took  0.008 s\n",
      "Mem alloc:  0.0004987716674804688 seconds\n",
      "Mem copy:  0.0 seconds\n",
      "Run:  0.0004992485046386719 seconds\n",
      "Copy back:  0.14526677131652832 seconds\n",
      "Total:  0.14626479148864746 seconds\n",
      "sumQ:  99992888.51972237\n",
      "neg_f took  0.147 s\n"
     ]
    },
    {
     "name": "stderr",
     "output_type": "stream",
     "text": [
      "Gradient Descent error: 93.98465 grad_norm: 8.21790e-01:   4%|▍         | 10/250 [00:03<01:26,  2.77it/s]"
     ]
    },
    {
     "name": "stdout",
     "output_type": "stream",
     "text": [
      "pos_f took  0.216 s\n",
      "applying forces took  0.009000000000000001 s\n",
      "Mem alloc:  0.000499725341796875 seconds\n",
      "Mem copy:  0.0 seconds\n",
      "Run:  0.0 seconds\n"
     ]
    },
    {
     "name": "stderr",
     "output_type": "stream",
     "text": [
      "Gradient Descent error: 93.98548 grad_norm: 8.10138e-01:   4%|▍         | 11/250 [00:03<01:23,  2.86it/s]"
     ]
    },
    {
     "name": "stdout",
     "output_type": "stream",
     "text": [
      "Copy back:  0.14576363563537598 seconds\n",
      "Total:  0.14676237106323242 seconds\n",
      "sumQ:  99992812.73274802\n",
      "neg_f took  0.147 s\n",
      "pos_f took  0.059000000000000004 s\n",
      "applying forces took  0.012 s\n",
      "Mem alloc:  0.0004987716674804688 seconds\n",
      "Mem copy:  0.0004978179931640625 seconds\n",
      "Run:  0.0 seconds\n"
     ]
    },
    {
     "name": "stderr",
     "output_type": "stream",
     "text": [
      "Gradient Descent error: 93.98427 grad_norm: 8.18791e-01:   5%|▍         | 12/250 [00:04<01:19,  2.98it/s]"
     ]
    },
    {
     "name": "stdout",
     "output_type": "stream",
     "text": [
      "Copy back:  0.14976000785827637 seconds\n",
      "Total:  0.1507565975189209 seconds\n",
      "sumQ:  99991633.76549634\n",
      "neg_f took  0.151 s\n",
      "pos_f took  0.054 s\n",
      "applying forces took  0.009000000000000001 s\n",
      "Mem alloc:  0.0004990100860595703 seconds\n",
      "Mem copy:  0.0 seconds\n",
      "Run:  0.0004987716674804688 seconds\n"
     ]
    },
    {
     "name": "stderr",
     "output_type": "stream",
     "text": [
      "Gradient Descent error: 93.98635 grad_norm: 8.11961e-01:   5%|▌         | 13/250 [00:04<01:18,  3.00it/s]"
     ]
    },
    {
     "name": "stdout",
     "output_type": "stream",
     "text": [
      "Copy back:  0.1612415313720703 seconds\n",
      "Total:  0.16223931312561035 seconds\n",
      "sumQ:  99990441.6922695\n",
      "neg_f took  0.162 s\n",
      "pos_f took  0.061 s\n",
      "applying forces took  0.008 s\n",
      "Mem alloc:  0.0004985332489013672 seconds\n",
      "Mem copy:  0.0005006790161132812 seconds\n",
      "Run:  0.0 seconds\n"
     ]
    },
    {
     "name": "stderr",
     "output_type": "stream",
     "text": [
      "Gradient Descent error: 93.98470 grad_norm: 8.21171e-01:   6%|▌         | 14/250 [00:04<01:18,  3.00it/s]"
     ]
    },
    {
     "name": "stdout",
     "output_type": "stream",
     "text": [
      "Copy back:  0.16074013710021973 seconds\n",
      "Total:  0.16223859786987305 seconds\n",
      "sumQ:  99989401.99909061\n",
      "neg_f took  0.162 s\n",
      "pos_f took  0.061 s\n",
      "applying forces took  0.009000000000000001 s\n",
      "Mem alloc:  0.0004992485046386719 seconds\n",
      "Mem copy:  0.0004987716674804688 seconds\n",
      "Run:  0.0 seconds\n"
     ]
    },
    {
     "name": "stderr",
     "output_type": "stream",
     "text": [
      "Gradient Descent error: 93.98577 grad_norm: 8.18223e-01:   6%|▌         | 15/250 [00:04<01:17,  3.05it/s]"
     ]
    },
    {
     "name": "stdout",
     "output_type": "stream",
     "text": [
      "Copy back:  0.15025830268859863 seconds\n",
      "Total:  0.15125632286071777 seconds\n",
      "sumQ:  99988903.19930716\n",
      "neg_f took  0.152 s\n",
      "pos_f took  0.057 s\n",
      "applying forces took  0.009000000000000001 s\n",
      "Mem alloc:  0.0 seconds\n",
      "Mem copy:  0.0004992485046386719 seconds\n",
      "Run:  0.0 seconds\n"
     ]
    },
    {
     "name": "stderr",
     "output_type": "stream",
     "text": [
      "Gradient Descent error: 93.98426 grad_norm: 8.26195e-01:   6%|▋         | 16/250 [00:05<01:15,  3.10it/s]"
     ]
    },
    {
     "name": "stdout",
     "output_type": "stream",
     "text": [
      "Copy back:  0.1492612361907959 seconds\n",
      "Total:  0.14976048469543457 seconds\n",
      "sumQ:  99987417.34894642\n",
      "neg_f took  0.15 s\n",
      "pos_f took  0.052000000000000005 s\n",
      "applying forces took  0.01 s\n",
      "Mem alloc:  0.0 seconds\n",
      "Mem copy:  0.0004990100860595703 seconds\n",
      "Run:  0.0 seconds\n"
     ]
    },
    {
     "name": "stderr",
     "output_type": "stream",
     "text": [
      "Gradient Descent error: 93.98644 grad_norm: 8.21489e-01:   7%|▋         | 17/250 [00:05<01:13,  3.18it/s]"
     ]
    },
    {
     "name": "stdout",
     "output_type": "stream",
     "text": [
      "Copy back:  0.14427876472473145 seconds\n",
      "Total:  0.1452770233154297 seconds\n",
      "sumQ:  99985820.24114357\n",
      "neg_f took  0.146 s\n",
      "pos_f took  0.053 s\n",
      "applying forces took  0.009000000000000001 s\n",
      "Mem alloc:  0.0004994869232177734 seconds\n",
      "Mem copy:  0.0 seconds\n",
      "Run:  0.0 seconds\n"
     ]
    },
    {
     "name": "stderr",
     "output_type": "stream",
     "text": [
      "Gradient Descent error: 93.98460 grad_norm: 8.28737e-01:   7%|▋         | 18/250 [00:05<01:12,  3.19it/s]"
     ]
    },
    {
     "name": "stdout",
     "output_type": "stream",
     "text": [
      "Copy back:  0.14478135108947754 seconds\n",
      "Total:  0.1452808380126953 seconds\n",
      "sumQ:  99984366.54333031\n",
      "neg_f took  0.145 s\n",
      "pos_f took  0.057 s\n",
      "applying forces took  0.009000000000000001 s\n",
      "Mem alloc:  0.0 seconds\n",
      "Mem copy:  0.0 seconds\n",
      "Run:  0.0 seconds\n"
     ]
    },
    {
     "name": "stderr",
     "output_type": "stream",
     "text": [
      "Gradient Descent error: 93.98572 grad_norm: 8.24735e-01:   8%|▊         | 19/250 [00:06<01:11,  3.22it/s]"
     ]
    },
    {
     "name": "stdout",
     "output_type": "stream",
     "text": [
      "Copy back:  0.14327049255371094 seconds\n",
      "Total:  0.1437690258026123 seconds\n",
      "sumQ:  99983543.87077278\n",
      "neg_f took  0.145 s\n",
      "pos_f took  0.05 s\n",
      "applying forces took  0.01 s\n",
      "Mem alloc:  0.0004982948303222656 seconds\n",
      "Mem copy:  0.0004992485046386719 seconds\n",
      "Run:  0.0 seconds\n"
     ]
    },
    {
     "name": "stderr",
     "output_type": "stream",
     "text": [
      "Gradient Descent error: 93.98400 grad_norm: 8.29832e-01:   8%|▊         | 20/250 [00:06<01:11,  3.22it/s]"
     ]
    },
    {
     "name": "stdout",
     "output_type": "stream",
     "text": [
      "Copy back:  0.15175652503967285 seconds\n",
      "Total:  0.1527540683746338 seconds\n",
      "sumQ:  99981590.89442219\n",
      "neg_f took  0.153 s\n",
      "pos_f took  0.054 s\n",
      "applying forces took  0.01 s\n",
      "Mem alloc:  0.0004978179931640625 seconds\n",
      "Mem copy:  0.0 seconds\n",
      "Run:  0.0 seconds\n"
     ]
    },
    {
     "name": "stderr",
     "output_type": "stream",
     "text": [
      "Gradient Descent error: 93.98625 grad_norm: 8.25344e-01:   8%|▊         | 21/250 [00:06<01:10,  3.24it/s]"
     ]
    },
    {
     "name": "stdout",
     "output_type": "stream",
     "text": [
      "Copy back:  0.14327001571655273 seconds\n",
      "Total:  0.1437678337097168 seconds\n",
      "sumQ:  99979582.19875188\n",
      "neg_f took  0.14400000000000002 s\n",
      "pos_f took  0.054 s\n",
      "applying forces took  0.009000000000000001 s\n",
      "Mem alloc:  0.000499725341796875 seconds\n",
      "Mem copy:  0.0004987716674804688 seconds\n",
      "Run:  0.0 seconds\n"
     ]
    },
    {
     "name": "stderr",
     "output_type": "stream",
     "text": [
      "Gradient Descent error: 93.98421 grad_norm: 8.31699e-01:   9%|▉         | 22/250 [00:07<01:12,  3.14it/s]"
     ]
    },
    {
     "name": "stdout",
     "output_type": "stream",
     "text": [
      "Copy back:  0.14676427841186523 seconds\n",
      "Total:  0.14826226234436035 seconds\n",
      "sumQ:  99977718.97614436\n",
      "neg_f took  0.149 s\n",
      "pos_f took  0.084 s\n",
      "applying forces took  0.009000000000000001 s\n",
      "Mem alloc:  0.0004987716674804688 seconds\n",
      "Mem copy:  0.0004992485046386719 seconds\n",
      "Run:  0.0 seconds\n",
      "Copy back:  0.15025854110717773 seconds\n",
      "Total:  0.15125656127929688 seconds\n",
      "sumQ:  99976455.98975065\n",
      "neg_f took  0.151 s\n"
     ]
    },
    {
     "name": "stderr",
     "output_type": "stream",
     "text": [
      "Gradient Descent error: 93.98541 grad_norm: 8.29608e-01:   9%|▉         | 23/250 [00:07<01:12,  3.13it/s]"
     ]
    },
    {
     "name": "stdout",
     "output_type": "stream",
     "text": [
      "pos_f took  0.054 s\n",
      "applying forces took  0.011 s\n",
      "Mem alloc:  0.0 seconds\n",
      "Mem copy:  0.0 seconds\n",
      "Run:  0.0 seconds\n"
     ]
    },
    {
     "name": "stderr",
     "output_type": "stream",
     "text": [
      "Gradient Descent error: 93.98349 grad_norm: 8.31972e-01:  10%|▉         | 24/250 [00:07<01:11,  3.18it/s]"
     ]
    },
    {
     "name": "stdout",
     "output_type": "stream",
     "text": [
      "Copy back:  0.145766019821167 seconds\n",
      "Total:  0.14676523208618164 seconds\n",
      "sumQ:  99974070.58134805\n",
      "neg_f took  0.147 s\n",
      "pos_f took  0.054 s\n",
      "applying forces took  0.008 s\n",
      "Mem alloc:  0.0005004405975341797 seconds\n",
      "Mem copy:  0.0 seconds\n",
      "Run:  0.0004982948303222656 seconds\n"
     ]
    },
    {
     "name": "stderr",
     "output_type": "stream",
     "text": [
      "Gradient Descent error: 93.98573 grad_norm: 8.31462e-01:  10%|█         | 25/250 [00:08<01:10,  3.18it/s]"
     ]
    },
    {
     "name": "stdout",
     "output_type": "stream",
     "text": [
      "Copy back:  0.14428424835205078 seconds\n",
      "Total:  0.14528298377990723 seconds\n",
      "sumQ:  99971595.23243111\n",
      "neg_f took  0.146 s\n",
      "pos_f took  0.057 s\n",
      "applying forces took  0.009000000000000001 s\n",
      "Mem alloc:  0.0004999637603759766 seconds\n",
      "Mem copy:  0.0004985332489013672 seconds\n",
      "Run:  0.0 seconds\n"
     ]
    },
    {
     "name": "stderr",
     "output_type": "stream",
     "text": [
      "Gradient Descent error: 93.98352 grad_norm: 8.34434e-01:  10%|█         | 26/250 [00:08<01:09,  3.21it/s]"
     ]
    },
    {
     "name": "stdout",
     "output_type": "stream",
     "text": [
      "Copy back:  0.14476680755615234 seconds\n",
      "Total:  0.1457653045654297 seconds\n",
      "sumQ:  99969263.9005517\n",
      "neg_f took  0.146 s\n",
      "pos_f took  0.052000000000000005 s\n",
      "applying forces took  0.009000000000000001 s\n",
      "Mem alloc:  0.0004999637603759766 seconds\n",
      "Mem copy:  0.0 seconds\n",
      "Run:  0.0 seconds\n"
     ]
    },
    {
     "name": "stderr",
     "output_type": "stream",
     "text": [
      "Gradient Descent error: 93.98478 grad_norm: 8.31757e-01:  11%|█         | 27/250 [00:08<01:08,  3.24it/s]"
     ]
    },
    {
     "name": "stdout",
     "output_type": "stream",
     "text": [
      "Copy back:  0.14478087425231934 seconds\n",
      "Total:  0.14577889442443848 seconds\n",
      "sumQ:  99967617.34767213\n",
      "neg_f took  0.146 s\n",
      "pos_f took  0.054 s\n",
      "applying forces took  0.009000000000000001 s\n",
      "Mem alloc:  0.0004992485046386719 seconds\n",
      "Mem copy:  0.0 seconds\n",
      "Run:  0.0 seconds\n"
     ]
    },
    {
     "name": "stderr",
     "output_type": "stream",
     "text": [
      "Gradient Descent error: 93.98269 grad_norm: 8.34961e-01:  11%|█         | 28/250 [00:09<01:11,  3.12it/s]"
     ]
    },
    {
     "name": "stdout",
     "output_type": "stream",
     "text": [
      "Copy back:  0.14526891708374023 seconds\n",
      "Total:  0.14626741409301758 seconds\n",
      "sumQ:  99964729.87614238\n",
      "neg_f took  0.147 s\n",
      "pos_f took  0.08 s\n",
      "applying forces took  0.008 s\n",
      "Mem alloc:  0.0004990100860595703 seconds\n",
      "Mem copy:  0.0004992485046386719 seconds\n",
      "Run:  0.0 seconds\n",
      "Copy back:  0.1527540683746338 seconds\n",
      "Total:  0.15375232696533203 seconds\n",
      "sumQ:  99961817.50617234\n",
      "neg_f took  0.153 s\n"
     ]
    },
    {
     "name": "stderr",
     "output_type": "stream",
     "text": [
      "Gradient Descent error: 93.98499 grad_norm: 8.31211e-01:  12%|█▏        | 29/250 [00:09<01:10,  3.13it/s]"
     ]
    },
    {
     "name": "stdout",
     "output_type": "stream",
     "text": [
      "pos_f took  0.062 s\n",
      "applying forces took  0.009000000000000001 s\n",
      "Mem alloc:  0.000499725341796875 seconds\n",
      "Mem copy:  0.0 seconds\n",
      "Run:  0.0004982948303222656 seconds\n"
     ]
    },
    {
     "name": "stderr",
     "output_type": "stream",
     "text": [
      "Gradient Descent error: 93.98260 grad_norm: 8.34162e-01:  12%|█▏        | 30/250 [00:09<01:10,  3.14it/s]"
     ]
    },
    {
     "name": "stdout",
     "output_type": "stream",
     "text": [
      "Copy back:  0.1507573127746582 seconds\n",
      "Total:  0.15175533294677734 seconds\n",
      "sumQ:  99959088.71509849\n",
      "neg_f took  0.153 s\n",
      "pos_f took  0.061 s\n",
      "applying forces took  0.01 s\n",
      "Mem alloc:  0.0004990100860595703 seconds\n",
      "Mem copy:  0.0004990100860595703 seconds\n",
      "Run:  0.0 seconds\n"
     ]
    },
    {
     "name": "stderr",
     "output_type": "stream",
     "text": [
      "Gradient Descent error: 93.98391 grad_norm: 8.33265e-01:  12%|█▏        | 31/250 [00:10<01:09,  3.15it/s]"
     ]
    },
    {
     "name": "stdout",
     "output_type": "stream",
     "text": [
      "Copy back:  0.14676451683044434 seconds\n",
      "Total:  0.14826202392578125 seconds\n",
      "sumQ:  99957007.5680807\n",
      "neg_f took  0.148 s\n",
      "pos_f took  0.065 s\n",
      "applying forces took  0.009000000000000001 s\n",
      "Mem alloc:  0.0004990100860595703 seconds\n",
      "Mem copy:  0.0004994869232177734 seconds\n",
      "Run:  0.0004992485046386719 seconds\n"
     ]
    },
    {
     "name": "stderr",
     "output_type": "stream",
     "text": [
      "Gradient Descent error: 93.98167 grad_norm: 8.34651e-01:  13%|█▎        | 32/250 [00:10<01:08,  3.19it/s]"
     ]
    },
    {
     "name": "stdout",
     "output_type": "stream",
     "text": [
      "Copy back:  0.14476728439331055 seconds\n",
      "Total:  0.14626502990722656 seconds\n",
      "sumQ:  99953717.75015873\n",
      "neg_f took  0.147 s\n",
      "pos_f took  0.054 s\n",
      "applying forces took  0.009000000000000001 s\n",
      "Mem alloc:  0.0 seconds\n",
      "Mem copy:  0.000499725341796875 seconds\n",
      "Run:  0.0 seconds\n"
     ]
    },
    {
     "name": "stderr",
     "output_type": "stream",
     "text": [
      "Gradient Descent error: 93.98393 grad_norm: 8.31867e-01:  13%|█▎        | 33/250 [00:10<01:07,  3.22it/s]"
     ]
    },
    {
     "name": "stdout",
     "output_type": "stream",
     "text": [
      "Copy back:  0.14526677131652832 seconds\n",
      "Total:  0.1457664966583252 seconds\n",
      "sumQ:  99950391.61561765\n",
      "neg_f took  0.146 s\n",
      "pos_f took  0.055 s\n",
      "applying forces took  0.009000000000000001 s\n",
      "Mem alloc:  0.0 seconds\n",
      "Mem copy:  0.0 seconds\n",
      "Run:  0.0004990100860595703 seconds\n"
     ]
    },
    {
     "name": "stderr",
     "output_type": "stream",
     "text": [
      "Gradient Descent error: 93.98140 grad_norm: 8.36737e-01:  14%|█▎        | 34/250 [00:10<01:06,  3.23it/s]"
     ]
    },
    {
     "name": "stdout",
     "output_type": "stream",
     "text": [
      "Copy back:  0.14478135108947754 seconds\n",
      "Total:  0.14577913284301758 seconds\n",
      "sumQ:  99947197.34496883\n",
      "neg_f took  0.146 s\n",
      "pos_f took  0.055 s\n",
      "applying forces took  0.009000000000000001 s\n",
      "Mem alloc:  0.0004985332489013672 seconds\n",
      "Mem copy:  0.0 seconds\n",
      "Run:  0.0004999637603759766 seconds\n"
     ]
    },
    {
     "name": "stderr",
     "output_type": "stream",
     "text": [
      "Gradient Descent error: 93.98274 grad_norm: 8.33096e-01:  14%|█▍        | 35/250 [00:11<01:06,  3.23it/s]"
     ]
    },
    {
     "name": "stdout",
     "output_type": "stream",
     "text": [
      "Copy back:  0.14626479148864746 seconds\n",
      "Total:  0.1472632884979248 seconds\n",
      "sumQ:  99944589.74997023\n",
      "neg_f took  0.148 s\n",
      "pos_f took  0.057 s\n",
      "applying forces took  0.01 s\n",
      "Mem alloc:  0.0004985332489013672 seconds\n",
      "Mem copy:  0.0004994869232177734 seconds\n",
      "Run:  0.0 seconds\n"
     ]
    },
    {
     "name": "stderr",
     "output_type": "stream",
     "text": [
      "Gradient Descent error: 93.98037 grad_norm: 8.36830e-01:  14%|█▍        | 36/250 [00:11<01:05,  3.26it/s]"
     ]
    },
    {
     "name": "stdout",
     "output_type": "stream",
     "text": [
      "Copy back:  0.14528107643127441 seconds\n",
      "Total:  0.14627909660339355 seconds\n",
      "sumQ:  99940995.23168215\n",
      "neg_f took  0.147 s\n",
      "pos_f took  0.056 s\n",
      "applying forces took  0.008 s\n",
      "Mem alloc:  0.0004994869232177734 seconds\n",
      "Mem copy:  0.0004992485046386719 seconds\n",
      "Run:  0.0 seconds\n"
     ]
    },
    {
     "name": "stderr",
     "output_type": "stream",
     "text": [
      "Gradient Descent error: 93.98258 grad_norm: 8.33843e-01:  15%|█▍        | 37/250 [00:11<01:05,  3.24it/s]"
     ]
    },
    {
     "name": "stdout",
     "output_type": "stream",
     "text": [
      "Copy back:  0.14326977729797363 seconds\n",
      "Total:  0.14476823806762695 seconds\n",
      "sumQ:  99937275.87245294\n",
      "neg_f took  0.145 s\n",
      "pos_f took  0.052000000000000005 s\n",
      "applying forces took  0.009000000000000001 s\n",
      "Mem alloc:  0.0004994869232177734 seconds\n",
      "Mem copy:  0.0 seconds\n",
      "Run:  0.0 seconds\n",
      "Copy back:  0.14676451683044434 seconds\n",
      "Total:  0.1472640037536621 seconds\n",
      "sumQ:  99933500.08220293\n",
      "neg_f took  0.148 s\n"
     ]
    },
    {
     "ename": "KeyboardInterrupt",
     "evalue": "",
     "output_type": "error",
     "traceback": [
      "\u001b[1;31m---------------------------------------------------------------------------\u001b[0m",
      "\u001b[1;31mKeyboardInterrupt\u001b[0m                         Traceback (most recent call last)",
      "\u001b[1;31mKeyboardInterrupt\u001b[0m: "
     ]
    },
    {
     "name": "stderr",
     "output_type": "stream",
     "text": [
      "Exception ignored in: 'hyperbolicTSNE.hyperbolic_barnes_hut.tsne.exact_compute_gradient_gpu'\n",
      "Traceback (most recent call last):\n",
      "  File \"c:\\Git\\hyperbolic-tsne\\hyperbolicTSNE\\cost_functions_.py\", line 257, in _grad_exact\n",
      "    error = gradient(\n",
      "KeyboardInterrupt: \n",
      "Gradient Descent error: 0.00000 grad_norm: 0.00000e+00:  15%|█▌        | 38/250 [00:12<01:05,  3.23it/s] "
     ]
    },
    {
     "name": "stdout",
     "output_type": "stream",
     "text": [
      "Mem alloc:  0.0 seconds\n",
      "Mem copy:  0.0004994869232177734 seconds\n",
      "Run:  0.0 seconds\n",
      "Copy back:  0.14826154708862305 seconds\n",
      "Total:  0.1492607593536377 seconds\n",
      "sumQ:  99915943.26822549\n",
      "neg_f took  0.149 s\n",
      "pos_f took  0.058 s\n",
      "applying forces took  0.011 s\n"
     ]
    },
    {
     "name": "stderr",
     "output_type": "stream",
     "text": [
      "Gradient Descent error: 93.98161 grad_norm: 8.29350e-01:  16%|█▌        | 39/250 [00:12<01:05,  3.23it/s]"
     ]
    },
    {
     "name": "stdout",
     "output_type": "stream",
     "text": [
      "Mem alloc:  0.0004992485046386719 seconds\n",
      "Mem copy:  0.0004990100860595703 seconds\n",
      "Run:  0.0 seconds\n",
      "Copy back:  0.15077638626098633 seconds\n",
      "Total:  0.15177464485168457 seconds\n",
      "sumQ:  99924404.88121982\n",
      "neg_f took  0.152 s\n"
     ]
    },
    {
     "name": "stderr",
     "output_type": "stream",
     "text": [
      "Gradient Descent error: 93.98094 grad_norm: 8.27769e-01:  16%|█▌        | 40/250 [00:12<01:05,  3.21it/s]"
     ]
    },
    {
     "name": "stdout",
     "output_type": "stream",
     "text": [
      "pos_f took  0.055 s\n",
      "applying forces took  0.009000000000000001 s\n",
      "Mem alloc:  0.0 seconds\n",
      "Mem copy:  0.0004987716674804688 seconds\n",
      "Run:  0.0 seconds\n"
     ]
    },
    {
     "name": "stderr",
     "output_type": "stream",
     "text": [
      "Gradient Descent error: 93.97672 grad_norm: 8.45544e-01:  16%|█▋        | 41/250 [00:13<01:05,  3.20it/s]"
     ]
    },
    {
     "name": "stdout",
     "output_type": "stream",
     "text": [
      "Copy back:  0.15175604820251465 seconds\n",
      "Total:  0.15275311470031738 seconds\n",
      "sumQ:  99934554.15188976\n",
      "neg_f took  0.153 s\n",
      "pos_f took  0.057 s\n",
      "applying forces took  0.01 s\n",
      "Mem alloc:  0.000499725341796875 seconds\n",
      "Mem copy:  0.0 seconds\n",
      "Run:  0.0 seconds\n"
     ]
    },
    {
     "name": "stderr",
     "output_type": "stream",
     "text": [
      "Gradient Descent error: 93.98093 grad_norm: 8.21285e-01:  17%|█▋        | 42/250 [00:13<01:04,  3.21it/s]"
     ]
    },
    {
     "name": "stdout",
     "output_type": "stream",
     "text": [
      "Copy back:  0.1452794075012207 seconds\n",
      "Total:  0.14577913284301758 seconds\n",
      "sumQ:  99926039.90111728\n",
      "neg_f took  0.146 s\n",
      "pos_f took  0.063 s\n",
      "applying forces took  0.009000000000000001 s\n",
      "Mem alloc:  0.000499725341796875 seconds\n",
      "Mem copy:  0.0004987716674804688 seconds\n",
      "Run:  0.0 seconds\n"
     ]
    },
    {
     "name": "stderr",
     "output_type": "stream",
     "text": [
      "Gradient Descent error: 93.97876 grad_norm: 8.41316e-01:  17%|█▋        | 43/250 [00:13<01:06,  3.11it/s]"
     ]
    },
    {
     "name": "stdout",
     "output_type": "stream",
     "text": [
      "Copy back:  0.14427852630615234 seconds\n",
      "Total:  0.1452770233154297 seconds\n",
      "sumQ:  99923515.58657931\n",
      "neg_f took  0.145 s\n",
      "pos_f took  0.097 s\n",
      "applying forces took  0.008 s\n",
      "Mem alloc:  0.000499725341796875 seconds\n",
      "Mem copy:  0.0004978179931640625 seconds\n",
      "Run:  0.0 seconds\n",
      "Copy back:  0.15375399589538574 seconds\n",
      "Total:  0.15475153923034668 seconds\n",
      "sumQ:  99922826.56726296\n",
      "neg_f took  0.16 s\n"
     ]
    },
    {
     "name": "stderr",
     "output_type": "stream",
     "text": [
      "Gradient Descent error: 93.97759 grad_norm: 8.33516e-01:  18%|█▊        | 44/250 [00:14<01:18,  2.64it/s]"
     ]
    },
    {
     "name": "stdout",
     "output_type": "stream",
     "text": [
      "pos_f took  0.164 s\n",
      "applying forces took  0.008 s\n",
      "Mem alloc:  0.0 seconds\n",
      "Mem copy:  0.0004975795745849609 seconds\n",
      "Run:  0.0 seconds\n",
      "Copy back:  0.1652357578277588 seconds\n",
      "Total:  0.16623330116271973 seconds\n",
      "sumQ:  99916707.43138583\n",
      "neg_f took  0.166 s\n"
     ]
    },
    {
     "name": "stderr",
     "output_type": "stream",
     "text": [
      "Gradient Descent error: 93.97605 grad_norm: 8.39738e-01:  18%|█▊        | 45/250 [00:14<01:14,  2.73it/s]"
     ]
    },
    {
     "name": "stdout",
     "output_type": "stream",
     "text": [
      "pos_f took  0.059000000000000004 s\n",
      "applying forces took  0.009000000000000001 s\n",
      "Mem alloc:  0.0004990100860595703 seconds\n",
      "Mem copy:  0.0004994869232177734 seconds\n",
      "Run:  0.0 seconds\n"
     ]
    },
    {
     "name": "stderr",
     "output_type": "stream",
     "text": [
      "Gradient Descent error: 93.98014 grad_norm: 8.30832e-01:  18%|█▊        | 46/250 [00:14<01:13,  2.79it/s]"
     ]
    },
    {
     "name": "stdout",
     "output_type": "stream",
     "text": [
      "Copy back:  0.15924382209777832 seconds\n",
      "Total:  0.16024231910705566 seconds\n",
      "sumQ:  99910210.76365727\n",
      "neg_f took  0.16 s\n",
      "pos_f took  0.064 s\n",
      "applying forces took  0.009000000000000001 s\n",
      "Mem alloc:  0.0004985332489013672 seconds\n",
      "Mem copy:  0.0 seconds\n",
      "Run:  0.0004990100860595703 seconds\n"
     ]
    },
    {
     "name": "stderr",
     "output_type": "stream",
     "text": [
      "Gradient Descent error: 93.97704 grad_norm: 8.43124e-01:  19%|█▉        | 47/250 [00:15<01:10,  2.87it/s]"
     ]
    },
    {
     "name": "stdout",
     "output_type": "stream",
     "text": [
      "Copy back:  0.1542527675628662 seconds\n",
      "Total:  0.15525031089782715 seconds\n",
      "sumQ:  99909594.36426239\n",
      "neg_f took  0.155 s\n",
      "pos_f took  0.059000000000000004 s\n",
      "applying forces took  0.01 s\n",
      "Mem alloc:  0.0004985332489013672 seconds\n",
      "Mem copy:  0.0004987716674804688 seconds\n",
      "Run:  0.0 seconds\n"
     ]
    },
    {
     "name": "stderr",
     "output_type": "stream",
     "text": [
      "Gradient Descent error: 93.97669 grad_norm: 8.36344e-01:  19%|█▉        | 48/250 [00:15<01:09,  2.91it/s]"
     ]
    },
    {
     "name": "stdout",
     "output_type": "stream",
     "text": [
      "Copy back:  0.15575122833251953 seconds\n",
      "Total:  0.15674853324890137 seconds\n",
      "sumQ:  99907322.634417\n",
      "neg_f took  0.157 s\n",
      "pos_f took  0.059000000000000004 s\n",
      "applying forces took  0.01 s\n",
      "Mem alloc:  0.000499725341796875 seconds\n",
      "Mem copy:  0.0004990100860595703 seconds\n",
      "Run:  0.0 seconds\n"
     ]
    },
    {
     "name": "stderr",
     "output_type": "stream",
     "text": [
      "Gradient Descent error: 93.97483 grad_norm: 8.39602e-01:  20%|█▉        | 49/250 [00:15<01:09,  2.91it/s]"
     ]
    },
    {
     "name": "stdout",
     "output_type": "stream",
     "text": [
      "Copy back:  0.1597456932067871 seconds\n",
      "Total:  0.16074442863464355 seconds\n",
      "sumQ:  99901452.32991073\n",
      "neg_f took  0.161 s\n",
      "pos_f took  0.07 s\n",
      "applying forces took  0.008 s\n",
      "Mem alloc:  0.0004999637603759766 seconds\n",
      "Mem copy:  0.0004990100860595703 seconds\n",
      "Run:  0.0 seconds\n"
     ]
    },
    {
     "name": "stderr",
     "output_type": "stream",
     "text": [
      "Gradient Descent error: 93.97833 grad_norm: 8.33276e-01:  20%|█▉        | 49/250 [00:16<01:09,  2.91it/s]"
     ]
    },
    {
     "name": "stdout",
     "output_type": "stream",
     "text": [
      "Copy back:  0.1612403392791748 seconds\n",
      "Total:  0.16223931312561035 seconds\n",
      "sumQ:  99895861.7674316\n",
      "neg_f took  0.162 s\n",
      "pos_f took  0.111 s\n",
      "applying forces took  0.008 s\n"
     ]
    },
    {
     "name": "stderr",
     "output_type": "stream",
     "text": [
      "Gradient Descent error: 93.97833 grad_norm: 8.33276e-01:  20%|██        | 50/250 [00:16<01:16,  2.62it/s]"
     ]
    },
    {
     "name": "stdout",
     "output_type": "stream",
     "text": [
      "Mem alloc:  0.0 seconds\n",
      "Mem copy:  0.0004990100860595703 seconds\n",
      "Run:  0.0 seconds\n",
      "Copy back:  0.16773056983947754 seconds\n",
      "Total:  0.16872668266296387 seconds\n",
      "sumQ:  99894070.85867622\n",
      "neg_f took  0.17 s\n"
     ]
    },
    {
     "name": "stderr",
     "output_type": "stream",
     "text": [
      "Gradient Descent error: 93.97542 grad_norm: 8.38969e-01:  20%|██        | 51/250 [00:16<01:16,  2.62it/s]"
     ]
    },
    {
     "name": "stdout",
     "output_type": "stream",
     "text": [
      "pos_f took  0.099 s\n",
      "applying forces took  0.008 s\n",
      "Mem alloc:  0.0 seconds\n",
      "Mem copy:  0.0004978179931640625 seconds\n",
      "Run:  0.0 seconds\n"
     ]
    },
    {
     "name": "stderr",
     "output_type": "stream",
     "text": [
      "Gradient Descent error: 93.97553 grad_norm: 8.35080e-01:  20%|██        | 51/250 [00:17<01:16,  2.62it/s]"
     ]
    },
    {
     "name": "stdout",
     "output_type": "stream",
     "text": [
      "Copy back:  0.16174030303955078 seconds\n",
      "Total:  0.1627368927001953 seconds\n",
      "sumQ:  99891176.27543174\n",
      "neg_f took  0.163 s\n",
      "pos_f took  0.099 s\n",
      "applying forces took  0.007 s\n"
     ]
    },
    {
     "name": "stderr",
     "output_type": "stream",
     "text": [
      "Gradient Descent error: 93.97553 grad_norm: 8.35080e-01:  21%|██        | 52/250 [00:17<01:15,  2.63it/s]"
     ]
    },
    {
     "name": "stdout",
     "output_type": "stream",
     "text": [
      "Mem alloc:  0.0004980564117431641 seconds\n",
      "Mem copy:  0.0005002021789550781 seconds\n",
      "Run:  0.0 seconds\n",
      "Copy back:  0.16174030303955078 seconds\n",
      "Total:  0.16273856163024902 seconds\n",
      "sumQ:  99885366.09911971\n",
      "neg_f took  0.162 s\n"
     ]
    },
    {
     "name": "stderr",
     "output_type": "stream",
     "text": [
      "Gradient Descent error: 93.97332 grad_norm: 8.40014e-01:  21%|██        | 53/250 [00:17<01:13,  2.68it/s]"
     ]
    },
    {
     "name": "stdout",
     "output_type": "stream",
     "text": [
      "pos_f took  0.084 s\n",
      "applying forces took  0.008 s\n",
      "Mem alloc:  0.0014984607696533203 seconds\n",
      "Mem copy:  0.0004990100860595703 seconds\n",
      "Run:  0.0 seconds\n"
     ]
    },
    {
     "name": "stderr",
     "output_type": "stream",
     "text": [
      "Gradient Descent error: 93.97646 grad_norm: 8.34708e-01:  22%|██▏       | 54/250 [00:17<01:11,  2.76it/s]"
     ]
    },
    {
     "name": "stdout",
     "output_type": "stream",
     "text": [
      "Copy back:  0.15724682807922363 seconds\n",
      "Total:  0.15924429893493652 seconds\n",
      "sumQ:  99879813.4020111\n",
      "neg_f took  0.16 s\n",
      "pos_f took  0.066 s\n",
      "applying forces took  0.013000000000000001 s\n",
      "Mem alloc:  0.0 seconds\n",
      "Mem copy:  0.0004999637603759766 seconds\n",
      "Run:  0.0 seconds\n"
     ]
    },
    {
     "name": "stderr",
     "output_type": "stream",
     "text": [
      "Gradient Descent error: 93.97358 grad_norm: 8.38321e-01:  22%|██▏       | 54/250 [00:18<01:11,  2.76it/s]"
     ]
    },
    {
     "name": "stdout",
     "output_type": "stream",
     "text": [
      "Copy back:  0.15724635124206543 seconds\n",
      "Total:  0.1577463150024414 seconds\n",
      "sumQ:  99877233.6887742\n",
      "neg_f took  0.158 s\n",
      "pos_f took  0.08600000000000001 s\n",
      "applying forces took  0.01 s\n"
     ]
    },
    {
     "name": "stderr",
     "output_type": "stream",
     "text": [
      "Gradient Descent error: 93.97358 grad_norm: 8.38321e-01:  22%|██▏       | 55/250 [00:18<01:10,  2.77it/s]"
     ]
    },
    {
     "name": "stdout",
     "output_type": "stream",
     "text": [
      "Mem alloc:  0.0 seconds\n",
      "Mem copy:  0.0004994869232177734 seconds\n",
      "Run:  0.0 seconds\n",
      "Copy back:  0.15674972534179688 seconds\n",
      "Total:  0.15724921226501465 seconds\n",
      "sumQ:  99873884.94205053\n",
      "neg_f took  0.158 s\n"
     ]
    },
    {
     "name": "stderr",
     "output_type": "stream",
     "text": [
      "Gradient Descent error: 93.97395 grad_norm: 8.36860e-01:  22%|██▏       | 56/250 [00:18<01:09,  2.78it/s]"
     ]
    },
    {
     "name": "stdout",
     "output_type": "stream",
     "text": [
      "pos_f took  0.084 s\n",
      "applying forces took  0.007 s\n",
      "Mem alloc:  0.00099945068359375 seconds\n",
      "Mem copy:  0.0004987716674804688 seconds\n",
      "Run:  0.0 seconds\n"
     ]
    },
    {
     "name": "stderr",
     "output_type": "stream",
     "text": [
      "Gradient Descent error: 93.97157 grad_norm: 8.39091e-01:  23%|██▎       | 57/250 [00:18<01:07,  2.86it/s]"
     ]
    },
    {
     "name": "stdout",
     "output_type": "stream",
     "text": [
      "Copy back:  0.15474987030029297 seconds\n",
      "Total:  0.1562480926513672 seconds\n",
      "sumQ:  99867613.09519218\n",
      "neg_f took  0.156 s\n",
      "pos_f took  0.067 s\n",
      "applying forces took  0.008 s\n",
      "Mem alloc:  0.0 seconds\n",
      "Mem copy:  0.000499725341796875 seconds\n",
      "Run:  0.0 seconds\n"
     ]
    },
    {
     "name": "stderr",
     "output_type": "stream",
     "text": [
      "Gradient Descent error: 93.97443 grad_norm: 8.33925e-01:  23%|██▎       | 57/250 [00:19<01:07,  2.86it/s]"
     ]
    },
    {
     "name": "stdout",
     "output_type": "stream",
     "text": [
      "Copy back:  0.16373634338378906 seconds\n",
      "Total:  0.16423606872558594 seconds\n",
      "sumQ:  99862182.96831706\n",
      "neg_f took  0.165 s\n",
      "pos_f took  0.162 s\n",
      "applying forces took  0.009000000000000001 s\n"
     ]
    },
    {
     "name": "stderr",
     "output_type": "stream",
     "text": [
      "Gradient Descent error: 93.97443 grad_norm: 8.33925e-01:  23%|██▎       | 58/250 [00:19<01:12,  2.66it/s]"
     ]
    },
    {
     "name": "stdout",
     "output_type": "stream",
     "text": [
      "Mem alloc:  0.0029935836791992188 seconds\n",
      "Mem copy:  0.0004992485046386719 seconds\n",
      "Run:  0.0 seconds\n",
      "Copy back:  0.17122507095336914 seconds\n",
      "Total:  0.17471790313720703 seconds\n",
      "sumQ:  99858915.34010682\n",
      "neg_f took  0.17500000000000002 s\n"
     ]
    },
    {
     "name": "stderr",
     "output_type": "stream",
     "text": [
      "Gradient Descent error: 93.97153 grad_norm: 8.40791e-01:  24%|██▎       | 59/250 [00:19<01:14,  2.57it/s]"
     ]
    },
    {
     "name": "stdout",
     "output_type": "stream",
     "text": [
      "pos_f took  0.116 s\n",
      "applying forces took  0.012 s\n",
      "Mem alloc:  0.0004994869232177734 seconds\n",
      "Mem copy:  0.0004987716674804688 seconds\n",
      "Run:  0.0 seconds\n"
     ]
    },
    {
     "name": "stderr",
     "output_type": "stream",
     "text": [
      "Gradient Descent error: 93.97204 grad_norm: 8.36738e-01:  24%|██▎       | 59/250 [00:20<01:14,  2.57it/s]"
     ]
    },
    {
     "name": "stdout",
     "output_type": "stream",
     "text": [
      "Copy back:  0.15575003623962402 seconds\n",
      "Total:  0.15824580192565918 seconds\n",
      "sumQ:  99855038.44083127\n",
      "neg_f took  0.171 s\n",
      "pos_f took  0.101 s\n",
      "applying forces took  0.01 s\n"
     ]
    },
    {
     "name": "stderr",
     "output_type": "stream",
     "text": [
      "Gradient Descent error: 93.97204 grad_norm: 8.36738e-01:  24%|██▍       | 60/250 [00:20<01:14,  2.54it/s]"
     ]
    },
    {
     "name": "stdout",
     "output_type": "stream",
     "text": [
      "Mem alloc:  0.0004990100860595703 seconds\n",
      "Mem copy:  0.0 seconds\n",
      "Run:  0.0 seconds\n",
      "Copy back:  0.1562485694885254 seconds\n",
      "Total:  0.1577458381652832 seconds\n",
      "sumQ:  99848299.95788567\n",
      "neg_f took  0.158 s\n"
     ]
    },
    {
     "name": "stderr",
     "output_type": "stream",
     "text": [
      "Gradient Descent error: 93.96953 grad_norm: 8.39298e-01:  24%|██▍       | 61/250 [00:20<01:12,  2.62it/s]"
     ]
    },
    {
     "name": "stdout",
     "output_type": "stream",
     "text": [
      "pos_f took  0.067 s\n",
      "applying forces took  0.013000000000000001 s\n",
      "Mem alloc:  0.0004980564117431641 seconds\n",
      "Mem copy:  0.0004999637603759766 seconds\n",
      "Run:  0.0 seconds\n"
     ]
    },
    {
     "name": "stderr",
     "output_type": "stream",
     "text": [
      "Gradient Descent error: 93.97213 grad_norm: 8.37404e-01:  25%|██▍       | 62/250 [00:20<01:09,  2.70it/s]"
     ]
    },
    {
     "name": "stdout",
     "output_type": "stream",
     "text": [
      "Copy back:  0.15674829483032227 seconds\n",
      "Total:  0.15824556350708008 seconds\n",
      "sumQ:  99842687.09781948\n",
      "neg_f took  0.158 s\n",
      "pos_f took  0.073 s\n",
      "applying forces took  0.009000000000000001 s\n",
      "Mem alloc:  0.0004987716674804688 seconds\n",
      "Mem copy:  0.0 seconds\n",
      "Run:  0.0 seconds\n"
     ]
    },
    {
     "name": "stderr",
     "output_type": "stream",
     "text": [
      "Gradient Descent error: 93.96920 grad_norm: 8.40766e-01:  25%|██▌       | 63/250 [00:21<01:06,  2.80it/s]"
     ]
    },
    {
     "name": "stdout",
     "output_type": "stream",
     "text": [
      "Copy back:  0.15325236320495605 seconds\n",
      "Total:  0.15375113487243652 seconds\n",
      "sumQ:  99838490.27496926\n",
      "neg_f took  0.155 s\n",
      "pos_f took  0.062 s\n",
      "applying forces took  0.009000000000000001 s\n",
      "Mem alloc:  0.0004987716674804688 seconds\n",
      "Mem copy:  0.0 seconds\n",
      "Run:  0.0 seconds\n"
     ]
    },
    {
     "name": "stderr",
     "output_type": "stream",
     "text": [
      "Gradient Descent error: 93.96983 grad_norm: 8.39132e-01:  26%|██▌       | 64/250 [00:21<01:06,  2.81it/s]"
     ]
    },
    {
     "name": "stdout",
     "output_type": "stream",
     "text": [
      "Copy back:  0.15475034713745117 seconds\n",
      "Total:  0.15524911880493164 seconds\n",
      "sumQ:  99834161.95674984\n",
      "neg_f took  0.156 s\n",
      "pos_f took  0.082 s\n",
      "applying forces took  0.01 s\n",
      "Mem alloc:  0.0 seconds\n",
      "Mem copy:  0.0004992485046386719 seconds\n",
      "Run:  0.0 seconds\n",
      "Copy back:  0.15625 seconds\n",
      "Total:  0.15674924850463867 seconds\n",
      "sumQ:  99827219.47400281\n",
      "neg_f took  0.157 s\n"
     ]
    },
    {
     "name": "stderr",
     "output_type": "stream",
     "text": [
      "Gradient Descent error: 93.96724 grad_norm: 8.42292e-01:  26%|██▌       | 65/250 [00:21<01:06,  2.79it/s]"
     ]
    },
    {
     "name": "stdout",
     "output_type": "stream",
     "text": [
      "pos_f took  0.1 s\n",
      "applying forces took  0.008 s\n",
      "Mem alloc:  0.0 seconds\n",
      "Mem copy:  0.0004992485046386719 seconds\n",
      "Run:  0.0 seconds\n"
     ]
    },
    {
     "name": "stderr",
     "output_type": "stream",
     "text": [
      "Gradient Descent error: 93.96960 grad_norm: 8.36758e-01:  26%|██▋       | 66/250 [00:22<01:04,  2.85it/s]"
     ]
    },
    {
     "name": "stdout",
     "output_type": "stream",
     "text": [
      "Copy back:  0.15325379371643066 seconds\n",
      "Total:  0.15475225448608398 seconds\n",
      "sumQ:  99821417.38614912\n",
      "neg_f took  0.155 s\n",
      "pos_f took  0.068 s\n",
      "applying forces took  0.01 s\n",
      "Mem alloc:  0.000499725341796875 seconds\n",
      "Mem copy:  0.0004992485046386719 seconds\n",
      "Run:  0.0 seconds\n"
     ]
    },
    {
     "name": "stderr",
     "output_type": "stream",
     "text": [
      "Gradient Descent error: 93.96666 grad_norm: 8.41102e-01:  26%|██▋       | 66/250 [00:22<01:04,  2.85it/s]"
     ]
    },
    {
     "name": "stdout",
     "output_type": "stream",
     "text": [
      "Copy back:  0.1547527313232422 seconds\n",
      "Total:  0.15575170516967773 seconds\n",
      "sumQ:  99816549.13365997\n",
      "neg_f took  0.156 s\n",
      "pos_f took  0.062 s\n",
      "applying forces took  0.011 s\n"
     ]
    },
    {
     "name": "stderr",
     "output_type": "stream",
     "text": [
      "Gradient Descent error: 93.96666 grad_norm: 8.41102e-01:  27%|██▋       | 67/250 [00:22<01:04,  2.82it/s]"
     ]
    },
    {
     "name": "stdout",
     "output_type": "stream",
     "text": [
      "Mem alloc:  0.0 seconds\n",
      "Mem copy:  0.0004999637603759766 seconds\n",
      "Run:  0.0 seconds\n",
      "Copy back:  0.15325284004211426 seconds\n",
      "Total:  0.1542520523071289 seconds\n",
      "sumQ:  99811818.86202842\n",
      "neg_f took  0.155 s\n"
     ]
    },
    {
     "name": "stderr",
     "output_type": "stream",
     "text": [
      "Gradient Descent error: 93.96736 grad_norm: 8.38926e-01:  27%|██▋       | 68/250 [00:22<01:02,  2.90it/s]"
     ]
    },
    {
     "name": "stdout",
     "output_type": "stream",
     "text": [
      "pos_f took  0.058 s\n",
      "applying forces took  0.008 s\n",
      "Mem alloc:  0.0004985332489013672 seconds\n",
      "Mem copy:  0.0 seconds\n",
      "Run:  0.0 seconds\n"
     ]
    },
    {
     "name": "stderr",
     "output_type": "stream",
     "text": [
      "Gradient Descent error: 93.96466 grad_norm: 8.41768e-01:  27%|██▋       | 68/250 [00:23<01:02,  2.90it/s]"
     ]
    },
    {
     "name": "stdout",
     "output_type": "stream",
     "text": [
      "Copy back:  0.15674829483032227 seconds\n",
      "Total:  0.15724682807922363 seconds\n",
      "sumQ:  99804360.40044041\n",
      "neg_f took  0.158 s\n",
      "pos_f took  0.137 s\n",
      "applying forces took  0.019 s\n"
     ]
    },
    {
     "name": "stderr",
     "output_type": "stream",
     "text": [
      "Gradient Descent error: 93.96466 grad_norm: 8.41768e-01:  28%|██▊       | 69/250 [00:23<01:05,  2.74it/s]"
     ]
    },
    {
     "name": "stdout",
     "output_type": "stream",
     "text": [
      "Mem alloc:  0.0004990100860595703 seconds\n",
      "Mem copy:  0.0004994869232177734 seconds\n",
      "Run:  0.0 seconds\n",
      "Copy back:  0.15874481201171875 seconds\n",
      "Total:  0.1597433090209961 seconds\n",
      "sumQ:  99798340.56009224\n",
      "neg_f took  0.16 s\n"
     ]
    },
    {
     "name": "stderr",
     "output_type": "stream",
     "text": [
      "Gradient Descent error: 93.96686 grad_norm: 8.37923e-01:  28%|██▊       | 70/250 [00:23<01:05,  2.73it/s]"
     ]
    },
    {
     "name": "stdout",
     "output_type": "stream",
     "text": [
      "pos_f took  0.095 s\n",
      "applying forces took  0.01 s\n",
      "Mem alloc:  0.0004994869232177734 seconds\n",
      "Mem copy:  0.0 seconds\n",
      "Run:  0.0004990100860595703 seconds\n"
     ]
    },
    {
     "name": "stderr",
     "output_type": "stream",
     "text": [
      "Gradient Descent error: 93.96389 grad_norm: 8.42147e-01:  28%|██▊       | 71/250 [00:24<01:03,  2.82it/s]"
     ]
    },
    {
     "name": "stdout",
     "output_type": "stream",
     "text": [
      "Copy back:  0.15375423431396484 seconds\n",
      "Total:  0.15525317192077637 seconds\n",
      "sumQ:  99792836.40880847\n",
      "neg_f took  0.156 s\n",
      "pos_f took  0.059000000000000004 s\n",
      "applying forces took  0.007 s\n",
      "Mem alloc:  0.0 seconds\n",
      "Mem copy:  0.0 seconds\n",
      "Run:  0.0 seconds\n"
     ]
    },
    {
     "name": "stderr",
     "output_type": "stream",
     "text": [
      "Gradient Descent error: 93.96463 grad_norm: 8.38867e-01:  29%|██▉       | 72/250 [00:24<01:01,  2.87it/s]"
     ]
    },
    {
     "name": "stdout",
     "output_type": "stream",
     "text": [
      "Copy back:  0.16273736953735352 seconds\n",
      "Total:  0.16373801231384277 seconds\n",
      "sumQ:  99787639.10450326\n",
      "neg_f took  0.164 s\n",
      "pos_f took  0.058 s\n",
      "applying forces took  0.012 s\n",
      "Mem alloc:  0.0004985332489013672 seconds\n",
      "Mem copy:  0.0 seconds\n",
      "Run:  0.0 seconds\n"
     ]
    },
    {
     "name": "stderr",
     "output_type": "stream",
     "text": [
      "Gradient Descent error: 93.96188 grad_norm: 8.41721e-01:  29%|██▉       | 72/250 [00:24<01:01,  2.87it/s]"
     ]
    }
   ],
   "source": [
    "import os\n",
    "import traceback\n",
    "import numpy as np\n",
    "import time\n",
    "#from cuda import cuda, nvrtc\n",
    "\n",
    "from hyperbolicTSNE.util import find_last_embedding\n",
    "from hyperbolicTSNE.visualization import plot_poincare, animate\n",
    "from hyperbolicTSNE import load_data, Datasets, SequentialOptimizer, initialization, HyperbolicTSNE\n",
    "\n",
    "data_home = \"datasets\"\n",
    "log_path = \"temp/poincare/\"  # path for saving embedding snapshots\n",
    "\n",
    "only_animate = False\n",
    "seed = 42\n",
    "dataset = Datasets.PLANARIA  # the Datasets handler provides access to several data sets used throughout the repository\n",
    "num_points = 10000  # we use a subset for demonstration purposes, full MNIST has N=70000\n",
    "perp = 30  # we use a perplexity of 30 in this example\n",
    "\n",
    "dataX, dataLabels, D, V, _ = load_data(\n",
    "    dataset, \n",
    "    data_home=data_home, \n",
    "    random_state=seed, \n",
    "    to_return=\"X_labels_D_V\",\n",
    "    hd_params={\"perplexity\": perp}, \n",
    "    sample=num_points, \n",
    "    knn_method=\"hnswlib\"  # we use an approximation of high-dimensional neighbors to speed up computations\n",
    ")\n",
    "\n",
    "print(\"Data loaded\")\n",
    "\n",
    "exaggeration_factor = 12  # Just like regular t-SNE, we use early exaggeration with a factor of 12\n",
    "learning_rate = (dataX.shape[0] * 1) / (exaggeration_factor * 1000)  # We adjust the learning rate to the hyperbolic setting\n",
    "ex_iterations = 250  # The embedder is to execute 250 iterations of early exaggeration, ...\n",
    "main_iterations = 750  # ... followed by 750 iterations of non-exaggerated gradient descent.\n",
    "\n",
    "opt_config = dict(\n",
    "    learning_rate_ex=learning_rate,  # learning rate during exaggeration\n",
    "    learning_rate_main=learning_rate,  # learning rate main optimization \n",
    "    exaggeration=exaggeration_factor, \n",
    "    exaggeration_its=ex_iterations, \n",
    "    gradientDescent_its=main_iterations, \n",
    "    vanilla=False,  # if vanilla is set to true, regular gradient descent without any modifications is performed; for  vanilla set to false, the optimization makes use of momentum and gains\n",
    "    momentum_ex=0.5,  # Set momentum during early exaggeration to 0.5\n",
    "    momentum=0.8,  # Set momentum during non-exaggerated gradient descent to 0.8\n",
    "    exact=True,  # To use the quad tree for acceleration (like Barnes-Hut in the Euclidean setting) or to evaluate the gradient exactly\n",
    "    area_split=False,  # To build or not build the polar quad tree based on equal area splitting or - alternatively - on equal length splitting\n",
    "    n_iter_check=10,  # Needed for early stopping criterion\n",
    "    size_tol=0.999  # Size of the embedding to be used as early stopping criterion\n",
    ")\n",
    "\n",
    "opt_params = SequentialOptimizer.sequence_poincare(**opt_config)\n",
    "\n",
    "print(\"Sequence defined\")\n",
    "\n",
    "# Start: configure logging\n",
    "logging_dict = {\n",
    "    \"log_path\": log_path\n",
    "}\n",
    "opt_params[\"logging_dict\"] = logging_dict\n",
    "\n",
    "log_path = opt_params[\"logging_dict\"][\"log_path\"]\n",
    "# Delete old log path\n",
    "if os.path.exists(log_path) and not only_animate:\n",
    "    import shutil\n",
    "    shutil.rmtree(log_path)\n",
    "# End: logging\n",
    "\n",
    "# Compute an initial embedding of the data via PCA\n",
    "X_embedded = initialization(\n",
    "    n_samples=dataX.shape[0],\n",
    "    n_components=2,\n",
    "    X=dataX,\n",
    "    random_state=seed,\n",
    "    method=\"pca\"\n",
    ")\n",
    "\n",
    "# Initialize the embedder\n",
    "htsne = HyperbolicTSNE(\n",
    "    init=X_embedded, \n",
    "    n_components=2, \n",
    "    metric=\"precomputed\", \n",
    "    verbose=True, \n",
    "    opt_method=SequentialOptimizer, \n",
    "    opt_params=opt_params\n",
    ")\n",
    "\n",
    "start_time = time.time()\n",
    "\n",
    "try:\n",
    "    hyperbolicEmbedding = htsne.fit_transform((D, V))\n",
    "except ValueError:\n",
    "    print(\"Error!\")\n",
    "    hyperbolicEmbedding = find_last_embedding(log_path)\n",
    "    traceback.print_exc()\n",
    "\n",
    "end_time = time.time()\n",
    "\n",
    "execution_time = end_time - start_time\n",
    "print(\"Execution time:\", execution_time, \"seconds\")\n",
    "\n",
    "# Create a rendering of the embedding and save it to a file\n",
    "if not os.path.exists(\"results\"):\n",
    "    os.mkdir(\"results\")\n",
    "fig = plot_poincare(hyperbolicEmbedding, dataLabels)\n",
    "fig.savefig(f\"results/{dataset.name}.png\")"
   ]
  },
  {
   "cell_type": "code",
   "execution_count": null,
   "metadata": {},
   "outputs": [],
   "source": []
  },
  {
   "cell_type": "code",
   "execution_count": null,
   "metadata": {},
   "outputs": [],
   "source": []
  }
 ],
 "metadata": {
  "kernelspec": {
   "display_name": "htsne",
   "language": "python",
   "name": "python3"
  },
  "language_info": {
   "codemirror_mode": {
    "name": "ipython",
    "version": 3
   },
   "file_extension": ".py",
   "mimetype": "text/x-python",
   "name": "python",
   "nbconvert_exporter": "python",
   "pygments_lexer": "ipython3",
   "version": "3.9.16"
  }
 },
 "nbformat": 4,
 "nbformat_minor": 2
}
