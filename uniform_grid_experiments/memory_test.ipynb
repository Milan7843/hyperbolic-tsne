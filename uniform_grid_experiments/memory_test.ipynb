{
 "cells": [
  {
   "cell_type": "code",
   "execution_count": 1,
   "metadata": {},
   "outputs": [
    {
     "name": "stdout",
     "output_type": "stream",
     "text": [
      "Please note that `empty_sequence` uses the KL divergence with Barnes-Hut approximation (angle=0.5) by default.\n",
      "starting\n",
      "1 / 100 - Memory usage: 5.62109375 MiB, total: 256.546875 MiB\n",
      "2 / 100 - Memory usage: 0.0 MiB, total: 256.546875 MiB\n",
      "3 / 100 - Memory usage: 0.0 MiB, total: 256.546875 MiB\n",
      "4 / 100 - Memory usage: 0.0078125 MiB, total: 256.5546875 MiB\n",
      "5 / 100 - Memory usage: 0.0 MiB, total: 256.5546875 MiB\n",
      "6 / 100 - Memory usage: 0.0 MiB, total: 256.5546875 MiB\n",
      "7 / 100 - Memory usage: 0.0 MiB, total: 256.5546875 MiB\n",
      "8 / 100 - Memory usage: 0.0 MiB, total: 256.5546875 MiB\n"
     ]
    },
    {
     "ename": "KeyboardInterrupt",
     "evalue": "",
     "output_type": "error",
     "traceback": [
      "\u001b[1;31m---------------------------------------------------------------------------\u001b[0m",
      "\u001b[1;31mKeyboardInterrupt\u001b[0m                         Traceback (most recent call last)",
      "File \u001b[1;32mhyperbolicTSNE\\hyperbolic_barnes_hut\\grid_gen_gpu.py:126\u001b[0m, in \u001b[0;36mhyperbolicTSNE.hyperbolic_barnes_hut.uniform_grid.calculate_average_grid_square_positions_gpu\u001b[1;34m()\u001b[0m\n",
      "File \u001b[1;32mc:\\Users\\Milan\\miniconda3\\envs\\htsne\\lib\\site-packages\\pycuda\\driver.py:465\u001b[0m, in \u001b[0;36m_add_functionality.<locals>.function_call\u001b[1;34m(func, *args, **kwargs)\u001b[0m\n\u001b[0;32m    459\u001b[0m         func\u001b[38;5;241m.\u001b[39m_launch_grid_async(grid_x, grid_y, stream)\n\u001b[0;32m    461\u001b[0m \u001b[38;5;66;03m# }}}\u001b[39;00m\n\u001b[0;32m    462\u001b[0m \n\u001b[0;32m    463\u001b[0m \u001b[38;5;66;03m# {{{ CUDA 4+ call interface (stateless)\u001b[39;00m\n\u001b[1;32m--> 465\u001b[0m \u001b[38;5;28;01mdef\u001b[39;00m \u001b[38;5;21mfunction_call\u001b[39m(func, \u001b[38;5;241m*\u001b[39margs, \u001b[38;5;241m*\u001b[39m\u001b[38;5;241m*\u001b[39mkwargs):\n\u001b[0;32m    466\u001b[0m     grid \u001b[38;5;241m=\u001b[39m kwargs\u001b[38;5;241m.\u001b[39mpop(\u001b[38;5;124m\"\u001b[39m\u001b[38;5;124mgrid\u001b[39m\u001b[38;5;124m\"\u001b[39m, (\u001b[38;5;241m1\u001b[39m, \u001b[38;5;241m1\u001b[39m))\n\u001b[0;32m    467\u001b[0m     stream \u001b[38;5;241m=\u001b[39m kwargs\u001b[38;5;241m.\u001b[39mpop(\u001b[38;5;124m\"\u001b[39m\u001b[38;5;124mstream\u001b[39m\u001b[38;5;124m\"\u001b[39m, \u001b[38;5;28;01mNone\u001b[39;00m)\n",
      "\u001b[1;31mKeyboardInterrupt\u001b[0m: "
     ]
    },
    {
     "name": "stderr",
     "output_type": "stream",
     "text": [
      "Exception ignored in: 'hyperbolicTSNE.hyperbolic_barnes_hut.uniform_grid.c_divide_points_over_grid'\n",
      "Traceback (most recent call last):\n",
      "  File \"hyperbolicTSNE\\hyperbolic_barnes_hut\\grid_gen_gpu.py\", line 126, in hyperbolicTSNE.hyperbolic_barnes_hut.uniform_grid.calculate_average_grid_square_positions_gpu\n",
      "  File \"c:\\Users\\Milan\\miniconda3\\envs\\htsne\\lib\\site-packages\\pycuda\\driver.py\", line 465, in function_call\n",
      "    def function_call(func, *args, **kwargs):\n",
      "KeyboardInterrupt: \n"
     ]
    },
    {
     "name": "stdout",
     "output_type": "stream",
     "text": [
      "9 / 100 - Memory usage: 4.859375 MiB, total: 261.4140625 MiB\n",
      "10 / 100 - Memory usage: 0.0 MiB, total: 261.4140625 MiB\n",
      "grid setup time: 12.97063398361206 seconds\n"
     ]
    }
   ],
   "source": [
    "import hyperbolicTSNE.uniform_grid as grid\n",
    "import numpy as np\n",
    "from matplotlib import pyplot as plt\n",
    "import time\n",
    "from memory_profiler import memory_usage\n",
    "\n",
    "def generate_points(n):\n",
    "    points = []\n",
    "    while len(points) < n:\n",
    "        # Generate random x and y coordinates in the range (-1, 1)\n",
    "        x = np.random.uniform(-1, 1)\n",
    "        y = np.random.uniform(-1, 1)\n",
    "    \n",
    "    return np.array(points)\n",
    "\n",
    "# Example usage:\n",
    "n = 100000\n",
    "points = np.zeros(shape=(2,n))\n",
    "\n",
    "grid_n = 100\n",
    "grid_size = grid_n**2\n",
    "\n",
    "start_time = time.time()\n",
    "print(f\"starting\")\n",
    "result_starts_counts = None\n",
    "square_positions = None\n",
    "x_min = None\n",
    "width = None\n",
    "y_min = None\n",
    "height = None\n",
    "\n",
    "for i in range(10):\n",
    "    mem_before = memory_usage()[0]\n",
    "    for x in range(1000):\n",
    "        result_starts_counts, square_positions, x_min, width, y_min, height = grid.divide_points_over_grid(points, grid_n)\n",
    "        #del result_starts_counts\n",
    "        #del square_positions\n",
    "        #del x_min\n",
    "        #del width\n",
    "        #del y_min\n",
    "        #del height\n",
    "    mem_after = memory_usage()[0]\n",
    "    print(f\"{i+1} / {100} - Memory usage: {mem_after - mem_before} MiB, total: {mem_after} MiB\")\n",
    "\n",
    "end_time = time.time()\n",
    "\n",
    "execution_time = end_time - start_time\n",
    "print(\"grid setup time:\", execution_time, \"seconds\")\n",
    "\n"
   ]
  }
 ],
 "metadata": {
  "kernelspec": {
   "display_name": "htsne",
   "language": "python",
   "name": "python3"
  },
  "language_info": {
   "codemirror_mode": {
    "name": "ipython",
    "version": 3
   },
   "file_extension": ".py",
   "mimetype": "text/x-python",
   "name": "python",
   "nbconvert_exporter": "python",
   "pygments_lexer": "ipython3",
   "version": "3.9.16"
  }
 },
 "nbformat": 4,
 "nbformat_minor": 2
}
