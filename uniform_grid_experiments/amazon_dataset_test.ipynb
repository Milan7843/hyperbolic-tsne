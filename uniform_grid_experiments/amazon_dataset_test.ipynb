{
 "cells": [
  {
   "cell_type": "code",
   "execution_count": 1,
   "metadata": {},
   "outputs": [
    {
     "name": "stdout",
     "output_type": "stream",
     "text": [
      "Please note that `empty_sequence` uses the KL divergence with Barnes-Hut approximation (angle=0.5) by default.\n",
      "Loading Datasets.AMAZON from ../datasets\n",
      "Loading data\n",
      "Data loading: 0.0 seconds\n",
      "Please note that `empty_sequence` uses the KL divergence with Barnes-Hut approximation (angle=0.5) by default.\n",
      "[HyperbolicTSNE] Received iterable as input. It should have len=2 and contain (D=None, V=None)\n",
      "[hd_mat] Warning: There is nothing to do with given parameters. Returning given D and V\n"
     ]
    },
    {
     "name": "stderr",
     "output_type": "stream",
     "text": [
      "Gradient Descent error: 172.70311 grad_norm: 3.14856e-02: 100%|██████████| 250/250 [6:57:42<00:00, 100.25s/it]                                                                                                                                                                                                                                                                                                               \n",
      "Gradient Descent error: 9.77603 grad_norm: 1.91336e-02:  32%|███▏      | 239/750 [7:51:38<16:48:24, 118.40s/it]                                                                                                                                                                                                                                                                                                                \n"
     ]
    },
    {
     "name": "stdout",
     "output_type": "stream",
     "text": [
      "4\n",
      "[UGrid, d=Datasets.AMAZON, n=3000000, grid_n=100, seed=42] Execution time: 53362.86379599571 seconds\n"
     ]
    },
    {
     "ename": "ValueError",
     "evalue": "cannot reshape array of size 89999682 into shape (30)",
     "output_type": "error",
     "traceback": [
      "\u001b[1;31m---------------------------------------------------------------------------\u001b[0m",
      "\u001b[1;31mValueError\u001b[0m                                Traceback (most recent call last)",
      "Cell \u001b[1;32mIn[1], line 17\u001b[0m\n\u001b[0;32m     14\u001b[0m grid_n \u001b[38;5;241m=\u001b[39m \u001b[38;5;241m100\u001b[39m\n\u001b[0;32m     16\u001b[0m dataset \u001b[38;5;241m=\u001b[39m Datasets\u001b[38;5;241m.\u001b[39mAMAZON\n\u001b[1;32m---> 17\u001b[0m p, r, t \u001b[38;5;241m=\u001b[39m \u001b[43mrun\u001b[49m\u001b[43m(\u001b[49m\u001b[43mnum_points\u001b[49m\u001b[43m,\u001b[49m\u001b[43m \u001b[49m\u001b[38;5;28;43;01mFalse\u001b[39;49;00m\u001b[43m,\u001b[49m\u001b[43m \u001b[49m\u001b[38;5;28;43;01mTrue\u001b[39;49;00m\u001b[43m,\u001b[49m\u001b[43m \u001b[49m\u001b[43mgrid_n\u001b[49m\u001b[43m,\u001b[49m\u001b[43m \u001b[49m\u001b[43mseed\u001b[49m\u001b[43m,\u001b[49m\u001b[43m \u001b[49m\u001b[43mlogging\u001b[49m\u001b[43m,\u001b[49m\u001b[43m \u001b[49m\u001b[43mlog_path\u001b[49m\u001b[43m,\u001b[49m\u001b[43m \u001b[49m\u001b[43mdataset\u001b[49m\u001b[43m,\u001b[49m\u001b[43m \u001b[49m\u001b[43mperplexity\u001b[49m\u001b[43m,\u001b[49m\u001b[43m \u001b[49m\u001b[43mdata_home\u001b[49m\u001b[43m)\u001b[49m\n\u001b[0;32m     19\u001b[0m plot_points_separate([p], \u001b[38;5;28;01mNone\u001b[39;00m, \u001b[38;5;124m\"\u001b[39m\u001b[38;5;124mAmazon Dataset Accuracy\u001b[39m\u001b[38;5;124m\"\u001b[39m, \u001b[38;5;124m\"\u001b[39m\u001b[38;5;124mPrecision\u001b[39m\u001b[38;5;124m\"\u001b[39m, \u001b[38;5;124m\"\u001b[39m\u001b[38;5;124mRecall\u001b[39m\u001b[38;5;124m\"\u001b[39m, [r])\n",
      "File \u001b[1;32mc:\\Git\\hyperbolic-tsne\\uniform_grid_experiments\\helpers.py:176\u001b[0m, in \u001b[0;36mrun\u001b[1;34m(num_points, exact, use_uniform_grid, uniform_grid_n, seed, logging, log_path, dataset, perp, data_home)\u001b[0m\n\u001b[0;32m    172\u001b[0m \u001b[38;5;28;01melse\u001b[39;00m:\n\u001b[0;32m    173\u001b[0m     \u001b[38;5;28mprint\u001b[39m(\u001b[38;5;124mf\u001b[39m\u001b[38;5;124m\"\u001b[39m\u001b[38;5;124m[QTree, d=\u001b[39m\u001b[38;5;132;01m{\u001b[39;00mdataset\u001b[38;5;132;01m}\u001b[39;00m\u001b[38;5;124m, n=\u001b[39m\u001b[38;5;132;01m{\u001b[39;00mactual_num_samples\u001b[38;5;132;01m}\u001b[39;00m\u001b[38;5;124m, seed=\u001b[39m\u001b[38;5;132;01m{\u001b[39;00mseed\u001b[38;5;132;01m}\u001b[39;00m\u001b[38;5;124m] Execution time:\u001b[39m\u001b[38;5;124m\"\u001b[39m, execution_time, \u001b[38;5;124m\"\u001b[39m\u001b[38;5;124mseconds\u001b[39m\u001b[38;5;124m\"\u001b[39m)\n\u001b[1;32m--> 176\u001b[0m _, precisions, recalls, _ \u001b[38;5;241m=\u001b[39m \u001b[43mhyperbolic_nearest_neighbor_preservation\u001b[49m\u001b[43m(\u001b[49m\n\u001b[0;32m    177\u001b[0m \u001b[43m    \u001b[49m\u001b[43mdataX\u001b[49m\u001b[43m,\u001b[49m\n\u001b[0;32m    178\u001b[0m \u001b[43m    \u001b[49m\u001b[43mhyperbolicEmbedding\u001b[49m\u001b[43m,\u001b[49m\n\u001b[0;32m    179\u001b[0m \u001b[43m    \u001b[49m\u001b[43mk_start\u001b[49m\u001b[38;5;241;43m=\u001b[39;49m\u001b[38;5;241;43m1\u001b[39;49m\u001b[43m,\u001b[49m\n\u001b[0;32m    180\u001b[0m \u001b[43m    \u001b[49m\u001b[43mk_max\u001b[49m\u001b[38;5;241;43m=\u001b[39;49m\u001b[38;5;241;43m30\u001b[39;49m\u001b[43m,\u001b[49m\n\u001b[0;32m    181\u001b[0m \u001b[43m    \u001b[49m\u001b[43mD_X\u001b[49m\u001b[38;5;241;43m=\u001b[39;49m\u001b[38;5;28;43;01mNone\u001b[39;49;00m\u001b[43m,\u001b[49m\n\u001b[0;32m    182\u001b[0m \u001b[43m    \u001b[49m\u001b[43mexact_nn\u001b[49m\u001b[38;5;241;43m=\u001b[39;49m\u001b[38;5;28;43;01mTrue\u001b[39;49;00m\u001b[43m,\u001b[49m\n\u001b[0;32m    183\u001b[0m \u001b[43m    \u001b[49m\u001b[43mconsider_order\u001b[49m\u001b[38;5;241;43m=\u001b[39;49m\u001b[38;5;28;43;01mFalse\u001b[39;49;00m\u001b[43m,\u001b[49m\n\u001b[0;32m    184\u001b[0m \u001b[43m    \u001b[49m\u001b[43mstrict\u001b[49m\u001b[38;5;241;43m=\u001b[39;49m\u001b[38;5;28;43;01mFalse\u001b[39;49;00m\u001b[43m,\u001b[49m\n\u001b[0;32m    185\u001b[0m \u001b[43m    \u001b[49m\u001b[43mto_return\u001b[49m\u001b[38;5;241;43m=\u001b[39;49m\u001b[38;5;124;43m\"\u001b[39;49m\u001b[38;5;124;43mfull\u001b[39;49m\u001b[38;5;124;43m\"\u001b[39;49m\n\u001b[0;32m    186\u001b[0m \u001b[43m\u001b[49m\u001b[43m)\u001b[49m\n\u001b[0;32m    188\u001b[0m \u001b[38;5;28mprint\u001b[39m(\u001b[38;5;124mf\u001b[39m\u001b[38;5;124m\"\u001b[39m\u001b[38;5;124mPrecision: \u001b[39m\u001b[38;5;132;01m{\u001b[39;00mprecisions\u001b[38;5;132;01m}\u001b[39;00m\u001b[38;5;124m, recall: \u001b[39m\u001b[38;5;132;01m{\u001b[39;00mrecalls\u001b[38;5;132;01m}\u001b[39;00m\u001b[38;5;124m\"\u001b[39m)\n\u001b[0;32m    190\u001b[0m \u001b[38;5;66;03m# Create a rendering of the embedding and save it to a file\u001b[39;00m\n",
      "File \u001b[1;32mc:\\Users\\Milan\\miniconda3\\envs\\htsne\\lib\\site-packages\\hyperbolicTSNE\\quality_evaluation_.py:93\u001b[0m, in \u001b[0;36mhyperbolic_nearest_neighbor_preservation\u001b[1;34m(X, Y, k_start, k_max, D_X, exact_nn, consider_order, strict, to_return, k_hyper_approx)\u001b[0m\n\u001b[0;32m     91\u001b[0m \u001b[38;5;66;03m# Computation of ordered neighbourhoods\u001b[39;00m\n\u001b[0;32m     92\u001b[0m nz_D_X \u001b[38;5;241m=\u001b[39m D_X\u001b[38;5;241m.\u001b[39mnonzero()\n\u001b[1;32m---> 93\u001b[0m nz_rows_D_X \u001b[38;5;241m=\u001b[39m \u001b[43mnz_D_X\u001b[49m\u001b[43m[\u001b[49m\u001b[38;5;241;43m0\u001b[39;49m\u001b[43m]\u001b[49m\u001b[38;5;241;43m.\u001b[39;49m\u001b[43mreshape\u001b[49m\u001b[43m(\u001b[49m\u001b[38;5;241;43m-\u001b[39;49m\u001b[38;5;241;43m1\u001b[39;49m\u001b[43m,\u001b[49m\u001b[43m \u001b[49m\u001b[43mnum_available_nn_hd\u001b[49m\u001b[43m)\u001b[49m  \u001b[38;5;66;03m# row coordinate of nz elements from D_X\u001b[39;00m\n\u001b[0;32m     94\u001b[0m nz_cols_D_X \u001b[38;5;241m=\u001b[39m nz_D_X[\u001b[38;5;241m1\u001b[39m]\u001b[38;5;241m.\u001b[39mreshape(\u001b[38;5;241m-\u001b[39m\u001b[38;5;241m1\u001b[39m, num_available_nn_hd)  \u001b[38;5;66;03m# col coordinate of nz elements from D_X\u001b[39;00m\n\u001b[0;32m     95\u001b[0m nz_dists_D_X \u001b[38;5;241m=\u001b[39m np\u001b[38;5;241m.\u001b[39masarray(D_X[nz_rows_D_X, nz_cols_D_X]\u001b[38;5;241m.\u001b[39mtodense())\n",
      "\u001b[1;31mValueError\u001b[0m: cannot reshape array of size 89999682 into shape (30)"
     ]
    }
   ],
   "source": [
    "from helpers import run, run_mult, Datasets, plot_points, plot_points_separate\n",
    "\n",
    "data_home = \"../datasets\"\n",
    "log_path = \"temp/poincaregpu/\"\n",
    "\n",
    "only_animate = False\n",
    "seed = 42\n",
    "perplexity = 15\n",
    "logging = False\n",
    "\n",
    "\n",
    "# RUNNING AMAZON DATASET TEST\n",
    "num_points = 0 # Use all points\n",
    "grid_n = 100\n",
    "\n",
    "dataset = Datasets.AMAZON\n",
    "p, r, t = run(num_points, False, True, grid_n, seed, logging, log_path, dataset, perplexity, data_home)\n",
    "\n",
    "plot_points_separate([p], None, \"Amazon Dataset Accuracy\", \"Precision\", \"Recall\", [r])"
   ]
  },
  {
   "cell_type": "code",
   "execution_count": null,
   "metadata": {},
   "outputs": [],
   "source": []
  }
 ],
 "metadata": {
  "kernelspec": {
   "display_name": "htsne",
   "language": "python",
   "name": "python3"
  },
  "language_info": {
   "codemirror_mode": {
    "name": "ipython",
    "version": 3
   },
   "file_extension": ".py",
   "mimetype": "text/x-python",
   "name": "python",
   "nbconvert_exporter": "python",
   "pygments_lexer": "ipython3",
   "version": "3.9.16"
  }
 },
 "nbformat": 4,
 "nbformat_minor": 2
}
