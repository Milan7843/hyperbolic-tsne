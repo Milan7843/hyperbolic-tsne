{
 "cells": [
  {
   "cell_type": "code",
   "execution_count": null,
   "metadata": {},
   "outputs": [],
   "source": [
    "from helpers import run, run_mult, Datasets, plot_points, plot_points_separate\n",
    "import numpy as np\n",
    "\n",
    "data_home = \"../datasets\"\n",
    "log_path = \"temp/poincaregpu/\"\n",
    "\n",
    "only_animate = False\n",
    "seed = 42\n",
    "perplexity = 15\n",
    "logging = False\n",
    "\n",
    "dataset = Datasets.MNIST\n",
    "\n",
    "\n",
    "# TEST FOR DIFFERENT GRID_N VALUES\n",
    "u_grid_ns = [10, 20, 40, 60, 80, 100, 120, 140, 160, 180, 200, 220, 240, 260, 280, 300]\n",
    "num_points = 20000\n",
    "\n",
    "ugrid_gpu_precisions = []\n",
    "ugrid_gpu_recalls = []\n",
    "ugrid_gpu_runtimes = []\n",
    "\n",
    "for i, u_grid_n in enumerate(u_grid_ns):\n",
    "    p, r, t = run_mult(2, num_points, False, True, u_grid_n, logging, log_path, dataset, perplexity, data_home) # Running approx. using uniform grid\n",
    "    ugrid_gpu_precisions.append(p)\n",
    "    ugrid_gpu_recalls.append(r)\n",
    "    ugrid_gpu_runtimes.append(t)"
   ]
  },
  {
   "cell_type": "code",
   "execution_count": null,
   "metadata": {},
   "outputs": [],
   "source": [
    "data = ugrid_gpu_precisions\n",
    "labels = [str(u_grid_n*u_grid_n) + \" grid squares\" for u_grid_n in u_grid_ns]\n",
    "plot_points(data, labels, f\"Precisions at {num_points} points\", \"n\", \"precision\")\n",
    "\n",
    "data = [np.mean(precisions) for precisions in ugrid_gpu_precisions]\n",
    "plot_points([data], labels, f\"Average precision value at {num_points} points\", \"grid squares\", \"precision\", [u_grid_n*u_grid_n for u_grid_n in u_grid_ns])\n",
    "\n",
    "data = [ugrid_gpu_runtimes]\n",
    "#labels = [str(u_grid_n*u_grid_n) + \" grid squares\" for u_grid_n in u_grid_ns]\n",
    "plot_points(data, [\"Runtime (s)\"], f\"Runtimes at {num_points} points\", \"n\", \"runtime (seconds)\", [u_grid_n*u_grid_n for u_grid_n in u_grid_ns])"
   ]
  }
 ],
 "metadata": {
  "language_info": {
   "name": "python"
  }
 },
 "nbformat": 4,
 "nbformat_minor": 2
}
