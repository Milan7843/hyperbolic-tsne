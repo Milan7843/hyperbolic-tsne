{
 "cells": [
  {
   "cell_type": "code",
   "execution_count": null,
   "metadata": {},
   "outputs": [],
   "source": [
    "from helpers import run, run_mult, Datasets, plot_points, plot_points_separate\n",
    "\n",
    "data_home = \"../datasets\"\n",
    "log_path = \"temp/poincaregpu/\"\n",
    "\n",
    "only_animate = False\n",
    "seed = 42\n",
    "perplexity = 15\n",
    "logging = False\n",
    "\n",
    "dataset = Datasets.MNIST\n",
    "\n",
    "\n",
    "point_counts = [1000, 4000, 10000, 40000]\n",
    "grid_n = 100\n",
    "\n",
    "exact_cpu_precisions = []\n",
    "exact_cpu_recalls = []\n",
    "exact_cpu_runtimes = []\n",
    "\n",
    "exact_gpu_precisions = []\n",
    "exact_gpu_recalls = []\n",
    "exact_gpu_runtimes = []\n",
    "\n",
    "ugrid_gpu_precisions = []\n",
    "ugrid_gpu_recalls = []\n",
    "ugrid_gpu_runtimes = []\n",
    "\n",
    "qtree_cpu_precisions = []\n",
    "qtree_cpu_recalls = []\n",
    "qtree_cpu_runtimes = []\n",
    "\n",
    "for num_points in point_counts:\n",
    "    p, r, t = run_mult(5, num_points, True, True, 0, logging, log_path, dataset, perplexity, data_home) # Running exact GPU\n",
    "    exact_gpu_precisions.append(p)\n",
    "    exact_gpu_recalls.append(r)\n",
    "    exact_gpu_runtimes.append(t)\n",
    "\n",
    "    p, r, t = run_mult(5, num_points, False, True, grid_n, logging, log_path, dataset, perplexity, data_home) # Running approx. using uniform grid\n",
    "    ugrid_gpu_precisions.append(p)\n",
    "    ugrid_gpu_recalls.append(r)\n",
    "    ugrid_gpu_runtimes.append(t)\n",
    "\n",
    "    p, r, t = run_mult(5, num_points, False, False, 0, logging, log_path, dataset, perplexity, data_home) # Running approx. using quadtree\n",
    "    qtree_cpu_precisions.append(p)\n",
    "    qtree_cpu_recalls.append(r)\n",
    "    qtree_cpu_runtimes.append(t)"
   ]
  },
  {
   "cell_type": "code",
   "execution_count": null,
   "metadata": {},
   "outputs": [],
   "source": [
    "for i in range(len(point_counts)):\n",
    "    data = [exact_gpu_recalls[i], ugrid_gpu_recalls[i], qtree_cpu_recalls[i]]\n",
    "    print(\"precisions: \", exact_gpu_precisions[i])\n",
    "    x_axis = [exact_gpu_precisions[i], ugrid_gpu_precisions[i], qtree_cpu_precisions[i]]\n",
    "    labels = [\"Exact GPU\", f\"Uniform grid ({grid_n*grid_n} cells)\", \"Quadtree\"]\n",
    "    plot_points_separate(data, labels, f\"Precision/recall at {point_counts[i]} points\", \"precision\", \"recall\", x_axis)\n",
    "    \n",
    "data = [exact_gpu_runtimes, ugrid_gpu_runtimes, qtree_cpu_runtimes]\n",
    "labels = [\"Exact GPU\", f\"Uniform grid ({grid_n*grid_n} cells)\", \"Quadtree\"]\n",
    "plot_points(data, labels, f\"Runtimes\", \"number of points\", \"runtime (seconds)\", point_counts)\n",
    "\n",
    "data = [ugrid_gpu_runtimes, qtree_cpu_runtimes]\n",
    "labels = [f\"Uniform grid ({grid_n*grid_n} cells)\", \"Quadtree\"]\n",
    "plot_points(data, labels, f\"Runtimes\", \"number of points\", \"runtime (seconds)\", point_counts)"
   ]
  }
 ],
 "metadata": {
  "language_info": {
   "name": "python"
  }
 },
 "nbformat": 4,
 "nbformat_minor": 2
}
